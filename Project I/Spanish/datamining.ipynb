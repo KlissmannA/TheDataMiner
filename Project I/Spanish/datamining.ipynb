{
 "cells": [
  {
   "cell_type": "markdown",
   "id": "807210d5-b552-4ab2-8518-3734ae97323e",
   "metadata": {},
   "source": [
    "<p style=\"text-align:center; color:navy; font-size: 15px;\">\n",
    "  Realizado por <strong><em>Klissmann Anaclerio.</em></strong><br>\n",
    "  Prohibido su distribución sin autorización.\n",
    "</p>"
   ]
  },
  {
   "cell_type": "markdown",
   "id": "b17825f2-dc23-4cad-8aaf-5f3b29268faf",
   "metadata": {},
   "source": [
    "<p style=\"text-align:center; color: #2C3E50; font-size: 25px;\">\n",
    "  Datamining <span style=\"color:#E74C3C;\">#1</span> Dipositivos Bancarios:\n",
    "</p>"
   ]
  },
  {
   "cell_type": "markdown",
   "id": "4cace3e8-0b44-45fb-9910-43565dbed757",
   "metadata": {},
   "source": [
    "<p style=\"font-size: 16px; color: #333; font-weight: bold; margin-bottom: 10px;\">El proceso de análisis se llevará a cabo utilizando tres lenguajes de programación: <span style=\"color: #0066cc;\">SQL</span>, <span style=\"color: #ff6600;\">Python</span> y <span style=\"color: #28a745;\">R</span>, para responder a las siguientes preguntas:</p>\n",
    "\n",
    "<ul style=\"list-style-type: none; padding-left: 0;\">\n",
    "  <li style=\"font-size: 16px; color: #444; margin-bottom: 8px; line-height: 1.5; padding-left: 20px;\">\n",
    "    <span style=\"font-weight: bold; color: #0066cc;\">1. </span> ¿Cuáles son los barrios en los cuales se realizaron los movimientos de al menos el 51% del dinero total transado por cada cliente?\n",
    "  </li>\n",
    "  \n",
    "  <li style=\"font-size: 16px; color: #444; margin-bottom: 8px; line-height: 1.5; padding-left: 20px;\">\n",
    "    <span style=\"font-weight: bold; color: #ff6600;\">2. </span> ¿Cuáles son los dispositivos con transacciones de al menos 100 clientes diferentes?\n",
    "  </li>\n",
    "\n",
    "  <li style=\"font-size: 16px; color: #444; margin-bottom: 8px; line-height: 1.5; padding-left: 20px;\">\n",
    "    <span style=\"font-weight: bold; color: #28a745;\">3. </span> ¿Cuáles son los 5 barrios donde la mayor cantidad de clientes únicos realizan transacciones en dispositivos tipo POS? La respuesta debe incluir la cantidad de clientes asociados a estos barrios.\n",
    "  </li>\n",
    "\n",
    "  <li style=\"font-size: 16px; color: #444; margin-bottom: 8px; line-height: 1.5; padding-left: 20px;\">\n",
    "    <span style=\"font-weight: bold; color: #dc3545;\">4. </span> ¿Cuáles son las 10 distancias únicas (en kilómetros) de los dispositivos más alejados entre sí del barrio Sucre?\n",
    "  </li>\n",
    "</ul>\n",
    "\n"
   ]
  },
  {
   "cell_type": "markdown",
   "id": "b34ea665-9e46-4754-9b07-b0008285c09f",
   "metadata": {},
   "source": [
    "<p style=\"font-weight: bold; font-size: 16px;\">Información de los .csv:</p>\n",
    "<ul>\n",
    "  <li>Archivos con codificación UTF-8</li>\n",
    "  <li>exa_barrios: Una lista con los barrios (zonas) de una ciudad.</li>\n",
    "  <li>exa_dispositivos: Una lista con dispositivos de canales físicos (sucursales, cajero dispensador y multifuncional, corresponsales bancarios, PAC y establecimientos – POS), incluyendo su posición geográfica.</li>\n",
    "  <li>exa_trx_clientes: Contiene la cantidad y monto de las transacciones de varios clientes realizados en algunos de los anteriores dispositivos.</li>\n",
    "</ul>"
   ]
  },
  {
   "cell_type": "markdown",
   "id": "1c1fa7dc-2601-40e3-834a-947a9fc8c1b3",
   "metadata": {},
   "source": [
    "<p style=\"font-weight: bold; font-size: 16px;\">Advertencia:</p>\n",
    "<p>Los datos contenidos en los archivos CSV son ficticios y solo se utilizan con fines demostrativos. <br> \n",
    "Esto incluye: los nombres de los dispositivos, ubicaciones, clientes, montos y demás información presentada.</p>"
   ]
  },
  {
   "cell_type": "markdown",
   "id": "e526d535-5a76-4c2f-a36a-40d0eb61358d",
   "metadata": {},
   "source": [
    "<p style=\"font-weight: bold; font-size: 16px;\">Información de Sistema:</p>\n",
    "<ul>\n",
    "  <li>Ubuntu Desktop como Sistema Operativo.</li>\n",
    "  <li>CSV cargados en el motor de PostgresSQL-14.</li>\n",
    "  <li>Python 3.12</li>\n",
    "  <li>R 4.1.2</li>\n",
    "</ul>"
   ]
  },
  {
   "cell_type": "markdown",
   "id": "e0d346b1-4e5e-41b6-a4e5-0537c388627d",
   "metadata": {},
   "source": [
    "<p style=\"font-weight: bold; font-size: 16px;\">Enlace para descargar los CSV:</p>\n",
    "<ul>\n",
    "  <li><a href=\"https://github.com/KlissmannA/TheDataMiner/tree/main/Project%20I/Spanish/data\" target=\"_blank\">Github</a></li>\n",
    "</ul>"
   ]
  },
  {
   "cell_type": "markdown",
   "id": "a9d4b6c4-b42d-4bac-ac9f-f7f13b86afc4",
   "metadata": {},
   "source": [
    "<p style=\"font-weight: bold; font-size: 12px;\">dato importante a mencionar: se cambio el nombre de la columna \"num_cliente\" por \"cliente\" en sql</p>"
   ]
  },
  {
   "cell_type": "markdown",
   "id": "ebfabc2b-3ea4-4297-bc53-da626e1a5898",
   "metadata": {},
   "source": [
    "<p style=\"text-align:center; color: #2C3E50; font-size: 25px;\">\n",
    "  Preparación con <span style=\"color:#E74C3C; font-weight: bold;\">Python</span>\n",
    "</p>\n",
    "\n",
    "<img src=\"https://i0.wp.com/junilearning.com/wp-content/uploads/2020/06/python-programming-language.webp?fit=800%2C800&ssl=1\" alt=\"Python Programming\" style=\"display:block; margin:auto; width:15%;\"/>\n"
   ]
  },
  {
   "cell_type": "markdown",
   "id": "b3503221-8628-488f-8299-fd3bfa8569e0",
   "metadata": {},
   "source": [
    "<p style=\"font-weight: bold; font-size: 15px;\">Librerias para python </p>"
   ]
  },
  {
   "cell_type": "code",
   "execution_count": 37,
   "id": "e3ebe7c9-cc04-4040-9a3e-f63214251479",
   "metadata": {},
   "outputs": [],
   "source": [
    "import pandas as pd\n",
    "import os\n",
    "import numpy as np"
   ]
  },
  {
   "cell_type": "markdown",
   "id": "ad678e23-041f-4a1b-b056-809c42425fc8",
   "metadata": {},
   "source": [
    "<p style=\"font-weight: bold; font-size: 15px;\">Directorios archivos con el modulo OS </p>"
   ]
  },
  {
   "cell_type": "code",
   "execution_count": 2,
   "id": "eafa5c74-337f-41af-ad9b-ed96fb38bb64",
   "metadata": {},
   "outputs": [],
   "source": [
    "dir = '/home/u2/Desktop/x'"
   ]
  },
  {
   "cell_type": "code",
   "execution_count": 3,
   "id": "f35a1383-cdc0-48f7-88c0-a4f3652ab5da",
   "metadata": {},
   "outputs": [],
   "source": [
    "barrios = os.path.join(dir,'exa_barrios.csv')\n",
    "\n",
    "dispositivos = os.path.join(dir,'exa_dispositivos.csv')\n",
    "\n",
    "clientes = os.path.join(dir,'exa_trx_clientes.csv')"
   ]
  },
  {
   "cell_type": "markdown",
   "id": "0293fa6c-8186-4a46-9f2b-804e327c2ff7",
   "metadata": {},
   "source": [
    "<p style=\"font-weight: bold; font-size: 15px;\">Leer los CSV con el modulo Pandas</p>"
   ]
  },
  {
   "cell_type": "code",
   "execution_count": 4,
   "id": "882c2f10-4277-4388-8e5e-3c7070e9fde8",
   "metadata": {},
   "outputs": [],
   "source": [
    "df_barrios = pd.read_csv(barrios)\n",
    "\n",
    "df_dispositivos = pd.read_csv(dispositivos)\n",
    "\n",
    "df_clientes = pd.read_csv(clientes)"
   ]
  },
  {
   "cell_type": "markdown",
   "id": "939140f4-f55f-4f86-a00a-2511155e0f4e",
   "metadata": {},
   "source": [
    "<p style=\"font-weight: bold; font-size: 15px;\"> ver detalladamante cada dataframe  con python</p>"
   ]
  },
  {
   "cell_type": "markdown",
   "id": "29a53e20-a5a9-4995-83e7-a71960fb247e",
   "metadata": {},
   "source": [
    "<p style=\"font-weight: bold; font-size: 15px;\"> Barrios. </p>"
   ]
  },
  {
   "cell_type": "code",
   "execution_count": 5,
   "id": "126ee7cb-aa6a-47d2-84ec-9350df744340",
   "metadata": {},
   "outputs": [
    {
     "name": "stdout",
     "output_type": "stream",
     "text": [
      "<class 'pandas.core.frame.DataFrame'>\n",
      "RangeIndex: 337 entries, 0 to 336\n",
      "Data columns (total 2 columns):\n",
      " #   Column         Non-Null Count  Dtype \n",
      "---  ------         --------------  ----- \n",
      " 0   id_barrio      337 non-null    int64 \n",
      " 1   nombre_barrio  337 non-null    object\n",
      "dtypes: int64(1), object(1)\n",
      "memory usage: 5.4+ KB\n",
      "\n",
      "\n"
     ]
    },
    {
     "data": {
      "text/plain": [
       "id_barrio        0\n",
       "nombre_barrio    0\n",
       "dtype: int64"
      ]
     },
     "execution_count": 5,
     "metadata": {},
     "output_type": "execute_result"
    }
   ],
   "source": [
    "df_barrios.info()\n",
    "\n",
    "print('\\n')\n",
    "\n",
    "df_barrios.isnull().sum()"
   ]
  },
  {
   "cell_type": "markdown",
   "id": "154f8240-d2c9-4647-809a-d2cdc50c90ca",
   "metadata": {},
   "source": [
    "<p style=\"font-weight: bold; font-size: 15px;\"> Dispositivos.</p>"
   ]
  },
  {
   "cell_type": "code",
   "execution_count": 6,
   "id": "b79917cd-6603-41aa-9534-01f0d3dcd22a",
   "metadata": {},
   "outputs": [
    {
     "name": "stdout",
     "output_type": "stream",
     "text": [
      "<class 'pandas.core.frame.DataFrame'>\n",
      "RangeIndex: 37284 entries, 0 to 37283\n",
      "Data columns (total 5 columns):\n",
      " #   Column              Non-Null Count  Dtype  \n",
      "---  ------              --------------  -----  \n",
      " 0   tipo_dispositivo    37284 non-null  object \n",
      " 1   codigo_dispositivo  37284 non-null  int64  \n",
      " 2   latitud             37284 non-null  float64\n",
      " 3   longitud            37284 non-null  float64\n",
      " 4   id_barrio           37284 non-null  int64  \n",
      "dtypes: float64(2), int64(2), object(1)\n",
      "memory usage: 1.4+ MB\n",
      "\n",
      "\n"
     ]
    },
    {
     "data": {
      "text/plain": [
       "tipo_dispositivo      0\n",
       "codigo_dispositivo    0\n",
       "latitud               0\n",
       "longitud              0\n",
       "id_barrio             0\n",
       "dtype: int64"
      ]
     },
     "execution_count": 6,
     "metadata": {},
     "output_type": "execute_result"
    }
   ],
   "source": [
    "df_dispositivos.info()\n",
    "\n",
    "print('\\n')\n",
    "\n",
    "df_dispositivos.isnull().sum()"
   ]
  },
  {
   "cell_type": "markdown",
   "id": "ace3e1c4-0084-44b8-99e3-655e0182ae1b",
   "metadata": {},
   "source": [
    "<p style=\"font-weight: bold; font-size: 15px;\"> Clientes.</p>"
   ]
  },
  {
   "cell_type": "code",
   "execution_count": 7,
   "id": "009d66ee-6f33-47a1-819a-67ee98e6c876",
   "metadata": {},
   "outputs": [
    {
     "name": "stdout",
     "output_type": "stream",
     "text": [
      "<class 'pandas.core.frame.DataFrame'>\n",
      "RangeIndex: 93446 entries, 0 to 93445\n",
      "Data columns (total 6 columns):\n",
      " #   Column              Non-Null Count  Dtype  \n",
      "---  ------              --------------  -----  \n",
      " 0   Unnamed: 0          93446 non-null  float64\n",
      " 1   tipo_doc            93446 non-null  int64  \n",
      " 2   tipo_dispositivo    93446 non-null  object \n",
      " 3   codigo_dispositivo  93446 non-null  int64  \n",
      " 4   num_trx             93446 non-null  int64  \n",
      " 5   mnt_total_trx       93446 non-null  float64\n",
      "dtypes: float64(2), int64(3), object(1)\n",
      "memory usage: 4.3+ MB\n",
      "\n",
      "\n"
     ]
    },
    {
     "data": {
      "text/plain": [
       "Unnamed: 0            0\n",
       "tipo_doc              0\n",
       "tipo_dispositivo      0\n",
       "codigo_dispositivo    0\n",
       "num_trx               0\n",
       "mnt_total_trx         0\n",
       "dtype: int64"
      ]
     },
     "execution_count": 7,
     "metadata": {},
     "output_type": "execute_result"
    }
   ],
   "source": [
    "df_clientes.info()\n",
    "\n",
    "print('\\n')\n",
    "\n",
    "df_clientes.isnull().sum()"
   ]
  },
  {
   "cell_type": "markdown",
   "id": "189d41ac-1573-44a8-8bee-cad8c02c19a7",
   "metadata": {},
   "source": [
    "<p style=\"font-weight: bold; font-size: 15px;\">Cambiar el nombre a la columna 'Unnamed' por 'cliente'.</p>"
   ]
  },
  {
   "cell_type": "code",
   "execution_count": 8,
   "id": "8a0be54f-4b7b-4ab4-8dcc-5c3ec132ff76",
   "metadata": {},
   "outputs": [],
   "source": [
    "df_clientes.rename(columns={'Unnamed: 0': 'cliente'}, inplace=True)"
   ]
  },
  {
   "cell_type": "markdown",
   "id": "f8591daa-3425-4239-9f24-b93d7510833d",
   "metadata": {},
   "source": [
    "<p style=\"font-weight: bold; font-size: 15px;\"> Ver los head de cada dataframe con Python.</p>"
   ]
  },
  {
   "cell_type": "code",
   "execution_count": 15,
   "id": "11d8ed9d-b04c-42cc-b6a6-686eb40491f4",
   "metadata": {},
   "outputs": [
    {
     "data": {
      "text/html": [
       "<div>\n",
       "<style scoped>\n",
       "    .dataframe tbody tr th:only-of-type {\n",
       "        vertical-align: middle;\n",
       "    }\n",
       "\n",
       "    .dataframe tbody tr th {\n",
       "        vertical-align: top;\n",
       "    }\n",
       "\n",
       "    .dataframe thead th {\n",
       "        text-align: right;\n",
       "    }\n",
       "</style>\n",
       "<table border=\"1\" class=\"dataframe\">\n",
       "  <thead>\n",
       "    <tr style=\"text-align: right;\">\n",
       "      <th></th>\n",
       "      <th>id_barrio</th>\n",
       "      <th>nombre_barrio</th>\n",
       "    </tr>\n",
       "  </thead>\n",
       "  <tbody>\n",
       "    <tr>\n",
       "      <th>0</th>\n",
       "      <td>737998257</td>\n",
       "      <td>La Campina</td>\n",
       "    </tr>\n",
       "    <tr>\n",
       "      <th>1</th>\n",
       "      <td>737999435</td>\n",
       "      <td>Guayaquil</td>\n",
       "    </tr>\n",
       "    <tr>\n",
       "      <th>2</th>\n",
       "      <td>737998219</td>\n",
       "      <td>Vipasa</td>\n",
       "    </tr>\n",
       "    <tr>\n",
       "      <th>3</th>\n",
       "      <td>737996837</td>\n",
       "      <td>Lourdes</td>\n",
       "    </tr>\n",
       "    <tr>\n",
       "      <th>4</th>\n",
       "      <td>737997031</td>\n",
       "      <td>Villanueva</td>\n",
       "    </tr>\n",
       "  </tbody>\n",
       "</table>\n",
       "</div>"
      ],
      "text/plain": [
       "   id_barrio nombre_barrio\n",
       "0  737998257    La Campina\n",
       "1  737999435     Guayaquil\n",
       "2  737998219        Vipasa\n",
       "3  737996837       Lourdes\n",
       "4  737997031    Villanueva"
      ]
     },
     "execution_count": 15,
     "metadata": {},
     "output_type": "execute_result"
    }
   ],
   "source": [
    "df_barrios.head()"
   ]
  },
  {
   "cell_type": "code",
   "execution_count": 16,
   "id": "e4db6a71-5c08-4948-a712-cc9fd83e8443",
   "metadata": {},
   "outputs": [
    {
     "data": {
      "text/html": [
       "<div>\n",
       "<style scoped>\n",
       "    .dataframe tbody tr th:only-of-type {\n",
       "        vertical-align: middle;\n",
       "    }\n",
       "\n",
       "    .dataframe tbody tr th {\n",
       "        vertical-align: top;\n",
       "    }\n",
       "\n",
       "    .dataframe thead th {\n",
       "        text-align: right;\n",
       "    }\n",
       "</style>\n",
       "<table border=\"1\" class=\"dataframe\">\n",
       "  <thead>\n",
       "    <tr style=\"text-align: right;\">\n",
       "      <th></th>\n",
       "      <th>cliente</th>\n",
       "      <th>tipo_doc</th>\n",
       "      <th>tipo_dispositivo</th>\n",
       "      <th>codigo_dispositivo</th>\n",
       "      <th>num_trx</th>\n",
       "      <th>mnt_total_trx</th>\n",
       "    </tr>\n",
       "  </thead>\n",
       "  <tbody>\n",
       "    <tr>\n",
       "      <th>0</th>\n",
       "      <td>6.861790e+18</td>\n",
       "      <td>1</td>\n",
       "      <td>POS</td>\n",
       "      <td>14812028</td>\n",
       "      <td>3</td>\n",
       "      <td>22218042.0</td>\n",
       "    </tr>\n",
       "    <tr>\n",
       "      <th>1</th>\n",
       "      <td>1.552970e+18</td>\n",
       "      <td>1</td>\n",
       "      <td>POS</td>\n",
       "      <td>14388938</td>\n",
       "      <td>3</td>\n",
       "      <td>21583407.0</td>\n",
       "    </tr>\n",
       "    <tr>\n",
       "      <th>2</th>\n",
       "      <td>-4.075900e+18</td>\n",
       "      <td>1</td>\n",
       "      <td>POS</td>\n",
       "      <td>12370698</td>\n",
       "      <td>1</td>\n",
       "      <td>6185349.0</td>\n",
       "    </tr>\n",
       "    <tr>\n",
       "      <th>3</th>\n",
       "      <td>3.539340e+18</td>\n",
       "      <td>1</td>\n",
       "      <td>POS</td>\n",
       "      <td>10313583</td>\n",
       "      <td>2</td>\n",
       "      <td>10313583.0</td>\n",
       "    </tr>\n",
       "    <tr>\n",
       "      <th>4</th>\n",
       "      <td>5.595550e+18</td>\n",
       "      <td>1</td>\n",
       "      <td>POS</td>\n",
       "      <td>14358071</td>\n",
       "      <td>4</td>\n",
       "      <td>28716142.0</td>\n",
       "    </tr>\n",
       "  </tbody>\n",
       "</table>\n",
       "</div>"
      ],
      "text/plain": [
       "        cliente  tipo_doc tipo_dispositivo  codigo_dispositivo  num_trx  \\\n",
       "0  6.861790e+18         1              POS            14812028        3   \n",
       "1  1.552970e+18         1              POS            14388938        3   \n",
       "2 -4.075900e+18         1              POS            12370698        1   \n",
       "3  3.539340e+18         1              POS            10313583        2   \n",
       "4  5.595550e+18         1              POS            14358071        4   \n",
       "\n",
       "   mnt_total_trx  \n",
       "0     22218042.0  \n",
       "1     21583407.0  \n",
       "2      6185349.0  \n",
       "3     10313583.0  \n",
       "4     28716142.0  "
      ]
     },
     "execution_count": 16,
     "metadata": {},
     "output_type": "execute_result"
    }
   ],
   "source": [
    "df_clientes.head()"
   ]
  },
  {
   "cell_type": "code",
   "execution_count": 17,
   "id": "3f981eed-c242-44bf-ad72-a67c3d4b8b9c",
   "metadata": {},
   "outputs": [
    {
     "data": {
      "text/html": [
       "<div>\n",
       "<style scoped>\n",
       "    .dataframe tbody tr th:only-of-type {\n",
       "        vertical-align: middle;\n",
       "    }\n",
       "\n",
       "    .dataframe tbody tr th {\n",
       "        vertical-align: top;\n",
       "    }\n",
       "\n",
       "    .dataframe thead th {\n",
       "        text-align: right;\n",
       "    }\n",
       "</style>\n",
       "<table border=\"1\" class=\"dataframe\">\n",
       "  <thead>\n",
       "    <tr style=\"text-align: right;\">\n",
       "      <th></th>\n",
       "      <th>tipo_dispositivo</th>\n",
       "      <th>codigo_dispositivo</th>\n",
       "      <th>latitud</th>\n",
       "      <th>longitud</th>\n",
       "      <th>id_barrio</th>\n",
       "    </tr>\n",
       "  </thead>\n",
       "  <tbody>\n",
       "    <tr>\n",
       "      <th>0</th>\n",
       "      <td>POS</td>\n",
       "      <td>1024702</td>\n",
       "      <td>3.451135</td>\n",
       "      <td>-76.530893</td>\n",
       "      <td>737998832</td>\n",
       "    </tr>\n",
       "    <tr>\n",
       "      <th>1</th>\n",
       "      <td>POS</td>\n",
       "      <td>1076402</td>\n",
       "      <td>3.446585</td>\n",
       "      <td>-76.517672</td>\n",
       "      <td>738000381</td>\n",
       "    </tr>\n",
       "    <tr>\n",
       "      <th>2</th>\n",
       "      <td>POS</td>\n",
       "      <td>1077002</td>\n",
       "      <td>3.446585</td>\n",
       "      <td>-76.517672</td>\n",
       "      <td>738000381</td>\n",
       "    </tr>\n",
       "    <tr>\n",
       "      <th>3</th>\n",
       "      <td>POS</td>\n",
       "      <td>3342404</td>\n",
       "      <td>3.476909</td>\n",
       "      <td>-76.485286</td>\n",
       "      <td>737998905</td>\n",
       "    </tr>\n",
       "    <tr>\n",
       "      <th>4</th>\n",
       "      <td>POS</td>\n",
       "      <td>3378003</td>\n",
       "      <td>3.485575</td>\n",
       "      <td>-76.516418</td>\n",
       "      <td>737998174</td>\n",
       "    </tr>\n",
       "  </tbody>\n",
       "</table>\n",
       "</div>"
      ],
      "text/plain": [
       "  tipo_dispositivo  codigo_dispositivo   latitud   longitud  id_barrio\n",
       "0              POS             1024702  3.451135 -76.530893  737998832\n",
       "1              POS             1076402  3.446585 -76.517672  738000381\n",
       "2              POS             1077002  3.446585 -76.517672  738000381\n",
       "3              POS             3342404  3.476909 -76.485286  737998905\n",
       "4              POS             3378003  3.485575 -76.516418  737998174"
      ]
     },
     "execution_count": 17,
     "metadata": {},
     "output_type": "execute_result"
    }
   ],
   "source": [
    "df_dispositivos.head()"
   ]
  },
  {
   "cell_type": "markdown",
   "id": "7e875e32-628b-4917-a42f-f1f23e4ce22e",
   "metadata": {},
   "source": [
    "<p style=\"text-align:center; color: #2C3E50; font-size: 25px;\">\n",
    "  Preparación con <span style=\"color:#E74C3C; font-weight: bold;\">R</span>\n",
    "</p>\n",
    "\n",
    "<img src=\"https://media.licdn.com/dms/image/v2/C5112AQGwFKL8eouK0A/article-cover_image-shrink_600_2000/article-cover_image-shrink_600_2000/0/1523824114776?e=2147483647&v=beta&t=VdgLZlvJCA0vUzucSk-ElXr0oV5X324LhVNLLcmNZLk\" style=\"display:block; margin:auto; width:15%;\"/>\n"
   ]
  },
  {
   "cell_type": "markdown",
   "id": "7a88acc9-cdc7-43a5-9e45-53bc0601e1f4",
   "metadata": {},
   "source": [
    "<p style=\"font-weight: bold; font-size: 15px;\">Librerias para R </p>"
   ]
  },
  {
   "cell_type": "code",
   "execution_count": 45,
   "id": "bbbad894-03a8-46fe-b5f6-990eaf394ab4",
   "metadata": {},
   "outputs": [],
   "source": [
    "library(dplyr)\n",
    "library(readr)\n",
    "library(pracma)"
   ]
  },
  {
   "cell_type": "markdown",
   "id": "ded7eead-8600-4ad7-ac67-78c45805664e",
   "metadata": {},
   "source": [
    "<p style=\"font-weight: bold; font-size: 15px;\">Directorios archivos con la libreria read y crear los df.</p>"
   ]
  },
  {
   "cell_type": "code",
   "execution_count": 3,
   "id": "4a79efa7-808d-48f1-bb28-91026bca8f67",
   "metadata": {},
   "outputs": [],
   "source": [
    "dir_R <- '/home/u2/Desktop/x'"
   ]
  },
  {
   "cell_type": "code",
   "execution_count": 4,
   "id": "9bcaaf32-db7d-4735-b95a-0b89d705a956",
   "metadata": {},
   "outputs": [],
   "source": [
    "dfr_barrios <- read_csv(file.path(dir_R,'exa_barrios.csv'), show_col_types = FALSE)\n",
    "\n",
    "dfr_dispositivos <- read_csv(file.path(dir_R,'exa_dispositivos.csv'), show_col_types = FALSE)\n",
    "\n",
    "dfr_clientes <- read_csv(file.path(dir_R,'exa_trx_clientes.csv'), show_col_types = FALSE)"
   ]
  },
  {
   "cell_type": "markdown",
   "id": "83ab3729-98df-442c-ad9c-ed95af5c4b99",
   "metadata": {},
   "source": [
    "<p style=\"font-weight: bold; font-size: 15px;\"> cambiar de num_cliente a cliente</p>"
   ]
  },
  {
   "cell_type": "code",
   "execution_count": 5,
   "id": "4cb9f6b2-a3fc-4ac8-9403-dfb9ee55f139",
   "metadata": {},
   "outputs": [],
   "source": [
    "dfr_clientes <- dfr_clientes %>%\n",
    "  rename( cliente = num_cliente ) "
   ]
  },
  {
   "cell_type": "markdown",
   "id": "ce7f2e24-edef-407f-b16c-4e58e0b09fd3",
   "metadata": {},
   "source": [
    "<p style=\"font-weight: bold; font-size: 15px;\"> ver detalladamante cada dataframe con R</p>"
   ]
  },
  {
   "cell_type": "code",
   "execution_count": 6,
   "id": "f34745ab-568c-4510-a2f3-6953a9da85aa",
   "metadata": {},
   "outputs": [
    {
     "data": {
      "text/html": [
       "<table class=\"dataframe\">\n",
       "<caption>A tibble: 5 × 2</caption>\n",
       "<thead>\n",
       "\t<tr><th scope=col>id_barrio</th><th scope=col>nombre_barrio</th></tr>\n",
       "\t<tr><th scope=col>&lt;dbl&gt;</th><th scope=col>&lt;chr&gt;</th></tr>\n",
       "</thead>\n",
       "<tbody>\n",
       "\t<tr><td>737998257</td><td>La Campina</td></tr>\n",
       "\t<tr><td>737999435</td><td>Guayaquil </td></tr>\n",
       "\t<tr><td>737998219</td><td>Vipasa    </td></tr>\n",
       "\t<tr><td>737996837</td><td>Lourdes   </td></tr>\n",
       "\t<tr><td>737997031</td><td>Villanueva</td></tr>\n",
       "</tbody>\n",
       "</table>\n"
      ],
      "text/latex": [
       "A tibble: 5 × 2\n",
       "\\begin{tabular}{ll}\n",
       " id\\_barrio & nombre\\_barrio\\\\\n",
       " <dbl> & <chr>\\\\\n",
       "\\hline\n",
       "\t 737998257 & La Campina\\\\\n",
       "\t 737999435 & Guayaquil \\\\\n",
       "\t 737998219 & Vipasa    \\\\\n",
       "\t 737996837 & Lourdes   \\\\\n",
       "\t 737997031 & Villanueva\\\\\n",
       "\\end{tabular}\n"
      ],
      "text/markdown": [
       "\n",
       "A tibble: 5 × 2\n",
       "\n",
       "| id_barrio &lt;dbl&gt; | nombre_barrio &lt;chr&gt; |\n",
       "|---|---|\n",
       "| 737998257 | La Campina |\n",
       "| 737999435 | Guayaquil  |\n",
       "| 737998219 | Vipasa     |\n",
       "| 737996837 | Lourdes    |\n",
       "| 737997031 | Villanueva |\n",
       "\n"
      ],
      "text/plain": [
       "  id_barrio nombre_barrio\n",
       "1 737998257 La Campina   \n",
       "2 737999435 Guayaquil    \n",
       "3 737998219 Vipasa       \n",
       "4 737996837 Lourdes      \n",
       "5 737997031 Villanueva   "
      ]
     },
     "metadata": {},
     "output_type": "display_data"
    }
   ],
   "source": [
    "head(dfr_barrios,5)"
   ]
  },
  {
   "cell_type": "code",
   "execution_count": 7,
   "id": "8fe66089-7d2c-44d9-9d08-e9c598494d22",
   "metadata": {},
   "outputs": [
    {
     "name": "stdout",
     "output_type": "stream",
     "text": [
      "spc_tbl_ [337 × 2] (S3: spec_tbl_df/tbl_df/tbl/data.frame)\n",
      " $ id_barrio    : num [1:337] 7.38e+08 7.38e+08 7.38e+08 7.38e+08 7.38e+08 ...\n",
      " $ nombre_barrio: chr [1:337] \"La Campina\" \"Guayaquil\" \"Vipasa\" \"Lourdes\" ...\n",
      " - attr(*, \"spec\")=\n",
      "  .. cols(\n",
      "  ..   id_barrio = \u001b[32mcol_double()\u001b[39m,\n",
      "  ..   nombre_barrio = \u001b[31mcol_character()\u001b[39m\n",
      "  .. )\n",
      " - attr(*, \"problems\")=<externalptr> \n"
     ]
    }
   ],
   "source": [
    "str(dfr_barrios)"
   ]
  },
  {
   "cell_type": "code",
   "execution_count": 8,
   "id": "b4632b50-fe43-4ce8-809a-793669a1d4f1",
   "metadata": {},
   "outputs": [
    {
     "data": {
      "text/html": [
       "<table class=\"dataframe\">\n",
       "<caption>A tibble: 5 × 5</caption>\n",
       "<thead>\n",
       "\t<tr><th scope=col>tipo_dispositivo</th><th scope=col>codigo_dispositivo</th><th scope=col>latitud</th><th scope=col>longitud</th><th scope=col>id_barrio</th></tr>\n",
       "\t<tr><th scope=col>&lt;chr&gt;</th><th scope=col>&lt;dbl&gt;</th><th scope=col>&lt;dbl&gt;</th><th scope=col>&lt;dbl&gt;</th><th scope=col>&lt;dbl&gt;</th></tr>\n",
       "</thead>\n",
       "<tbody>\n",
       "\t<tr><td>POS</td><td>1024702</td><td>3.451135</td><td>-76.53089</td><td>737998832</td></tr>\n",
       "\t<tr><td>POS</td><td>1076402</td><td>3.446585</td><td>-76.51767</td><td>738000381</td></tr>\n",
       "\t<tr><td>POS</td><td>1077002</td><td>3.446585</td><td>-76.51767</td><td>738000381</td></tr>\n",
       "\t<tr><td>POS</td><td>3342404</td><td>3.476909</td><td>-76.48529</td><td>737998905</td></tr>\n",
       "\t<tr><td>POS</td><td>3378003</td><td>3.485575</td><td>-76.51642</td><td>737998174</td></tr>\n",
       "</tbody>\n",
       "</table>\n"
      ],
      "text/latex": [
       "A tibble: 5 × 5\n",
       "\\begin{tabular}{lllll}\n",
       " tipo\\_dispositivo & codigo\\_dispositivo & latitud & longitud & id\\_barrio\\\\\n",
       " <chr> & <dbl> & <dbl> & <dbl> & <dbl>\\\\\n",
       "\\hline\n",
       "\t POS & 1024702 & 3.451135 & -76.53089 & 737998832\\\\\n",
       "\t POS & 1076402 & 3.446585 & -76.51767 & 738000381\\\\\n",
       "\t POS & 1077002 & 3.446585 & -76.51767 & 738000381\\\\\n",
       "\t POS & 3342404 & 3.476909 & -76.48529 & 737998905\\\\\n",
       "\t POS & 3378003 & 3.485575 & -76.51642 & 737998174\\\\\n",
       "\\end{tabular}\n"
      ],
      "text/markdown": [
       "\n",
       "A tibble: 5 × 5\n",
       "\n",
       "| tipo_dispositivo &lt;chr&gt; | codigo_dispositivo &lt;dbl&gt; | latitud &lt;dbl&gt; | longitud &lt;dbl&gt; | id_barrio &lt;dbl&gt; |\n",
       "|---|---|---|---|---|\n",
       "| POS | 1024702 | 3.451135 | -76.53089 | 737998832 |\n",
       "| POS | 1076402 | 3.446585 | -76.51767 | 738000381 |\n",
       "| POS | 1077002 | 3.446585 | -76.51767 | 738000381 |\n",
       "| POS | 3342404 | 3.476909 | -76.48529 | 737998905 |\n",
       "| POS | 3378003 | 3.485575 | -76.51642 | 737998174 |\n",
       "\n"
      ],
      "text/plain": [
       "  tipo_dispositivo codigo_dispositivo latitud  longitud  id_barrio\n",
       "1 POS              1024702            3.451135 -76.53089 737998832\n",
       "2 POS              1076402            3.446585 -76.51767 738000381\n",
       "3 POS              1077002            3.446585 -76.51767 738000381\n",
       "4 POS              3342404            3.476909 -76.48529 737998905\n",
       "5 POS              3378003            3.485575 -76.51642 737998174"
      ]
     },
     "metadata": {},
     "output_type": "display_data"
    }
   ],
   "source": [
    "head(dfr_dispositivos,5)"
   ]
  },
  {
   "cell_type": "code",
   "execution_count": 9,
   "id": "cd219d37-b835-4174-b367-f60c35829d3b",
   "metadata": {},
   "outputs": [
    {
     "name": "stdout",
     "output_type": "stream",
     "text": [
      "spc_tbl_ [37,284 × 5] (S3: spec_tbl_df/tbl_df/tbl/data.frame)\n",
      " $ tipo_dispositivo  : chr [1:37284] \"POS\" \"POS\" \"POS\" \"POS\" ...\n",
      " $ codigo_dispositivo: num [1:37284] 1024702 1076402 1077002 3342404 3378003 ...\n",
      " $ latitud           : num [1:37284] 3.45 3.45 3.45 3.48 3.49 ...\n",
      " $ longitud          : num [1:37284] -76.5 -76.5 -76.5 -76.5 -76.5 ...\n",
      " $ id_barrio         : num [1:37284] 7.38e+08 7.38e+08 7.38e+08 7.38e+08 7.38e+08 ...\n",
      " - attr(*, \"spec\")=\n",
      "  .. cols(\n",
      "  ..   tipo_dispositivo = \u001b[31mcol_character()\u001b[39m,\n",
      "  ..   codigo_dispositivo = \u001b[32mcol_double()\u001b[39m,\n",
      "  ..   latitud = \u001b[32mcol_double()\u001b[39m,\n",
      "  ..   longitud = \u001b[32mcol_double()\u001b[39m,\n",
      "  ..   id_barrio = \u001b[32mcol_double()\u001b[39m\n",
      "  .. )\n",
      " - attr(*, \"problems\")=<externalptr> \n"
     ]
    }
   ],
   "source": [
    "str(dfr_dispositivos)"
   ]
  },
  {
   "cell_type": "code",
   "execution_count": 10,
   "id": "03c80fca-f9d1-4309-bb46-f4251f7cccc2",
   "metadata": {},
   "outputs": [
    {
     "data": {
      "text/html": [
       "<table class=\"dataframe\">\n",
       "<caption>A tibble: 5 × 6</caption>\n",
       "<thead>\n",
       "\t<tr><th scope=col>cliente</th><th scope=col>tipo_doc</th><th scope=col>tipo_dispositivo</th><th scope=col>codigo_dispositivo</th><th scope=col>num_trx</th><th scope=col>mnt_total_trx</th></tr>\n",
       "\t<tr><th scope=col>&lt;dbl&gt;</th><th scope=col>&lt;dbl&gt;</th><th scope=col>&lt;chr&gt;</th><th scope=col>&lt;dbl&gt;</th><th scope=col>&lt;dbl&gt;</th><th scope=col>&lt;dbl&gt;</th></tr>\n",
       "</thead>\n",
       "<tbody>\n",
       "\t<tr><td> 6.86179e+18</td><td>1</td><td>POS</td><td>14812028</td><td>3</td><td>22218042</td></tr>\n",
       "\t<tr><td> 1.55297e+18</td><td>1</td><td>POS</td><td>14388938</td><td>3</td><td>21583407</td></tr>\n",
       "\t<tr><td>-4.07590e+18</td><td>1</td><td>POS</td><td>12370698</td><td>1</td><td> 6185349</td></tr>\n",
       "\t<tr><td> 3.53934e+18</td><td>1</td><td>POS</td><td>10313583</td><td>2</td><td>10313583</td></tr>\n",
       "\t<tr><td> 5.59555e+18</td><td>1</td><td>POS</td><td>14358071</td><td>4</td><td>28716142</td></tr>\n",
       "</tbody>\n",
       "</table>\n"
      ],
      "text/latex": [
       "A tibble: 5 × 6\n",
       "\\begin{tabular}{llllll}\n",
       " cliente & tipo\\_doc & tipo\\_dispositivo & codigo\\_dispositivo & num\\_trx & mnt\\_total\\_trx\\\\\n",
       " <dbl> & <dbl> & <chr> & <dbl> & <dbl> & <dbl>\\\\\n",
       "\\hline\n",
       "\t  6.86179e+18 & 1 & POS & 14812028 & 3 & 22218042\\\\\n",
       "\t  1.55297e+18 & 1 & POS & 14388938 & 3 & 21583407\\\\\n",
       "\t -4.07590e+18 & 1 & POS & 12370698 & 1 &  6185349\\\\\n",
       "\t  3.53934e+18 & 1 & POS & 10313583 & 2 & 10313583\\\\\n",
       "\t  5.59555e+18 & 1 & POS & 14358071 & 4 & 28716142\\\\\n",
       "\\end{tabular}\n"
      ],
      "text/markdown": [
       "\n",
       "A tibble: 5 × 6\n",
       "\n",
       "| cliente &lt;dbl&gt; | tipo_doc &lt;dbl&gt; | tipo_dispositivo &lt;chr&gt; | codigo_dispositivo &lt;dbl&gt; | num_trx &lt;dbl&gt; | mnt_total_trx &lt;dbl&gt; |\n",
       "|---|---|---|---|---|---|\n",
       "|  6.86179e+18 | 1 | POS | 14812028 | 3 | 22218042 |\n",
       "|  1.55297e+18 | 1 | POS | 14388938 | 3 | 21583407 |\n",
       "| -4.07590e+18 | 1 | POS | 12370698 | 1 |  6185349 |\n",
       "|  3.53934e+18 | 1 | POS | 10313583 | 2 | 10313583 |\n",
       "|  5.59555e+18 | 1 | POS | 14358071 | 4 | 28716142 |\n",
       "\n"
      ],
      "text/plain": [
       "  cliente      tipo_doc tipo_dispositivo codigo_dispositivo num_trx\n",
       "1  6.86179e+18 1        POS              14812028           3      \n",
       "2  1.55297e+18 1        POS              14388938           3      \n",
       "3 -4.07590e+18 1        POS              12370698           1      \n",
       "4  3.53934e+18 1        POS              10313583           2      \n",
       "5  5.59555e+18 1        POS              14358071           4      \n",
       "  mnt_total_trx\n",
       "1 22218042     \n",
       "2 21583407     \n",
       "3  6185349     \n",
       "4 10313583     \n",
       "5 28716142     "
      ]
     },
     "metadata": {},
     "output_type": "display_data"
    }
   ],
   "source": [
    "head(dfr_clientes,5)"
   ]
  },
  {
   "cell_type": "code",
   "execution_count": 11,
   "id": "51d8b160-6cc6-4149-9c12-4f4b0e63433b",
   "metadata": {},
   "outputs": [
    {
     "name": "stdout",
     "output_type": "stream",
     "text": [
      "spc_tbl_ [93,446 × 6] (S3: spec_tbl_df/tbl_df/tbl/data.frame)\n",
      " $ cliente           : num [1:93446] 6.86e+18 1.55e+18 -4.08e+18 3.54e+18 5.60e+18 ...\n",
      " $ tipo_doc          : num [1:93446] 1 1 1 1 1 1 1 1 1 1 ...\n",
      " $ tipo_dispositivo  : chr [1:93446] \"POS\" \"POS\" \"POS\" \"POS\" ...\n",
      " $ codigo_dispositivo: num [1:93446] 14812028 14388938 12370698 10313583 14358071 ...\n",
      " $ num_trx           : num [1:93446] 3 3 1 2 4 1 1 1 1 1 ...\n",
      " $ mnt_total_trx     : num [1:93446] 22218042 21583407 6185349 10313583 28716142 ...\n",
      " - attr(*, \"spec\")=\n",
      "  .. cols(\n",
      "  ..   num_cliente = \u001b[32mcol_double()\u001b[39m,\n",
      "  ..   tipo_doc = \u001b[32mcol_double()\u001b[39m,\n",
      "  ..   tipo_dispositivo = \u001b[31mcol_character()\u001b[39m,\n",
      "  ..   codigo_dispositivo = \u001b[32mcol_double()\u001b[39m,\n",
      "  ..   num_trx = \u001b[32mcol_double()\u001b[39m,\n",
      "  ..   mnt_total_trx = \u001b[32mcol_double()\u001b[39m\n",
      "  .. )\n",
      " - attr(*, \"problems\")=<externalptr> \n"
     ]
    }
   ],
   "source": [
    "str(dfr_clientes)"
   ]
  },
  {
   "cell_type": "markdown",
   "id": "745d7e86-884c-4460-b7a8-29c9dc707296",
   "metadata": {},
   "source": [
    "<p style=\"font-weight: bold; font-size: 15px;\"> validar valores nulos</p>"
   ]
  },
  {
   "cell_type": "code",
   "execution_count": 12,
   "id": "c7bf4820-7cfa-4083-a534-5afe4d399157",
   "metadata": {},
   "outputs": [
    {
     "data": {
      "text/html": [
       "<style>\n",
       ".dl-inline {width: auto; margin:0; padding: 0}\n",
       ".dl-inline>dt, .dl-inline>dd {float: none; width: auto; display: inline-block}\n",
       ".dl-inline>dt::after {content: \":\\0020\"; padding-right: .5ex}\n",
       ".dl-inline>dt:not(:first-of-type) {padding-left: .5ex}\n",
       "</style><dl class=dl-inline><dt>id_barrio</dt><dd>0</dd><dt>nombre_barrio</dt><dd>0</dd></dl>\n"
      ],
      "text/latex": [
       "\\begin{description*}\n",
       "\\item[id\\textbackslash{}\\_barrio] 0\n",
       "\\item[nombre\\textbackslash{}\\_barrio] 0\n",
       "\\end{description*}\n"
      ],
      "text/markdown": [
       "id_barrio\n",
       ":   0nombre_barrio\n",
       ":   0\n",
       "\n"
      ],
      "text/plain": [
       "    id_barrio nombre_barrio \n",
       "            0             0 "
      ]
     },
     "metadata": {},
     "output_type": "display_data"
    },
    {
     "data": {
      "text/html": [
       "<style>\n",
       ".dl-inline {width: auto; margin:0; padding: 0}\n",
       ".dl-inline>dt, .dl-inline>dd {float: none; width: auto; display: inline-block}\n",
       ".dl-inline>dt::after {content: \":\\0020\"; padding-right: .5ex}\n",
       ".dl-inline>dt:not(:first-of-type) {padding-left: .5ex}\n",
       "</style><dl class=dl-inline><dt>cliente</dt><dd>0</dd><dt>tipo_doc</dt><dd>0</dd><dt>tipo_dispositivo</dt><dd>0</dd><dt>codigo_dispositivo</dt><dd>0</dd><dt>num_trx</dt><dd>0</dd><dt>mnt_total_trx</dt><dd>0</dd></dl>\n"
      ],
      "text/latex": [
       "\\begin{description*}\n",
       "\\item[cliente] 0\n",
       "\\item[tipo\\textbackslash{}\\_doc] 0\n",
       "\\item[tipo\\textbackslash{}\\_dispositivo] 0\n",
       "\\item[codigo\\textbackslash{}\\_dispositivo] 0\n",
       "\\item[num\\textbackslash{}\\_trx] 0\n",
       "\\item[mnt\\textbackslash{}\\_total\\textbackslash{}\\_trx] 0\n",
       "\\end{description*}\n"
      ],
      "text/markdown": [
       "cliente\n",
       ":   0tipo_doc\n",
       ":   0tipo_dispositivo\n",
       ":   0codigo_dispositivo\n",
       ":   0num_trx\n",
       ":   0mnt_total_trx\n",
       ":   0\n",
       "\n"
      ],
      "text/plain": [
       "           cliente           tipo_doc   tipo_dispositivo codigo_dispositivo \n",
       "                 0                  0                  0                  0 \n",
       "           num_trx      mnt_total_trx \n",
       "                 0                  0 "
      ]
     },
     "metadata": {},
     "output_type": "display_data"
    },
    {
     "data": {
      "text/html": [
       "<style>\n",
       ".dl-inline {width: auto; margin:0; padding: 0}\n",
       ".dl-inline>dt, .dl-inline>dd {float: none; width: auto; display: inline-block}\n",
       ".dl-inline>dt::after {content: \":\\0020\"; padding-right: .5ex}\n",
       ".dl-inline>dt:not(:first-of-type) {padding-left: .5ex}\n",
       "</style><dl class=dl-inline><dt>tipo_dispositivo</dt><dd>0</dd><dt>codigo_dispositivo</dt><dd>0</dd><dt>latitud</dt><dd>0</dd><dt>longitud</dt><dd>0</dd><dt>id_barrio</dt><dd>0</dd></dl>\n"
      ],
      "text/latex": [
       "\\begin{description*}\n",
       "\\item[tipo\\textbackslash{}\\_dispositivo] 0\n",
       "\\item[codigo\\textbackslash{}\\_dispositivo] 0\n",
       "\\item[latitud] 0\n",
       "\\item[longitud] 0\n",
       "\\item[id\\textbackslash{}\\_barrio] 0\n",
       "\\end{description*}\n"
      ],
      "text/markdown": [
       "tipo_dispositivo\n",
       ":   0codigo_dispositivo\n",
       ":   0latitud\n",
       ":   0longitud\n",
       ":   0id_barrio\n",
       ":   0\n",
       "\n"
      ],
      "text/plain": [
       "  tipo_dispositivo codigo_dispositivo            latitud           longitud \n",
       "                 0                  0                  0                  0 \n",
       "         id_barrio \n",
       "                 0 "
      ]
     },
     "metadata": {},
     "output_type": "display_data"
    }
   ],
   "source": [
    "missing_Valuesb <-  sapply(dfr_barrios, function(x) sum(is.na(x)))\n",
    "missing_Valuesc <- sapply(dfr_clientes, function(x) sum(is.na(x)))\n",
    "missing_Valuesd <- sapply(dfr_dispositivos, function(x) sum(is.na(x)))\n",
    "\n",
    "missing_Valuesb\n",
    "missing_Valuesc\n",
    "missing_Valuesd                        "
   ]
  },
  {
   "cell_type": "markdown",
   "id": "d7b2e7e8-620a-40d0-b84d-3b7f67306e20",
   "metadata": {},
   "source": [
    "<p style=\"font-weight: bold; font-size: 15px;\">Preguntas </p>"
   ]
  },
  {
   "cell_type": "markdown",
   "id": "9c29cd66-5351-4757-af6b-5f8a8ab84bf4",
   "metadata": {},
   "source": [
    "<p style=\"font-weight: bold; font-size: 15px;\">1.\t¿Cuáles son los barrios en los cuales se realizaron los movimientos de al menos el 51% del dinero total tranzado por cada cliente? Considere que los clientes pueden tener más de un barrio. </p>"
   ]
  },
  {
   "cell_type": "markdown",
   "id": "f2b22ae4-fd92-440b-9845-ef86dc2e2010",
   "metadata": {},
   "source": [
    "<p style=\"font-weight: bold; font-size: 15px;\">SQL </p>"
   ]
  },
  {
   "cell_type": "markdown",
   "id": "7abe8cb4-87e0-4ccf-9916-49a824a09f1b",
   "metadata": {},
   "source": [
    "<div style=\"background-color: #f9f9f9; padding: 20px; border-radius: 10px; border: 1px solid #ddd; font-family: 'Courier New', monospace; font-size: 16px;\">\n",
    "    <pre><code style=\"color: #2E8B57;\">\n",
    "WITH dinerototal AS (\n",
    "SELECT cliente, \n",
    "SUM(mnt_total_trx) AS dineroxcliente \n",
    "FROM clientes c \n",
    "GROUP BY cliente\n",
    "), \n",
    "dinerobarrio AS (\n",
    "SELECT b.nombre_barrio, \n",
    "cliente, \n",
    "SUM(mnt_total_trx) AS dinerobarriocliente \n",
    "FROM clientes c \n",
    "LEFT JOIN dispositivos d ON d.codigo_dispositivo = c.codigo_dispositivo \n",
    "LEFT JOIN barrios b ON b.id_barrio = d.id_barrio \n",
    "GROUP BY b.nombre_barrio, cliente\n",
    ") \n",
    "SELECT nombre_barrio, db.cliente \n",
    "FROM dinerobarrio db \n",
    "LEFT JOIN dinerototal dt ON dt.cliente = db.cliente \n",
    "WHERE db.dinerobarriocliente >= 0.51 * dineroxcliente;\n",
    "    </code></pre>\n",
    "</div>"
   ]
  },
  {
   "cell_type": "markdown",
   "id": "c934039b-69ca-403a-a342-29e2e85f8abc",
   "metadata": {},
   "source": [
    "<p style=\"font-weight: bold; font-size: 15px;\"> Explicación:\n",
    "\n",
    "En la consulta se realizaron las siguientes operaciones:\n",
    "\n",
    "Cálculo del dinero total por cliente: Se utilizó una subconsulta para calcular el total transaccionado por cada cliente, sumando el monto de todas sus transacciones.\n",
    "\n",
    "Cálculo del dinero transaccionado por barrio: En otra subconsulta, se sumaron las transacciones realizadas por cada cliente en cada barrio, usando un LEFT JOIN entre las tablas correspondientes para asegurar que todos los barrios, incluso aquellos sin transacciones, estuvieran representados.\n",
    "\n",
    "Comparación de montos: Se unieron los resultados de ambas subconsultas y se aplicó una cláusula WHERE para filtrar los casos donde el dinero transaccionado en el barrio representaba al menos el 51% del total transaccionado por el cliente. Esto garantiza que solo se muestren los barrios relevantes según el criterio especificado.\n",
    "\n",
    "Resultado final: El resultado muestra los barrios en los que un cliente ha realizado transacciones por al menos el 51% de su gasto total, considerando que un cliente puede tener más de un barrio asociado. </p>"
   ]
  },
  {
   "cell_type": "markdown",
   "id": "b54eaa7d-884c-4c1a-ae81-eeb1315491c8",
   "metadata": {},
   "source": [
    "<p style=\"font-weight: bold; font-size: 15px;\">Python Code: </p>"
   ]
  },
  {
   "cell_type": "code",
   "execution_count": 12,
   "id": "d1977f2d-efe6-4f4e-8570-53700d44d322",
   "metadata": {},
   "outputs": [
    {
     "data": {
      "text/html": [
       "<div>\n",
       "<style scoped>\n",
       "    .dataframe tbody tr th:only-of-type {\n",
       "        vertical-align: middle;\n",
       "    }\n",
       "\n",
       "    .dataframe tbody tr th {\n",
       "        vertical-align: top;\n",
       "    }\n",
       "\n",
       "    .dataframe thead th {\n",
       "        text-align: right;\n",
       "    }\n",
       "</style>\n",
       "<table border=\"1\" class=\"dataframe\">\n",
       "  <thead>\n",
       "    <tr style=\"text-align: right;\">\n",
       "      <th></th>\n",
       "      <th>nombre_barrio</th>\n",
       "      <th>cliente</th>\n",
       "    </tr>\n",
       "  </thead>\n",
       "  <tbody>\n",
       "    <tr>\n",
       "      <th>8</th>\n",
       "      <td>Urbanización Militar</td>\n",
       "      <td>-9.214610e+18</td>\n",
       "    </tr>\n",
       "    <tr>\n",
       "      <th>9</th>\n",
       "      <td>San Vicente</td>\n",
       "      <td>-9.211520e+18</td>\n",
       "    </tr>\n",
       "    <tr>\n",
       "      <th>10</th>\n",
       "      <td>San Fernando Nuevo</td>\n",
       "      <td>-9.210960e+18</td>\n",
       "    </tr>\n",
       "    <tr>\n",
       "      <th>18</th>\n",
       "      <td>Urbanización San Juaquín</td>\n",
       "      <td>-9.204170e+18</td>\n",
       "    </tr>\n",
       "    <tr>\n",
       "      <th>35</th>\n",
       "      <td>Versalles</td>\n",
       "      <td>-9.201710e+18</td>\n",
       "    </tr>\n",
       "    <tr>\n",
       "      <th>37</th>\n",
       "      <td>Colseguros Andes</td>\n",
       "      <td>-9.201640e+18</td>\n",
       "    </tr>\n",
       "    <tr>\n",
       "      <th>38</th>\n",
       "      <td>Ciudad 2000</td>\n",
       "      <td>-9.191710e+18</td>\n",
       "    </tr>\n",
       "    <tr>\n",
       "      <th>39</th>\n",
       "      <td>Calima</td>\n",
       "      <td>-9.186690e+18</td>\n",
       "    </tr>\n",
       "    <tr>\n",
       "      <th>61</th>\n",
       "      <td>Olaya Herrera</td>\n",
       "      <td>-9.185850e+18</td>\n",
       "    </tr>\n",
       "    <tr>\n",
       "      <th>65</th>\n",
       "      <td>Los Alcázares</td>\n",
       "      <td>-9.183470e+18</td>\n",
       "    </tr>\n",
       "  </tbody>\n",
       "</table>\n",
       "</div>"
      ],
      "text/plain": [
       "               nombre_barrio       cliente\n",
       "8       Urbanización Militar -9.214610e+18\n",
       "9                San Vicente -9.211520e+18\n",
       "10        San Fernando Nuevo -9.210960e+18\n",
       "18  Urbanización San Juaquín -9.204170e+18\n",
       "35                 Versalles -9.201710e+18\n",
       "37          Colseguros Andes -9.201640e+18\n",
       "38               Ciudad 2000 -9.191710e+18\n",
       "39                    Calima -9.186690e+18\n",
       "61             Olaya Herrera -9.185850e+18\n",
       "65             Los Alcázares -9.183470e+18"
      ]
     },
     "execution_count": 12,
     "metadata": {},
     "output_type": "execute_result"
    }
   ],
   "source": [
    "df1 = df_clientes\n",
    "\n",
    "# Paso 1: Agrupar por cliente y calcular el total de transacciones por cliente\n",
    "df1_a = df1.groupby('cliente')['mnt_total_trx'].sum().reset_index()\n",
    "\n",
    "# Renombrar la columna a 'dinerototal'\n",
    "df1_a = df1_a.rename(columns={'mnt_total_trx': 'dinerototal'})\n",
    "\n",
    "# Paso 2: Realizar merge con las tablas de dispositivos y barrios\n",
    "df1_b = pd.merge(df1, df_dispositivos, on='codigo_dispositivo', how='left')\n",
    "df1_c = pd.merge(df1_b, df_barrios, on='id_barrio', how='left')\n",
    "\n",
    "# Paso 3: Agrupar por cliente y barrio, y calcular el total de transacciones por barrio\n",
    "df1_d = df1_c.groupby(['cliente', 'nombre_barrio'])['mnt_total_trx'].sum().reset_index()\n",
    "\n",
    "# Paso 4: Hacer un merge entre los resultados anteriores\n",
    "df1_e = pd.merge(df1_a, df1_d, on='cliente', how='right')\n",
    "\n",
    "# Renombrar la columna 'mnt_total_trx' a 'dinerobarrio'\n",
    "df1_e = df1_e.rename(columns={'mnt_total_trx': 'dinerobarrio'})\n",
    "\n",
    "# Paso 5: Filtrar aquellos barrios donde el dinero transaccionado es al menos el 51% del total por cliente\n",
    "df1_f = df1_e[['nombre_barrio', 'cliente']][df1_e['dinerobarrio'] >= 0.51 * df1_e['dinerototal']]\n",
    "\n",
    "# Ver los primeros 10 resultados\n",
    "df1_f.head(10)"
   ]
  },
  {
   "cell_type": "markdown",
   "id": "3750e91a-1058-478a-ab93-26cbdffbf3ff",
   "metadata": {},
   "source": [
    "<p style=\"font-weight: bold; font-size: 15px;\">Explicacion:\n",
    "\n",
    "Agrupar por cliente: Se calcula el total de transacciones (mnt_total_trx) por cada cliente y se almacena como dinerototal.\n",
    "Unir con dispositivos y barrios: Se hace un merge entre las tablas de clientes, dispositivos y barrios para asociar cada cliente con su(s) barrio(s) correspondiente(s).\n",
    "Agrupar por barrio y cliente: Se agrupa por cliente y barrio, y se calcula el total de transacciones por barrio (dinerobarrio).\n",
    "Unir los resultados: Se realiza otro merge para combinar el total por cliente (dinerototal) con el total por barrio (dinerobarrio).\n",
    "Filtrar los barrios: Se aplica un filtro para seleccionar solo aquellos barrios donde el dinero transaccionado es al menos el 51% del total de transacciones del cliente.\n",
    "El resultado final muestra los barrios que cumplen con este criterio para cada cliente.</p>\n",
    "\n"
   ]
  },
  {
   "cell_type": "markdown",
   "id": "efbcaa77-3a74-47f1-903d-5c916c470667",
   "metadata": {},
   "source": [
    "<p style=\"font-weight: bold; font-size: 15px;\">R Code: </p>"
   ]
  },
  {
   "cell_type": "code",
   "execution_count": 70,
   "id": "9e71ea53-9a5d-4c5c-ad6e-1512d56f3b02",
   "metadata": {},
   "outputs": [
    {
     "name": "stderr",
     "output_type": "stream",
     "text": [
      "\u001b[1m\u001b[22m`summarise()` has grouped output by 'cliente'. You can override using the\n",
      "`.groups` argument.\n"
     ]
    },
    {
     "data": {
      "text/html": [
       "<table class=\"dataframe\">\n",
       "<caption>A tibble: 10 × 2</caption>\n",
       "<thead>\n",
       "\t<tr><th scope=col>cliente</th><th scope=col>nombre_barrio</th></tr>\n",
       "\t<tr><th scope=col>&lt;dbl&gt;</th><th scope=col>&lt;chr&gt;</th></tr>\n",
       "</thead>\n",
       "<tbody>\n",
       "\t<tr><td>-9.21461e+18</td><td>Urbanización Militar    </td></tr>\n",
       "\t<tr><td>-9.21152e+18</td><td>San Vicente             </td></tr>\n",
       "\t<tr><td>-9.21096e+18</td><td>San Fernando Nuevo      </td></tr>\n",
       "\t<tr><td>-9.20417e+18</td><td>Urbanización San Juaquín</td></tr>\n",
       "\t<tr><td>-9.20171e+18</td><td>Versalles               </td></tr>\n",
       "\t<tr><td>-9.20164e+18</td><td>Colseguros Andes        </td></tr>\n",
       "\t<tr><td>-9.19171e+18</td><td>Ciudad 2000             </td></tr>\n",
       "\t<tr><td>-9.18669e+18</td><td>Calima                  </td></tr>\n",
       "\t<tr><td>-9.18585e+18</td><td>Olaya Herrera           </td></tr>\n",
       "\t<tr><td>-9.18347e+18</td><td>Los Alcázares           </td></tr>\n",
       "</tbody>\n",
       "</table>\n"
      ],
      "text/latex": [
       "A tibble: 10 × 2\n",
       "\\begin{tabular}{ll}\n",
       " cliente & nombre\\_barrio\\\\\n",
       " <dbl> & <chr>\\\\\n",
       "\\hline\n",
       "\t -9.21461e+18 & Urbanización Militar    \\\\\n",
       "\t -9.21152e+18 & San Vicente             \\\\\n",
       "\t -9.21096e+18 & San Fernando Nuevo      \\\\\n",
       "\t -9.20417e+18 & Urbanización San Juaquín\\\\\n",
       "\t -9.20171e+18 & Versalles               \\\\\n",
       "\t -9.20164e+18 & Colseguros Andes        \\\\\n",
       "\t -9.19171e+18 & Ciudad 2000             \\\\\n",
       "\t -9.18669e+18 & Calima                  \\\\\n",
       "\t -9.18585e+18 & Olaya Herrera           \\\\\n",
       "\t -9.18347e+18 & Los Alcázares           \\\\\n",
       "\\end{tabular}\n"
      ],
      "text/markdown": [
       "\n",
       "A tibble: 10 × 2\n",
       "\n",
       "| cliente &lt;dbl&gt; | nombre_barrio &lt;chr&gt; |\n",
       "|---|---|\n",
       "| -9.21461e+18 | Urbanización Militar     |\n",
       "| -9.21152e+18 | San Vicente              |\n",
       "| -9.21096e+18 | San Fernando Nuevo       |\n",
       "| -9.20417e+18 | Urbanización San Juaquín |\n",
       "| -9.20171e+18 | Versalles                |\n",
       "| -9.20164e+18 | Colseguros Andes         |\n",
       "| -9.19171e+18 | Ciudad 2000              |\n",
       "| -9.18669e+18 | Calima                   |\n",
       "| -9.18585e+18 | Olaya Herrera            |\n",
       "| -9.18347e+18 | Los Alcázares            |\n",
       "\n"
      ],
      "text/plain": [
       "   cliente      nombre_barrio           \n",
       "1  -9.21461e+18 Urbanización Militar    \n",
       "2  -9.21152e+18 San Vicente             \n",
       "3  -9.21096e+18 San Fernando Nuevo      \n",
       "4  -9.20417e+18 Urbanización San Juaquín\n",
       "5  -9.20171e+18 Versalles               \n",
       "6  -9.20164e+18 Colseguros Andes        \n",
       "7  -9.19171e+18 Ciudad 2000             \n",
       "8  -9.18669e+18 Calima                  \n",
       "9  -9.18585e+18 Olaya Herrera           \n",
       "10 -9.18347e+18 Los Alcázares           "
      ]
     },
     "metadata": {},
     "output_type": "display_data"
    }
   ],
   "source": [
    "# Paso 1: Agrupar por cliente y calcular el total de transacciones por cliente\n",
    "df1_r_a <- df1_r %>%\n",
    "  group_by(cliente) %>%\n",
    "  summarise(mnt_total_trx = sum(mnt_total_trx))\n",
    "\n",
    "# Renombrar la columna a 'dinerototal'\n",
    "df1_r_a <- df1_r_a %>%\n",
    "  rename(dinerototal = mnt_total_trx)\n",
    "\n",
    "# Paso 2: Realizar merge con las tablas de dispositivos y barrios\n",
    "df1_r_b <- left_join(df1_r, dfr_dispositivos, by = 'codigo_dispositivo', relationship = \"many-to-many\")\n",
    "df1_r_c <- left_join(df1_r_b, dfr_barrios, by = 'id_barrio')\n",
    "\n",
    "# Paso 3: Agrupar por cliente y barrio, y calcular el total de transacciones por barrio\n",
    "df1_r_d <- df1_r_c %>%\n",
    "  group_by(cliente, nombre_barrio) %>%\n",
    "  summarise(mnt_total_trx = sum(mnt_total_trx))\n",
    "\n",
    "# Paso 4: Hacer un merge entre los resultados anteriores\n",
    "df1_r_e <- right_join(df1_r_a, df1_r_d, by = 'cliente')\n",
    "\n",
    "# Renombrar la columna 'mnt_total_trx' a 'dinerobarrio'\n",
    "df1_r_e <- df1_r_e %>%\n",
    "  rename(dinerobarrio = mnt_total_trx) %>%\n",
    "  ungroup()  # Desagrupar antes de aplicar cualquier filtro\n",
    "\n",
    "# Paso 5: Seleccionar solo las columnas necesarias antes de filtrar\n",
    "df1_r_e <- df1_r_e %>%  filter(dinerobarrio >= 0.51 * dinerototal)\n",
    "\n",
    "# Resultado final\n",
    "head(df1_r_e%>% select(cliente, nombre_barrio ),10)\n",
    "\n"
   ]
  },
  {
   "cell_type": "markdown",
   "id": "6dc21e33-9479-4624-a81d-e4a9348fad74",
   "metadata": {},
   "source": [
    "<p style=\"font-weight: bold; font-size: 15px;\">Explicacion:\n",
    "\n",
    "Primero, calcula el total de transacciones por cliente (dinerototal) y por barrio (dinerobarrio) mediante agrupamientos (group_by()) y se suma con (summarise()). Luego, se combina los resultados de ambos cálculos con right_join() para asegurar que se mantengan todos los clientes, incluso aquellos sin transacciones en ciertos barrios. Después de renombrar las columnas para mayor claridad, se desagrupa el dataframe (ungroup()) para evitar problemas en operaciones posteriores. Finalmente, se filtran las filas donde el total de transacciones por barrio (dinerobarrio) es al menos el 51% del total de transacciones por cliente (dinerototal), y se seleccionan solo las columnas relevantes para mostrar los resultados finales.</p>\n",
    "\n"
   ]
  },
  {
   "cell_type": "markdown",
   "id": "29ee25f6-83a9-4c7c-b0a9-c20f0c83f08c",
   "metadata": {},
   "source": [
    "<p style=\"font-weight: bold; font-size: 15px;\">2.\t¿Cuáles son los dispositivos con transacciones de al menos 100 clientes diferentes? </p>"
   ]
  },
  {
   "cell_type": "markdown",
   "id": "36683351-5754-48c3-bdd2-fe8518a7b09e",
   "metadata": {},
   "source": [
    "<p style=\"font-weight: bold; font-size: 15px;\">SQL</p>"
   ]
  },
  {
   "cell_type": "markdown",
   "id": "cd449564-7b4b-445c-b1c9-e6a3a429b44a",
   "metadata": {},
   "source": [
    "<div style=\"background-color: #f9f9f9; padding: 15px; border-radius: 8px; font-family: 'Courier New', monospace; border: 1px solid #ddd;\">\n",
    "    <pre><code style=\"color: darkblue; font-size: 16px;\">\n",
    "SELECT \n",
    "    codigo_dispositivo, \n",
    "    COUNT(DISTINCT(cliente)) AS clientes_distintos\n",
    "FROM \n",
    "    clientes c\n",
    "GROUP BY \n",
    "    codigo_dispositivo\n",
    "HAVING \n",
    "    COUNT(DISTINCT(cliente)) >= 100\n",
    "ORDER BY \n",
    "    clientes_distintos DESC;\n",
    "    </code></pre>\n",
    "</div>"
   ]
  },
  {
   "cell_type": "markdown",
   "id": "5c8a55a2-091d-4d75-bce0-ad9be225de4c",
   "metadata": {},
   "source": [
    "<p style=\"font-weight: bold; font-size: 15px;\">Explicación:\n",
    "\n",
    "Se realizó el conteo de cada cliente único utilizando dos funciones:\n",
    "\n",
    "DISTINCT: Esta función se emplea para eliminar los valores duplicados en la columna de clientes, asegurando que solo se cuente una vez cada cliente.\n",
    "\n",
    "COUNT: Permite contar las filas correspondientes a cada cliente, brindando el número total de registros para cada cliente único.\n",
    "\n",
    "Al combinar estas dos funciones, se logra contar exclusivamente los clientes únicos. Para agrupar los resultados por código de dispositivo, se utiliza la cláusula GROUP BY, lo que permite obtener el número de clientes únicos para cada dispositivo.\n",
    "\n",
    "Adicionalmente, se usa la cláusula HAVING para aplicar un filtro que garantice que solo se incluyan aquellos dispositivos que tengan al menos 100 clientes únicos. Por último, ORDER BY se emplea para ordenar los resultados de manera descendente según el conteo de clientes, de modo que los dispositivos con más clientes únicos aparezcan primero. </p>\n"
   ]
  },
  {
   "cell_type": "markdown",
   "id": "0d0d9b2b-7f29-4091-aa28-c3cc59f1117b",
   "metadata": {},
   "source": [
    "<p style=\"font-weight: bold; font-size: 15px;\">Python code:</p>"
   ]
  },
  {
   "cell_type": "code",
   "execution_count": 19,
   "id": "38e245c7-d6e9-49df-93a4-4979aa839f49",
   "metadata": {},
   "outputs": [],
   "source": [
    "df2 = df_clientes"
   ]
  },
  {
   "cell_type": "code",
   "execution_count": 20,
   "id": "260eb505-553d-4ab0-b74c-f74aee00a8fa",
   "metadata": {},
   "outputs": [
    {
     "data": {
      "text/html": [
       "<div>\n",
       "<style scoped>\n",
       "    .dataframe tbody tr th:only-of-type {\n",
       "        vertical-align: middle;\n",
       "    }\n",
       "\n",
       "    .dataframe tbody tr th {\n",
       "        vertical-align: top;\n",
       "    }\n",
       "\n",
       "    .dataframe thead th {\n",
       "        text-align: right;\n",
       "    }\n",
       "</style>\n",
       "<table border=\"1\" class=\"dataframe\">\n",
       "  <thead>\n",
       "    <tr style=\"text-align: right;\">\n",
       "      <th></th>\n",
       "      <th>codigo_dispositivo</th>\n",
       "      <th>cliente</th>\n",
       "    </tr>\n",
       "  </thead>\n",
       "  <tbody>\n",
       "    <tr>\n",
       "      <th>0</th>\n",
       "      <td>745</td>\n",
       "      <td>660</td>\n",
       "    </tr>\n",
       "    <tr>\n",
       "      <th>1</th>\n",
       "      <td>11303609</td>\n",
       "      <td>525</td>\n",
       "    </tr>\n",
       "    <tr>\n",
       "      <th>2</th>\n",
       "      <td>829</td>\n",
       "      <td>482</td>\n",
       "    </tr>\n",
       "    <tr>\n",
       "      <th>3</th>\n",
       "      <td>812</td>\n",
       "      <td>457</td>\n",
       "    </tr>\n",
       "    <tr>\n",
       "      <th>4</th>\n",
       "      <td>747</td>\n",
       "      <td>457</td>\n",
       "    </tr>\n",
       "    <tr>\n",
       "      <th>...</th>\n",
       "      <td>...</td>\n",
       "      <td>...</td>\n",
       "    </tr>\n",
       "    <tr>\n",
       "      <th>248</th>\n",
       "      <td>1187</td>\n",
       "      <td>102</td>\n",
       "    </tr>\n",
       "    <tr>\n",
       "      <th>249</th>\n",
       "      <td>5401</td>\n",
       "      <td>102</td>\n",
       "    </tr>\n",
       "    <tr>\n",
       "      <th>250</th>\n",
       "      <td>2182</td>\n",
       "      <td>101</td>\n",
       "    </tr>\n",
       "    <tr>\n",
       "      <th>251</th>\n",
       "      <td>3588</td>\n",
       "      <td>100</td>\n",
       "    </tr>\n",
       "    <tr>\n",
       "      <th>252</th>\n",
       "      <td>4594</td>\n",
       "      <td>100</td>\n",
       "    </tr>\n",
       "  </tbody>\n",
       "</table>\n",
       "<p>253 rows × 2 columns</p>\n",
       "</div>"
      ],
      "text/plain": [
       "     codigo_dispositivo  cliente\n",
       "0                   745      660\n",
       "1              11303609      525\n",
       "2                   829      482\n",
       "3                   812      457\n",
       "4                   747      457\n",
       "..                  ...      ...\n",
       "248                1187      102\n",
       "249                5401      102\n",
       "250                2182      101\n",
       "251                3588      100\n",
       "252                4594      100\n",
       "\n",
       "[253 rows x 2 columns]"
      ]
     },
     "execution_count": 20,
     "metadata": {},
     "output_type": "execute_result"
    }
   ],
   "source": [
    "# Paso 1: Seleccionar las columnas necesarias\n",
    "df2_a = df2[['codigo_dispositivo', 'cliente']]\n",
    "\n",
    "# Paso 2: Agrupar por 'codigo_dispositivo' y contar los clientes únicos\n",
    "df2_b = df2_a.groupby('codigo_dispositivo')['cliente'].nunique()\n",
    "\n",
    "# Paso 3: Filtrar para tener solo aquellos dispositivos con 100 o más clientes únicos\n",
    "df2_b = df2_b[df2_b >= 100]\n",
    "\n",
    "# Paso 4: Ordenar los resultados en orden descendente por la cantidad de clientes únicos\n",
    "df2_b = df2_b.sort_values(ascending=False).reset_index()\n",
    "\n",
    "# Mostrar los resultados\n",
    "df2_b"
   ]
  },
  {
   "cell_type": "markdown",
   "id": "3e0025ef-23fd-4a21-a4ed-bc44b54f5a55",
   "metadata": {},
   "source": [
    "<p style=\"font-weight: bold; font-size: 15px;\">Explicación:\n",
    "\n",
    "El código agrupa los datos por codigo_dispositivo, \n",
    "luego cuenta cuántos clientes únicos hay por dispositivo utilizando nunique(). \n",
    "Después, filtra para mostrar solo los dispositivos que tengan 100 o más clientes únicos. \n",
    "Finalmente, ordena los resultados de mayor a menor y convierte el resultado en un DataFrame (en lugar de una Serie), \n",
    "para que sea más fácil de leer y trabajar con él.\n",
    "</p>"
   ]
  },
  {
   "cell_type": "markdown",
   "id": "b94fe741-118e-400a-8046-06e416642b8e",
   "metadata": {},
   "source": [
    "<p style=\"font-weight: bold; font-size: 15px;\">R code:</p>"
   ]
  },
  {
   "cell_type": "code",
   "execution_count": 12,
   "id": "37f8fd9a-f2d4-4ee1-a3b4-629d499c8cb9",
   "metadata": {},
   "outputs": [],
   "source": [
    "df2_r <- dfr_clientes"
   ]
  },
  {
   "cell_type": "code",
   "execution_count": 87,
   "id": "358ec19a-35de-40d2-96c0-ab31c8e8da85",
   "metadata": {},
   "outputs": [
    {
     "ename": "ERROR",
     "evalue": "Error: object 'df2_r' not found\n",
     "output_type": "error",
     "traceback": [
      "Error: object 'df2_r' not found\nTraceback:\n"
     ]
    }
   ],
   "source": [
    "# Paso 1: Seleccionar las columnas necesarias\n",
    "df2_r_a <- df2_r[, c(\"codigo_dispositivo\", 'cliente')]\n",
    "\n",
    "# Paso 2: Agrupar por 'codigo_dispositivo' y contar los clientes únicos\n",
    "\n",
    "df2_r_b<-  df2_r_a %>%\n",
    "  group_by(codigo_dispositivo) %>%\n",
    "  summarise(clientes_unicos = n_distinct(cliente))\n",
    "\n",
    "# Paso 3: Filtrar para tener solo aquellos dispositivos con 100 o más clientes únicos\n",
    "\n",
    "df2_r_c <- df2_r_b %>% filter(clientes_unicos >= 100)\n",
    "\n",
    "# Paso 4: Ordenar los resultados en orden descendente por la cantidad de clientes únicos\n",
    "\n",
    "df2_r_d <- df2_r_c %>% arrange(desc(clientes_unicos))\n",
    "\n",
    "# Mostrar los resultados\n",
    "df2_r_d "
   ]
  },
  {
   "cell_type": "markdown",
   "id": "427a3fd9-6d06-415e-bc3d-52d9d4ae3486",
   "metadata": {},
   "source": [
    "<p style=\"font-weight: bold; font-size: 15px;\">Explicación\n",
    "    \n",
    "Este código agrupa los datos por codigo_dispositivo y luego cuenta cuántos clientes únicos tiene cada dispositivo utilizando n_distinct(cliente). Después, filtra los dispositivos que tienen 100 o más clientes únicos, y finalmente ordena los resultados de mayor a menor cantidad de clientes únicos. Todo esto se hace de forma secuencial y el resultado se guarda en un nuevo conjunto de datos. </p>"
   ]
  },
  {
   "cell_type": "markdown",
   "id": "c6b17ed7-d87f-456f-9885-b4d5723d3a95",
   "metadata": {},
   "source": [
    "<p style=\"font-weight: bold; font-size: 15px;\">3.\t¿Cuáles son los 5 barrios donde la mayor cantidad de clientes únicos realizan transacciones en dispositivos tipo POS? La respuesta debe incluir la cantidad de clientes asociados a estos barrios.</p>"
   ]
  },
  {
   "cell_type": "markdown",
   "id": "3957407c-1a5b-4f73-b9be-8a6539c845c0",
   "metadata": {},
   "source": [
    "<p style=\"font-weight: bold; font-size: 15px;\">SQL</p>"
   ]
  },
  {
   "cell_type": "markdown",
   "id": "f8266e72-18f3-4920-84a4-5c243c76b937",
   "metadata": {},
   "source": [
    "<div style=\"background-color: #f9f9f9; padding: 15px; border-radius: 8px; font-family: 'Courier New', monospace; font-size: 16px;\">\n",
    "    <pre><code style=\"color: darkred;\">SELECT \n",
    "    b.nombre_barrio, \n",
    "    COUNT(DISTINCT (c.cliente)) \n",
    "FROM \n",
    "    clientes c \n",
    "LEFT JOIN \n",
    "    dispositivos d ON d.codigo_dispositivo = c.codigo_dispositivo \n",
    "LEFT JOIN \n",
    "    barrios b ON b.id_barrio = d.id_barrio \n",
    "WHERE \n",
    "    c.tipo_dispositivo = 'POS' \n",
    "GROUP BY \n",
    "    b.nombre_barrio \n",
    "ORDER BY \n",
    "    COUNT(DISTINCT (c.cliente)) DESC \n",
    "LIMIT 5;</code></pre>\n",
    "</div>"
   ]
  },
  {
   "cell_type": "markdown",
   "id": "651c5191-0a43-4145-ba00-fe1b5af1daf8",
   "metadata": {},
   "source": [
    "<p style=\"font-weight: bold; font-size: 15px;\">Explicación:\n",
    "\n",
    "Se realizaron las siguientes operaciones en la consulta:\n",
    "\n",
    "Unión de tablas: Se utilizó un LEFT JOIN para combinar las tablas dispositivos y barrios. Este tipo de unión permite asociar cada dispositivo con el barrio correspondiente, incluso si algunos dispositivos no tienen un barrio asociado.\n",
    "\n",
    "Contabilización de clientes únicos: Se aplicaron las funciones COUNT y DISTINCT para contar el número de clientes únicos en cada barrio. Esto asegura que no se cuenten clientes repetidos.\n",
    "\n",
    "Filtrado de datos: Con la cláusula WHERE, se filtraron los dispositivos para que solo se incluyeran aquellos de tipo POS. Esto restringe los resultados a los dispositivos de este tipo específicos.\n",
    "\n",
    "Agrupación y ordenación: Luego, se utilizó GROUP BY para agrupar los resultados por barrio, y ORDER BY DESC para ordenar los barrios de mayor a menor según el número de clientes únicos.\n",
    "\n",
    "Limitación de resultados: Finalmente, se aplicó LIMIT 5 para obtener solo los cinco barrios con el mayor número de clientes únicos. </p>"
   ]
  },
  {
   "cell_type": "markdown",
   "id": "dea476cb-4ea4-4e2b-9f1e-2307d3f9a38a",
   "metadata": {},
   "source": [
    "<p style=\"font-weight: bold; font-size: 15px;\">python code: </p>"
   ]
  },
  {
   "cell_type": "code",
   "execution_count": 21,
   "id": "e0ffb150-288c-4808-b599-72de169c0288",
   "metadata": {},
   "outputs": [
    {
     "data": {
      "text/html": [
       "<div>\n",
       "<style scoped>\n",
       "    .dataframe tbody tr th:only-of-type {\n",
       "        vertical-align: middle;\n",
       "    }\n",
       "\n",
       "    .dataframe tbody tr th {\n",
       "        vertical-align: top;\n",
       "    }\n",
       "\n",
       "    .dataframe thead th {\n",
       "        text-align: right;\n",
       "    }\n",
       "</style>\n",
       "<table border=\"1\" class=\"dataframe\">\n",
       "  <thead>\n",
       "    <tr style=\"text-align: right;\">\n",
       "      <th></th>\n",
       "      <th>nombre_barrio</th>\n",
       "      <th>cliente</th>\n",
       "    </tr>\n",
       "  </thead>\n",
       "  <tbody>\n",
       "    <tr>\n",
       "      <th>215</th>\n",
       "      <td>San Vicente</td>\n",
       "      <td>1295</td>\n",
       "    </tr>\n",
       "    <tr>\n",
       "      <th>250</th>\n",
       "      <td>Urbanización San Juaquín</td>\n",
       "      <td>899</td>\n",
       "    </tr>\n",
       "    <tr>\n",
       "      <th>214</th>\n",
       "      <td>San Pedro</td>\n",
       "      <td>775</td>\n",
       "    </tr>\n",
       "    <tr>\n",
       "      <th>222</th>\n",
       "      <td>Santa Mónica Residencial</td>\n",
       "      <td>753</td>\n",
       "    </tr>\n",
       "    <tr>\n",
       "      <th>243</th>\n",
       "      <td>Urbanización Ciudad Jardín</td>\n",
       "      <td>699</td>\n",
       "    </tr>\n",
       "  </tbody>\n",
       "</table>\n",
       "</div>"
      ],
      "text/plain": [
       "                  nombre_barrio  cliente\n",
       "215                 San Vicente     1295\n",
       "250    Urbanización San Juaquín      899\n",
       "214                   San Pedro      775\n",
       "222    Santa Mónica Residencial      753\n",
       "243  Urbanización Ciudad Jardín      699"
      ]
     },
     "execution_count": 21,
     "metadata": {},
     "output_type": "execute_result"
    }
   ],
   "source": [
    "df3 = df_clientes\n",
    "\n",
    "# Paso 1: Unir las tablas 'clientes', 'dispositivos' y 'barrios' por las claves correspondientes\n",
    "df3_a = pd.merge(df3, df_dispositivos, on='codigo_dispositivo', how='left')\n",
    "df3_b = pd.merge(df3_a, df_barrios, on='id_barrio', how='left')\n",
    "\n",
    "# Paso 2: Filtrar para quedarnos solo con los dispositivos de tipo 'POS'\n",
    "df3_c = df3_b[df3_b['tipo_dispositivo_y'] == 'POS']\n",
    "\n",
    "# Paso 3: Seleccionar las columnas 'nombre_barrio' y 'cliente' para el análisis\n",
    "df3_d = df3_c[['nombre_barrio', 'cliente']]\n",
    "\n",
    "# Paso 4: Agrupar por 'nombre_barrio' y contar los clientes únicos en cada barrio\n",
    "df3_f = df3_d.groupby('nombre_barrio')['cliente'].nunique().reset_index()\n",
    "\n",
    "# Paso 5: Ordenar los barrios por el número de clientes únicos de forma descendente\n",
    "df3_g = df3_f.sort_values(by='cliente', ascending=False)\n",
    "\n",
    "# Mostrar los resultados (5) \n",
    "df3_g.head()\n",
    "\n"
   ]
  },
  {
   "cell_type": "markdown",
   "id": "467b0755-28a2-41e3-9ef9-1edf6ae0db56",
   "metadata": {},
   "source": [
    "<p style=\"font-size: 15px;\">\n",
    "    <strong>Explicación:</strong><br><br>\n",
    "    Este código tiene como objetivo analizar la cantidad de clientes únicos en cada barrio, utilizando dispositivos de tipo 'POS'. Primero, se fusionan tres tablas: <code>df_clientes</code>, <code>df_dispositivos</code> y <code>df_barrios</code>. Se realiza una unión izquierda entre <code>df_clientes</code> y <code>df_dispositivos</code> usando la clave <code>codigo_dispositivo</code>, y luego se hace otra unión izquierda entre la tabla resultante y <code>df_barrios</code> mediante el campo <code>id_barrio</code>. Después, se filtra para quedarnos solo con los registros de dispositivos que sean de tipo 'POS', utilizando el valor de la columna <code>tipo_dispositivo_y</code>. A continuación, se seleccionan solo las columnas relevantes, en este caso <code>nombre_barrio</code> y <code>cliente</code>, para el análisis. Posteriormente, se agrupa por barrio (<code>nombre_barrio</code>) y se cuentan los clientes únicos en cada barrio usando la función <code>nunique()</code>. Finalmente, se ordenan los barrios por el número de clientes únicos de forma descendente, y se muestran los 5 primeros resultados. Esto permite obtener una lista de los barrios con mayor número de clientes únicos asociados a dispositivos de tipo 'POS'.\n",
    "</p>"
   ]
  },
  {
   "cell_type": "markdown",
   "id": "8c9a92c0-56e5-4f95-9eb0-d8dc98b5ee75",
   "metadata": {},
   "source": [
    "<p style=\"font-weight: bold; font-size: 15px;\">R code: </p>"
   ]
  },
  {
   "cell_type": "code",
   "execution_count": 71,
   "id": "e1721362-16bb-4959-b862-2d54264efe72",
   "metadata": {},
   "outputs": [],
   "source": [
    "df_3_r <- dfr_clientes"
   ]
  },
  {
   "cell_type": "code",
   "execution_count": 72,
   "id": "1a019c7a-a77a-4b26-96f9-7eb41519e2b5",
   "metadata": {},
   "outputs": [
    {
     "data": {
      "text/html": [
       "<table class=\"dataframe\">\n",
       "<caption>A tibble: 5 × 2</caption>\n",
       "<thead>\n",
       "\t<tr><th scope=col>nombre_barrio</th><th scope=col>clientes_unicos</th></tr>\n",
       "\t<tr><th scope=col>&lt;chr&gt;</th><th scope=col>&lt;int&gt;</th></tr>\n",
       "</thead>\n",
       "<tbody>\n",
       "\t<tr><td>San Vicente               </td><td>1295</td></tr>\n",
       "\t<tr><td>Urbanización San Juaquín  </td><td> 899</td></tr>\n",
       "\t<tr><td>San Pedro                 </td><td> 775</td></tr>\n",
       "\t<tr><td>Santa Mónica Residencial  </td><td> 753</td></tr>\n",
       "\t<tr><td>Urbanización Ciudad Jardín</td><td> 699</td></tr>\n",
       "</tbody>\n",
       "</table>\n"
      ],
      "text/latex": [
       "A tibble: 5 × 2\n",
       "\\begin{tabular}{ll}\n",
       " nombre\\_barrio & clientes\\_unicos\\\\\n",
       " <chr> & <int>\\\\\n",
       "\\hline\n",
       "\t San Vicente                & 1295\\\\\n",
       "\t Urbanización San Juaquín   &  899\\\\\n",
       "\t San Pedro                  &  775\\\\\n",
       "\t Santa Mónica Residencial   &  753\\\\\n",
       "\t Urbanización Ciudad Jardín &  699\\\\\n",
       "\\end{tabular}\n"
      ],
      "text/markdown": [
       "\n",
       "A tibble: 5 × 2\n",
       "\n",
       "| nombre_barrio &lt;chr&gt; | clientes_unicos &lt;int&gt; |\n",
       "|---|---|\n",
       "| San Vicente                | 1295 |\n",
       "| Urbanización San Juaquín   |  899 |\n",
       "| San Pedro                  |  775 |\n",
       "| Santa Mónica Residencial   |  753 |\n",
       "| Urbanización Ciudad Jardín |  699 |\n",
       "\n"
      ],
      "text/plain": [
       "  nombre_barrio              clientes_unicos\n",
       "1 San Vicente                1295           \n",
       "2 Urbanización San Juaquín    899           \n",
       "3 San Pedro                   775           \n",
       "4 Santa Mónica Residencial    753           \n",
       "5 Urbanización Ciudad Jardín  699           "
      ]
     },
     "metadata": {},
     "output_type": "display_data"
    }
   ],
   "source": [
    "# Paso 1: Unir las tablas 'clientes', 'dispositivos' y 'barrios' por las claves correspondientes\n",
    "df_3_r_a <- left_join(df_3_r, dfr_dispositivos, by = 'codigo_dispositivo', relationship = \"many-to-many\")\n",
    "df_3_r_b <- left_join(df_3_r_a, dfr_barrios, by = 'id_barrio')\n",
    "\n",
    "# Paso 2: Filtrar para quedarnos solo con los dispositivos de tipo 'POS'\n",
    "df_3_r_c <- df_3_r_b %>% filter(tipo_dispositivo.x == 'POS')  # O usa tipo_dispositivo.y si es el caso\n",
    "\n",
    "# Paso 3: Seleccionar las columnas 'nombre_barrio' y 'cliente' para el análisis\n",
    "df_3_r_d <- df_3_r_c %>% select(nombre_barrio, cliente)\n",
    "\n",
    "# Paso 4: Agrupar por 'nombre_barrio' y contar los clientes únicos en cada barrio\n",
    "df_3_r_f <- df_3_r_d %>% group_by(nombre_barrio) %>% summarise(clientes_unicos = n_distinct(cliente))\n",
    "\n",
    "# Paso 5: Ordenar los barrios por el número de clientes únicos de forma descendente\n",
    "\n",
    "df_3_r_g <- df_3_r_f %>% arrange(desc(clientes_unicos))\n",
    "\n",
    "# Mostrar los resultados (5) \n",
    "head(df_3_r_g,5) \n"
   ]
  },
  {
   "cell_type": "markdown",
   "id": "17d73b3e-c406-4fd4-bc16-958949235d4c",
   "metadata": {},
   "source": [
    "<p style=\"font-weight: bold; font-size: 15px;\">Explicación:\n",
    "\n",
    "Este código comienza con la unión de tres tablas usando left_join. Primero, se une df_3_r con dfr_dispositivos usando la clave codigo_dispositivo, y luego se une el resultado con dfr_barrios utilizando la clave id_barrio. Estas uniones aseguran que se mantengan todos los registros de la tabla df_3_r, agregando la información de las otras dos tablas donde haya coincidencias.\n",
    "\n",
    "Luego, se filtran los datos para mantener únicamente los dispositivos de tipo 'POS' utilizando el filtro filter(tipo_dispositivo.x == 'POS'), lo que asegura que solo se trabajen con esos dispositivos en los siguientes pasos.\n",
    "\n",
    "Después, se seleccionan solo las columnas nombre_barrio y cliente para centrarse en el análisis de los barrios y sus clientes. Posteriormente, se agrupan los datos por barrio (nombre_barrio) y se cuentan los clientes únicos por cada uno utilizando n_distinct(cliente).\n",
    "\n",
    "Finalmente, los barrios se ordenan en orden descendente según el número de clientes únicos, y se muestran los primeros cinco barrios con más clientes </p>"
   ]
  },
  {
   "cell_type": "markdown",
   "id": "06af0114-04b3-47e0-9d4b-5ecdc8b9afc9",
   "metadata": {},
   "source": [
    "<p style=\"font-weight: bold; font-size: 15px;\">4.\t¿Cuáles son las 10 distancias únicas (en kilómetros) de los dispositivos más alejados entre sí del barrio Sucre? <p>"
   ]
  },
  {
   "cell_type": "markdown",
   "id": "6318aa7b-5446-4abd-8f55-8eceaab129a0",
   "metadata": {},
   "source": [
    "<div style=\"background-color: #f9f9f9; padding: 15px; border-radius: 8px; font-family: 'Courier New', monospace; font-size: 16px;\">\n",
    "    <pre><code style=\"color: darkcyan;\">\n",
    "WITH Distancia_km AS (\n",
    "    SELECT \n",
    "        d.codigo_dispositivo, \n",
    "        d2.codigo_dispositivo,\n",
    "        6371 * 2 * ASIN(\n",
    "            SQRT(\n",
    "                POWER(SIN(RADIANS(d2.latitud - d.latitud) / 2), 2) + \n",
    "                COS(RADIANS(d.latitud)) * COS(RADIANS(d2.latitud)) * \n",
    "                POWER(SIN(RADIANS(d2.longitud - d.longitud) / 2), 2)\n",
    "            )\n",
    "        ) AS Distance\n",
    "    FROM dispositivos d\n",
    "    JOIN dispositivos d2 \n",
    "        ON d.codigo_dispositivo <> d2.codigo_dispositivo\n",
    "    LEFT JOIN barrios b \n",
    "        ON b.id_barrio = d.id_barrio \n",
    "        AND b.id_barrio = d2.id_barrio \n",
    "    WHERE UPPER(b.nombre_barrio) = 'SUCRE'\n",
    ")\n",
    "SELECT DISTINCT Distance \n",
    "FROM Distancia_km\n",
    "ORDER BY Distance DESC \n",
    "LIMIT 10;\n",
    "    </code></pre>\n",
    "</div>"
   ]
  },
  {
   "cell_type": "markdown",
   "id": "24fe2418-cfd0-4ba8-bde6-b96f2d2f4d4c",
   "metadata": {},
   "source": [
    "<p style=\"font-size: 15px;\">\n",
    "    <strong>Explicación:</strong><br><br>\n",
    "    La distancia se calcula usando la fórmula de Haversine a partir de las coordenadas geográficas (latitud y longitud) de los dispositivos.<br><br>\n",
    "    WITH Distancia_km AS (...): Crea una tabla temporal que calcula la distancia entre cada par de dispositivos.<br>\n",
    "    Fórmula de Haversine: Calcula la distancia en km entre dos puntos usando sus latitudes y longitudes.<br>\n",
    "    <img src=\"https://media.licdn.com/dms/image/v2/C4E12AQELArpNkVXXrw/article-inline_image-shrink_400_744/article-inline_image-shrink_400_744/0/1651494217361?e=2147483647&v=beta&t=XrYXCIkotJOXv_290Y6a5s4I41XeYXmTpaA1C-4rlFw\"  style=\"max-width: 100%; height: auto; margin-top: 10px;\"> .<br>\n",
    "    JOIN dispositivos d2: Empareja cada dispositivo con todos los demás (excepto consigo mismo)\n",
    "    <br>LEFT JOIN barrios b: Asegura que ambos dispositivos estén en el barrio \"Sucre\".<br>\n",
    "    SELECT DISTINCT Distance: Muestra las distancias calculadas, ordenadas de mayor a menor y limitadas a las 10 distancias más grandes.\n",
    "</p>\n",
    "\n"
   ]
  },
  {
   "cell_type": "markdown",
   "id": "df7bfbbd-15aa-44b1-8919-8bc6fdd40af7",
   "metadata": {},
   "source": [
    "<p style=\"font-weight: bold; font-size: 15px;\">Python Code: </p>"
   ]
  },
  {
   "cell_type": "code",
   "execution_count": 75,
   "id": "0dc1028d-f13d-4b43-85f6-8a4ca59a4d9f",
   "metadata": {},
   "outputs": [
    {
     "name": "stderr",
     "output_type": "stream",
     "text": [
      "/tmp/ipykernel_125069/44188539.py:21: SettingWithCopyWarning: \n",
      "A value is trying to be set on a copy of a slice from a DataFrame.\n",
      "Try using .loc[row_indexer,col_indexer] = value instead\n",
      "\n",
      "See the caveats in the documentation: https://pandas.pydata.org/pandas-docs/stable/user_guide/indexing.html#returning-a-view-versus-a-copy\n",
      "  df4_d['distancia'] = 6371 * 2 * np.arcsin(\n"
     ]
    },
    {
     "data": {
      "text/html": [
       "<div>\n",
       "<style scoped>\n",
       "    .dataframe tbody tr th:only-of-type {\n",
       "        vertical-align: middle;\n",
       "    }\n",
       "\n",
       "    .dataframe tbody tr th {\n",
       "        vertical-align: top;\n",
       "    }\n",
       "\n",
       "    .dataframe thead th {\n",
       "        text-align: right;\n",
       "    }\n",
       "</style>\n",
       "<table border=\"1\" class=\"dataframe\">\n",
       "  <thead>\n",
       "    <tr style=\"text-align: right;\">\n",
       "      <th></th>\n",
       "      <th>distancia</th>\n",
       "    </tr>\n",
       "  </thead>\n",
       "  <tbody>\n",
       "    <tr>\n",
       "      <th>14698</th>\n",
       "      <td>0.997410</td>\n",
       "    </tr>\n",
       "    <tr>\n",
       "      <th>14434</th>\n",
       "      <td>0.993480</td>\n",
       "    </tr>\n",
       "    <tr>\n",
       "      <th>14664</th>\n",
       "      <td>0.991730</td>\n",
       "    </tr>\n",
       "    <tr>\n",
       "      <th>14718</th>\n",
       "      <td>0.991717</td>\n",
       "    </tr>\n",
       "    <tr>\n",
       "      <th>14500</th>\n",
       "      <td>0.988943</td>\n",
       "    </tr>\n",
       "    <tr>\n",
       "      <th>64346</th>\n",
       "      <td>0.988261</td>\n",
       "    </tr>\n",
       "    <tr>\n",
       "      <th>43930</th>\n",
       "      <td>0.987262</td>\n",
       "    </tr>\n",
       "    <tr>\n",
       "      <th>34186</th>\n",
       "      <td>0.986266</td>\n",
       "    </tr>\n",
       "    <tr>\n",
       "      <th>14499</th>\n",
       "      <td>0.984829</td>\n",
       "    </tr>\n",
       "    <tr>\n",
       "      <th>23338</th>\n",
       "      <td>0.984315</td>\n",
       "    </tr>\n",
       "  </tbody>\n",
       "</table>\n",
       "</div>"
      ],
      "text/plain": [
       "       distancia\n",
       "14698   0.997410\n",
       "14434   0.993480\n",
       "14664   0.991730\n",
       "14718   0.991717\n",
       "14500   0.988943\n",
       "64346   0.988261\n",
       "43930   0.987262\n",
       "34186   0.986266\n",
       "14499   0.984829\n",
       "23338   0.984315"
      ]
     },
     "execution_count": 75,
     "metadata": {},
     "output_type": "execute_result"
    }
   ],
   "source": [
    "# Paso 1: Realizar el merge de los dataframes\n",
    "df4 = df_dispositivos\n",
    "df4_a = pd.merge(df4, df_barrios, on='id_barrio', how='left')\n",
    "\n",
    "# Paso 2: Filtrar por nombre del barrio 'SUCRE'\n",
    "df4_a = df4_a[df4_a['nombre_barrio'].str.upper() == 'SUCRE']\n",
    "\n",
    "# Paso 3: Seleccionar las columnas necesarias\n",
    "df4_a = df4_a[['codigo_dispositivo', 'latitud', 'longitud']]\n",
    "\n",
    "# Paso 4: Renombrar columnas para el segundo dispositivo\n",
    "df4_b = df4_a.rename(columns={'latitud': 'latitud2', 'longitud': 'longitud2'})\n",
    "\n",
    "# Paso 5: Crear el dataframe cruzado\n",
    "df4_c = df4_a.merge(df4_b, how='cross')\n",
    "\n",
    "# Paso 6: Filtrar filas donde los dispositivos son distintos\n",
    "df4_d = df4_c[df4_c['codigo_dispositivo_x'] != df4_c['codigo_dispositivo_y']]\n",
    "\n",
    "# Paso 7: Calcular las distancias\n",
    "df4_d['distancia'] = 6371 * 2 * np.arcsin(\n",
    "    np.sqrt(\n",
    "        np.power(np.sin(np.radians(df4_d['latitud2'] - df4_d['latitud']) / 2), 2) +\n",
    "        np.cos(np.radians(df4_d['latitud'])) * np.cos(np.radians(df4_d['latitud2'])) *\n",
    "        np.power(np.sin(np.radians(df4_d['longitud2'] - df4_d['longitud']) / 2), 2)\n",
    "    )\n",
    ")\n",
    "\n",
    "# Paso 8: Crear df4_f solo con la columna 'distancia'\n",
    "df4_f = df4_d[['distancia']].copy()  # Usamos .copy() para asegurarnos de que es una copia\n",
    "\n",
    "# Paso 9: Eliminar duplicados y redondear a 6 decimales\n",
    "df4_g = df4_f.drop_duplicates(subset=['distancia'])\n",
    "df4_g.loc[:, 'distancia'] = df4_g['distancia'].round(6)\n",
    "\n",
    "# Paso 10: Ordenar los valores de 'distancia' de forma descendente\n",
    "df4_g = df4_g.sort_values(by='distancia', ascending=False)\n",
    "\n",
    "# Paso 11: Mostrar los primeros 10 resultados\n",
    "df4_g.head(10)"
   ]
  },
  {
   "cell_type": "markdown",
   "id": "79210bd6-2d3c-42ec-8f57-8d29892c4db5",
   "metadata": {},
   "source": [
    "<p style=\"font-size: 15px;\">\n",
    "    <strong>Explicación:</strong><br><br>\n",
    "    Este código tiene como objetivo calcular la distancia entre dispositivos geolocalizados en un barrio específico, filtrando los datos y procesándolos para obtener una lista ordenada de distancias únicas. Primero, se realiza una fusión entre dos DataFrames (<code>df_dispositivos</code> y <code>df_barrios</code>) usando el identificador del barrio, y se filtra solo el barrio denominado \"SUCRE\". Luego, se seleccionan las columnas de código de dispositivo, latitud y longitud para trabajar con ellas, renombrando las columnas de latitud y longitud del segundo dispositivo para evitar confusión en el cálculo. Se genera un cruce de datos (una combinación entre todos los dispositivos con otros dispositivos del mismo barrio) y se filtran aquellos dispositivos que no son iguales. Posteriormente, se calcula la distancia entre cada par de dispositivos usando la fórmula de Haversine, que emplea las coordenadas geográficas (latitud y longitud) de los dispositivos para obtener la distancia en kilómetros. Tras calcular la distancia, se extrae solo la columna correspondiente y se eliminan los duplicados, redondeando los valores a seis decimales para asegurar una representación precisa y consistente. Finalmente, los resultados se ordenan de manera descendente y se muestran los primeros 10 valores más altos. Todo esto permite generar una lista precisa de distancias únicas y ordenadas entre dispositivos dentro del barrio \"SUCRE\".\n",
    "</p>"
   ]
  },
  {
   "cell_type": "markdown",
   "id": "f25253f5-3640-4e19-8d44-c0b3e600fdaa",
   "metadata": {},
   "source": [
    "<p style=\"font-weight: bold; font-size: 15px;\">R code: </p>"
   ]
  },
  {
   "cell_type": "code",
   "execution_count": 13,
   "id": "8d4afe05-8ff9-4f60-bc60-8edbb05da0bf",
   "metadata": {},
   "outputs": [],
   "source": [
    "df4_r <- dfr_dispositivos"
   ]
  },
  {
   "cell_type": "code",
   "execution_count": 83,
   "id": "cbec19bf-62cd-40a9-bf34-16c4b52672c6",
   "metadata": {},
   "outputs": [
    {
     "data": {
      "text/html": [
       "<table class=\"dataframe\">\n",
       "<caption>A data.frame: 10 × 1</caption>\n",
       "<thead>\n",
       "\t<tr><th></th><th scope=col>distancia</th></tr>\n",
       "\t<tr><th></th><th scope=col>&lt;dbl&gt;</th></tr>\n",
       "</thead>\n",
       "<tbody>\n",
       "\t<tr><th scope=row>1</th><td>0.997410</td></tr>\n",
       "\t<tr><th scope=row>2</th><td>0.993480</td></tr>\n",
       "\t<tr><th scope=row>3</th><td>0.991730</td></tr>\n",
       "\t<tr><th scope=row>4</th><td>0.991717</td></tr>\n",
       "\t<tr><th scope=row>5</th><td>0.988943</td></tr>\n",
       "\t<tr><th scope=row>6</th><td>0.988261</td></tr>\n",
       "\t<tr><th scope=row>7</th><td>0.987262</td></tr>\n",
       "\t<tr><th scope=row>8</th><td>0.986266</td></tr>\n",
       "\t<tr><th scope=row>9</th><td>0.984829</td></tr>\n",
       "\t<tr><th scope=row>10</th><td>0.984315</td></tr>\n",
       "</tbody>\n",
       "</table>\n"
      ],
      "text/latex": [
       "A data.frame: 10 × 1\n",
       "\\begin{tabular}{r|l}\n",
       "  & distancia\\\\\n",
       "  & <dbl>\\\\\n",
       "\\hline\n",
       "\t1 & 0.997410\\\\\n",
       "\t2 & 0.993480\\\\\n",
       "\t3 & 0.991730\\\\\n",
       "\t4 & 0.991717\\\\\n",
       "\t5 & 0.988943\\\\\n",
       "\t6 & 0.988261\\\\\n",
       "\t7 & 0.987262\\\\\n",
       "\t8 & 0.986266\\\\\n",
       "\t9 & 0.984829\\\\\n",
       "\t10 & 0.984315\\\\\n",
       "\\end{tabular}\n"
      ],
      "text/markdown": [
       "\n",
       "A data.frame: 10 × 1\n",
       "\n",
       "| <!--/--> | distancia &lt;dbl&gt; |\n",
       "|---|---|\n",
       "| 1 | 0.997410 |\n",
       "| 2 | 0.993480 |\n",
       "| 3 | 0.991730 |\n",
       "| 4 | 0.991717 |\n",
       "| 5 | 0.988943 |\n",
       "| 6 | 0.988261 |\n",
       "| 7 | 0.987262 |\n",
       "| 8 | 0.986266 |\n",
       "| 9 | 0.984829 |\n",
       "| 10 | 0.984315 |\n",
       "\n"
      ],
      "text/plain": [
       "   distancia\n",
       "1  0.997410 \n",
       "2  0.993480 \n",
       "3  0.991730 \n",
       "4  0.991717 \n",
       "5  0.988943 \n",
       "6  0.988261 \n",
       "7  0.987262 \n",
       "8  0.986266 \n",
       "9  0.984829 \n",
       "10 0.984315 "
      ]
     },
     "metadata": {},
     "output_type": "display_data"
    }
   ],
   "source": [
    "# Paso 1: Realizar el join y filtrar los datos para 'Sucre'\n",
    "df4_r_a <- left_join(df4_r, dfr_barrios, by = 'id_barrio') %>% \n",
    "  filter(toupper(nombre_barrio) == 'SUCRE') \n",
    "df4_r_a <- df4_r_a[, c('codigo_dispositivo', 'latitud', 'longitud')]\n",
    "\n",
    "df4_r_b <- left_join(df4_r, dfr_barrios, by = 'id_barrio') %>% \n",
    "  filter(toupper(nombre_barrio) == 'SUCRE')\n",
    "df4_r_b <- df4_r_b[, c('codigo_dispositivo', 'latitud', 'longitud')]\n",
    "\n",
    "# Paso 2: Hacer el merge entre df4_r_a y df4_r_b\n",
    "df4_r_c <- merge(df4_r_a, df4_r_b, by = NULL)\n",
    "\n",
    "# Paso 3: Filtrar las filas donde los códigos de dispositivo no son iguales\n",
    "df4_r_c <- df4_r_c %>% filter(codigo_dispositivo.x != codigo_dispositivo.y)\n",
    "\n",
    "# Paso 4: Renombrar las columnas de manera adecuada\n",
    "df4_r_c <- df4_r_c %>% rename(\n",
    "  la1 = latitud.x,  la2 = latitud.y, \n",
    "  lo1 = longitud.x, lo2 = longitud.y, \n",
    "  d1 = codigo_dispositivo.x, d2 = codigo_dispositivo.y\n",
    ")\n",
    "\n",
    "# Paso 5: Convertir las latitudes y longitudes a radianes (debe ser correcto para la fórmula)\n",
    "df4_r_c$la1_rad <- deg2rad(df4_r_c$la1)\n",
    "df4_r_c$la2_rad <- deg2rad(df4_r_c$la2)\n",
    "df4_r_c$lo1_rad <- deg2rad(df4_r_c$lo1)\n",
    "df4_r_c$lo2_rad <- deg2rad(df4_r_c$lo2)\n",
    "\n",
    "\n",
    "# Paso 6: Calcular la distancia usando la fórmula Haversine, que requiere latitudes y longitudes en radianes\n",
    "\n",
    "df4_r_c$distancia <- 6371 * 2 * asin(\n",
    "  sqrt(\n",
    "    (sin((df4_r_c$la2_rad - df4_r_c$la1_rad) / 2))^2 + \n",
    "    cos(df4_r_c$la1_rad) * cos(df4_r_c$la2_rad) * \n",
    "    (sin((df4_r_c$lo2_rad - df4_r_c$lo1_rad) / 2))^2\n",
    "  )\n",
    ")\n",
    "\n",
    "\n",
    "# Paso 7: Eliminar duplicados y formatear la columna 'distancia'\n",
    "df4_r_d <- df4_r_c %>%\n",
    "  select(distancia) %>%        # Seleccionar solo la columna 'distancia'\n",
    "  distinct()                   # Eliminar duplicados en 'distancia'\n",
    "\n",
    "# Paso 8: Convertir 'distancia' a formato decimal (sin notación científica)\n",
    "df4_r_d$distancia <- round(df4_r_d$distancia, 6)\n",
    "\n",
    "# Paso 9: Ordenar los resultados en función de la columna 'distancia'\n",
    "df4_r_d <- df4_r_d %>% arrange(desc(distancia))\n",
    "\n",
    "# Mostrar los primeros 10 resultados\n",
    "head(df4_r_d, 10)\n",
    "\n",
    "\n"
   ]
  },
  {
   "cell_type": "markdown",
   "id": "39fb8b25-5685-4218-9c39-3fa1b5ed0264",
   "metadata": {},
   "source": [
    "<p style=\"font-size: 15px;\"> <strong>Explicación:</strong><br><br> Este código tiene como objetivo calcular las distancias entre dispositivos ubicados en el barrio \"SUCRE\" utilizando sus coordenadas geográficas (latitud y longitud). Primero, se realiza un <code>left_join</code> entre los dataframes de dispositivos (<code>df4_r</code>) y barrios (<code>dfr_barrios</code>) utilizando el identificador del barrio (<code>id_barrio</code>). Se filtran los dispositivos que pertenecen al barrio \"SUCRE\" usando <code>filter(toupper(nombre_barrio) == 'SUCRE')</code>. Luego, se seleccionan las columnas de código de dispositivo, latitud y longitud. Este proceso se repite para generar dos conjuntos de datos, <code>df4_r_a</code> y <code>df4_r_b</code>, que contienen información de los dispositivos en el barrio.\n",
    "less\n",
    "Copiar código\n",
    "\n"
   ]
  },
  {
   "cell_type": "markdown",
   "id": "afdc21ee-4656-4b13-90a3-8211cc960ac7",
   "metadata": {},
   "source": [
    "<p style=\"text-align:center; color:navy; font-size: 15px;\">Realizado por <strong><em>Klissmann Anaclerio</em></strong>, prohibido su distribución sin autorización.</p>\n",
    "\n"
   ]
  },
  {
   "cell_type": "markdown",
   "id": "8c979df2-18bf-4534-968c-926c259991b4",
   "metadata": {},
   "source": [
    "<img src=\"https://blog.tryshiftcdn.com/uploads/2021/11/use.jpg\" alt=\"Imagen explicativa\" style=\"max-width: 50%; height: auto; display: block; margin-left: auto; margin-right: auto; margin-bottom: 15px;\">\n"
   ]
  }
 ],
 "metadata": {
  "kernelspec": {
   "display_name": "R",
   "language": "R",
   "name": "ir"
  },
  "language_info": {
   "codemirror_mode": "r",
   "file_extension": ".r",
   "mimetype": "text/x-r-source",
   "name": "R",
   "pygments_lexer": "r",
   "version": "4.1.2"
  }
 },
 "nbformat": 4,
 "nbformat_minor": 5
}
