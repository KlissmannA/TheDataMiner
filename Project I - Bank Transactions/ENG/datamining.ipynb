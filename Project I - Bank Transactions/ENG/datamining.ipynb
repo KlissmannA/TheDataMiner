{
 "cells": [
  {
   "cell_type": "markdown",
   "id": "807210d5-b552-4ab2-8518-3734ae97323e",
   "metadata": {},
   "source": [
    "<p style=\"text-align:center; color:navy; font-size: 15px;\">\n",
    "  Created by <strong><em>Klissmann Anaclerio.</em></strong><br>\n",
    "  Distribution without authorization is prohibited.\n",
    "</p>"
   ]
  },
  {
   "cell_type": "markdown",
   "id": "b17825f2-dc23-4cad-8aaf-5f3b29268faf",
   "metadata": {},
   "source": [
    "<p style=\"text-align:center; color: #2C3E50; font-size: 25px;\">\n",
    "  Datamining <span style=\"color:#E74C3C;\">#1</span> Banking Devices:\n",
    "</p>"
   ]
  },
  {
   "cell_type": "markdown",
   "id": "4cace3e8-0b44-45fb-9910-43565dbed757",
   "metadata": {},
   "source": [
    "<p style=\"font-size: 16px; color: #333; font-weight: bold; margin-bottom: 10px;\">\n",
    "  The analysis process will be carried out using three programming languages: <span style=\"color: #0066cc;\">SQL</span>, <span style=\"color: #ff6600;\">Python</span>, and <span style=\"color: #28a745;\">R</span>, to answer the following questions:\n",
    "</p>\n",
    "\n",
    "<ul style=\"list-style-type: none; padding-left: 0;\">\n",
    "  <li style=\"font-size: 16px; color: #444; margin-bottom: 8px; line-height: 1.5; padding-left: 20px;\">\n",
    "    <span style=\"font-weight: bold; color: #0066cc;\">1. </span> What neighborhoods have at least 51% of the total money transacted by each customer?\n",
    "  </li>\n",
    "  \n",
    "  <li style=\"font-size: 16px; color: #444; margin-bottom: 8px; line-height: 1.5; padding-left: 20px;\">\n",
    "    <span style=\"font-weight: bold; color: #ff6600;\">2. </span> What devices have transactions from at least 100 different customers?\n",
    "  </li>\n",
    "\n",
    "  <li style=\"font-size: 16px; color: #444; margin-bottom: 8px; line-height: 1.5; padding-left: 20px;\">\n",
    "    <span style=\"font-weight: bold; color: #28a745;\">3. </span> What are the 5 neighborhoods where the highest number of unique customers make transactions on POS-type devices? The answer should include the number of customers associated with these neighborhoods.\n",
    "  </li>\n",
    "\n",
    "  <li style=\"font-size: 16px; color: #444; margin-bottom: 8px; line-height: 1.5; padding-left: 20px;\">\n",
    "    <span style=\"font-weight: bold; color: #dc3545;\">4. </span> What are the 10 unique distances (in kilometers) between the most distant devices in the Sucre neighborhood?\n",
    "  </li>\n",
    "</ul>\n",
    "\n",
    "\n"
   ]
  },
  {
   "cell_type": "markdown",
   "id": "b34ea665-9e46-4754-9b07-b0008285c09f",
   "metadata": {},
   "source": [
    "<p style=\"font-weight: bold; font-size: 16px;\">Information from the .csv files:</p>\n",
    "<ul>\n",
    "  <li>Files with UTF-8 encoding</li>\n",
    "  <li>exa_barrios: A list of neighborhoods (areas) in a city.</li>\n",
    "  <li>exa_dispositivos: A list of physical channel devices (branches, ATMs, multifunctional devices, bank correspondents, PAC, and establishments – POS), including their geographical location.</li>\n",
    "  <li>exa_trx_clientes: Contains the number and amount of transactions from several customers made on some of the above devices.</li>\n",
    "</ul>"
   ]
  },
  {
   "cell_type": "markdown",
   "id": "1c1fa7dc-2601-40e3-834a-947a9fc8c1b3",
   "metadata": {},
   "source": [
    "<p style=\"font-weight: bold; font-size: 16px;\">Warning:</p>\n",
    "<p>The data contained in the CSV files is fictional and is only used for demonstration purposes. <br> \n",
    "This includes: device names, locations, customers, amounts, and any other information presented.</p>\n"
   ]
  },
  {
   "cell_type": "markdown",
   "id": "e526d535-5a76-4c2f-a36a-40d0eb61358d",
   "metadata": {},
   "source": [
    "<p style=\"font-weight: bold; font-size: 16px;\">System Information:</p>\n",
    "<ul>\n",
    "  <li>Ubuntu Desktop as the Operating System.</li>\n",
    "  <li>CSV files loaded into the PostgresSQL-14 engine.</li>\n",
    "  <li>Python 3.12</li>\n",
    "  <li>R 4.1.2</li>\n",
    "</ul>"
   ]
  },
  {
   "cell_type": "markdown",
   "id": "e0d346b1-4e5e-41b6-a4e5-0537c388627d",
   "metadata": {},
   "source": [
    "<p style=\"font-weight: bold; font-size: 16px;\">Link to download the CSV files:</p>\n",
    "<ul>\n",
    "  <li><a href=\"https://github.com/KlissmannA/TheDataMiner/tree/main/Project%20I/English/data\" target=\"_blank\">Github</a></li>\n",
    "</ul>"
   ]
  },
  {
   "cell_type": "markdown",
   "id": "15e69a5f-06da-48b4-8141-40703633a317",
   "metadata": {},
   "source": [
    "<p style=\"font-weight: bold; font-size: 14px;\">exa_barrios.csv</p>\n",
    "<p>id_barrio = neighborhood_id</p>\n",
    "<p>nombre_barrio = neighborhood_name</p>\n",
    "\n",
    "<p style=\"font-weight: bold; font-size: 14px;\">exa_dispositivos.csv</p>\n",
    "<p>cliente = client</p>\n",
    "<p>tipo_doc = document_type</p>\n",
    "<p>tipo_dispositivo = device_type</p>\n",
    "<p>codigo_dispositivo = device_code</p>\n",
    "<p>num_trx = transaction_count</p>\n",
    "<p>mnt_total_trx = total_transaction_amount</p>\n",
    "\n",
    "<p style=\"font-weight: bold; font-size: 14px;\">exa_trx_clientes.csv</p>\n",
    "<p>tipo_dispositivo = device_type</p>\n",
    "<p>codigo_dispositivo = device_code</p>\n",
    "<p>latitud = latitude</p>\n",
    "<p>longitud = longitude</p>\n",
    "<p>id_barrio = neighborhood_id</p>"
   ]
  },
  {
   "cell_type": "markdown",
   "id": "a9d4b6c4-b42d-4bac-ac9f-f7f13b86afc4",
   "metadata": {},
   "source": [
    "<p style=\"font-weight: bold; font-size: 12px;\">Important note: The column name \"num_cliente\" was changed to \"cliente\" in SQL.</p>"
   ]
  },
  {
   "cell_type": "markdown",
   "id": "ebfabc2b-3ea4-4297-bc53-da626e1a5898",
   "metadata": {},
   "source": [
    "<p style=\"text-align:center; color: #2C3E50; font-size: 25px;\">\n",
    "  Preparation with <span style=\"color:#E74C3C; font-weight: bold;\">Python</span>\n",
    "</p>\n",
    "\n",
    "<img src=\"https://i0.wp.com/junilearning.com/wp-content/uploads/2020/06/python-programming-language.webp?fit=800%2C800&ssl=1\" alt=\"Python Programming\" style=\"display:block; margin:auto; width:15%;\"/>\n",
    "\n"
   ]
  },
  {
   "cell_type": "markdown",
   "id": "b3503221-8628-488f-8299-fd3bfa8569e0",
   "metadata": {},
   "source": [
    "<p style=\"font-weight: bold; font-size: 15px;\">Libraries for Python</p>\n"
   ]
  },
  {
   "cell_type": "code",
   "execution_count": 1,
   "id": "e3ebe7c9-cc04-4040-9a3e-f63214251479",
   "metadata": {},
   "outputs": [],
   "source": [
    "import pandas as pd\n",
    "import os\n",
    "import numpy as np"
   ]
  },
  {
   "cell_type": "markdown",
   "id": "ad678e23-041f-4a1b-b056-809c42425fc8",
   "metadata": {},
   "source": [
    "<p style=\"font-weight: bold; font-size: 15px;\">Directories and files with the OS module</p>\n"
   ]
  },
  {
   "cell_type": "code",
   "execution_count": 2,
   "id": "eafa5c74-337f-41af-ad9b-ed96fb38bb64",
   "metadata": {},
   "outputs": [],
   "source": [
    "dir = '/home/u2/Desktop/x'"
   ]
  },
  {
   "cell_type": "code",
   "execution_count": 3,
   "id": "f35a1383-cdc0-48f7-88c0-a4f3652ab5da",
   "metadata": {},
   "outputs": [],
   "source": [
    "barrios = os.path.join(dir,'exa_barrios.csv')\n",
    "\n",
    "dispositivos = os.path.join(dir,'exa_dispositivos.csv')\n",
    "\n",
    "clientes = os.path.join(dir,'exa_trx_clientes.csv')"
   ]
  },
  {
   "cell_type": "markdown",
   "id": "0293fa6c-8186-4a46-9f2b-804e327c2ff7",
   "metadata": {},
   "source": [
    "<p style=\"font-weight: bold; font-size: 15px;\">Read the CSV files with the Pandas module</p>\n"
   ]
  },
  {
   "cell_type": "code",
   "execution_count": 4,
   "id": "882c2f10-4277-4388-8e5e-3c7070e9fde8",
   "metadata": {},
   "outputs": [],
   "source": [
    "df_barrios = pd.read_csv(barrios)\n",
    "\n",
    "df_dispositivos = pd.read_csv(dispositivos)\n",
    "\n",
    "df_clientes = pd.read_csv(clientes)"
   ]
  },
  {
   "cell_type": "markdown",
   "id": "939140f4-f55f-4f86-a00a-2511155e0f4e",
   "metadata": {},
   "source": [
    "<p style=\"font-weight: bold; font-size: 15px;\">View each dataframe in detail with Python</p>\n"
   ]
  },
  {
   "cell_type": "markdown",
   "id": "29a53e20-a5a9-4995-83e7-a71960fb247e",
   "metadata": {},
   "source": [
    "<p style=\"font-weight: bold; font-size: 15px;\"> Barrios. </p>"
   ]
  },
  {
   "cell_type": "code",
   "execution_count": 5,
   "id": "126ee7cb-aa6a-47d2-84ec-9350df744340",
   "metadata": {},
   "outputs": [
    {
     "name": "stdout",
     "output_type": "stream",
     "text": [
      "<class 'pandas.core.frame.DataFrame'>\n",
      "RangeIndex: 337 entries, 0 to 336\n",
      "Data columns (total 2 columns):\n",
      " #   Column         Non-Null Count  Dtype \n",
      "---  ------         --------------  ----- \n",
      " 0   id_barrio      337 non-null    int64 \n",
      " 1   nombre_barrio  337 non-null    object\n",
      "dtypes: int64(1), object(1)\n",
      "memory usage: 5.4+ KB\n",
      "\n",
      "\n"
     ]
    },
    {
     "data": {
      "text/plain": [
       "id_barrio        0\n",
       "nombre_barrio    0\n",
       "dtype: int64"
      ]
     },
     "execution_count": 5,
     "metadata": {},
     "output_type": "execute_result"
    }
   ],
   "source": [
    "df_barrios.info()\n",
    "\n",
    "print('\\n')\n",
    "\n",
    "df_barrios.isnull().sum()"
   ]
  },
  {
   "cell_type": "markdown",
   "id": "154f8240-d2c9-4647-809a-d2cdc50c90ca",
   "metadata": {},
   "source": [
    "<p style=\"font-weight: bold; font-size: 15px;\"> Dispositivos.</p>"
   ]
  },
  {
   "cell_type": "code",
   "execution_count": 6,
   "id": "b79917cd-6603-41aa-9534-01f0d3dcd22a",
   "metadata": {},
   "outputs": [
    {
     "name": "stdout",
     "output_type": "stream",
     "text": [
      "<class 'pandas.core.frame.DataFrame'>\n",
      "RangeIndex: 37284 entries, 0 to 37283\n",
      "Data columns (total 5 columns):\n",
      " #   Column              Non-Null Count  Dtype  \n",
      "---  ------              --------------  -----  \n",
      " 0   tipo_dispositivo    37284 non-null  object \n",
      " 1   codigo_dispositivo  37284 non-null  int64  \n",
      " 2   latitud             37284 non-null  float64\n",
      " 3   longitud            37284 non-null  float64\n",
      " 4   id_barrio           37284 non-null  int64  \n",
      "dtypes: float64(2), int64(2), object(1)\n",
      "memory usage: 1.4+ MB\n",
      "\n",
      "\n"
     ]
    },
    {
     "data": {
      "text/plain": [
       "tipo_dispositivo      0\n",
       "codigo_dispositivo    0\n",
       "latitud               0\n",
       "longitud              0\n",
       "id_barrio             0\n",
       "dtype: int64"
      ]
     },
     "execution_count": 6,
     "metadata": {},
     "output_type": "execute_result"
    }
   ],
   "source": [
    "df_dispositivos.info()\n",
    "\n",
    "print('\\n')\n",
    "\n",
    "df_dispositivos.isnull().sum()"
   ]
  },
  {
   "cell_type": "markdown",
   "id": "ace3e1c4-0084-44b8-99e3-655e0182ae1b",
   "metadata": {},
   "source": [
    "<p style=\"font-weight: bold; font-size: 15px;\"> Clientes.</p>"
   ]
  },
  {
   "cell_type": "code",
   "execution_count": 7,
   "id": "009d66ee-6f33-47a1-819a-67ee98e6c876",
   "metadata": {},
   "outputs": [
    {
     "name": "stdout",
     "output_type": "stream",
     "text": [
      "<class 'pandas.core.frame.DataFrame'>\n",
      "RangeIndex: 93446 entries, 0 to 93445\n",
      "Data columns (total 6 columns):\n",
      " #   Column              Non-Null Count  Dtype  \n",
      "---  ------              --------------  -----  \n",
      " 0   Unnamed: 0          93446 non-null  float64\n",
      " 1   tipo_doc            93446 non-null  int64  \n",
      " 2   tipo_dispositivo    93446 non-null  object \n",
      " 3   codigo_dispositivo  93446 non-null  int64  \n",
      " 4   num_trx             93446 non-null  int64  \n",
      " 5   mnt_total_trx       93446 non-null  float64\n",
      "dtypes: float64(2), int64(3), object(1)\n",
      "memory usage: 4.3+ MB\n",
      "\n",
      "\n"
     ]
    },
    {
     "data": {
      "text/plain": [
       "Unnamed: 0            0\n",
       "tipo_doc              0\n",
       "tipo_dispositivo      0\n",
       "codigo_dispositivo    0\n",
       "num_trx               0\n",
       "mnt_total_trx         0\n",
       "dtype: int64"
      ]
     },
     "execution_count": 7,
     "metadata": {},
     "output_type": "execute_result"
    }
   ],
   "source": [
    "df_clientes.info()\n",
    "\n",
    "print('\\n')\n",
    "\n",
    "df_clientes.isnull().sum()"
   ]
  },
  {
   "cell_type": "markdown",
   "id": "189d41ac-1573-44a8-8bee-cad8c02c19a7",
   "metadata": {},
   "source": [
    "<p style=\"font-weight: bold; font-size: 15px;\">Change the name of the 'Unnamed' column to 'cliente'.</p>\n"
   ]
  },
  {
   "cell_type": "code",
   "execution_count": 8,
   "id": "8a0be54f-4b7b-4ab4-8dcc-5c3ec132ff76",
   "metadata": {},
   "outputs": [],
   "source": [
    "df_clientes.rename(columns={'Unnamed: 0': 'cliente'}, inplace=True)"
   ]
  },
  {
   "cell_type": "markdown",
   "id": "f8591daa-3425-4239-9f24-b93d7510833d",
   "metadata": {},
   "source": [
    "<p style=\"font-weight: bold; font-size: 15px;\">View the head of each dataframe with Python.</p>"
   ]
  },
  {
   "cell_type": "code",
   "execution_count": 9,
   "id": "11d8ed9d-b04c-42cc-b6a6-686eb40491f4",
   "metadata": {},
   "outputs": [
    {
     "data": {
      "text/html": [
       "<div>\n",
       "<style scoped>\n",
       "    .dataframe tbody tr th:only-of-type {\n",
       "        vertical-align: middle;\n",
       "    }\n",
       "\n",
       "    .dataframe tbody tr th {\n",
       "        vertical-align: top;\n",
       "    }\n",
       "\n",
       "    .dataframe thead th {\n",
       "        text-align: right;\n",
       "    }\n",
       "</style>\n",
       "<table border=\"1\" class=\"dataframe\">\n",
       "  <thead>\n",
       "    <tr style=\"text-align: right;\">\n",
       "      <th></th>\n",
       "      <th>id_barrio</th>\n",
       "      <th>nombre_barrio</th>\n",
       "    </tr>\n",
       "  </thead>\n",
       "  <tbody>\n",
       "    <tr>\n",
       "      <th>0</th>\n",
       "      <td>737998257</td>\n",
       "      <td>La Campina</td>\n",
       "    </tr>\n",
       "    <tr>\n",
       "      <th>1</th>\n",
       "      <td>737999435</td>\n",
       "      <td>Guayaquil</td>\n",
       "    </tr>\n",
       "    <tr>\n",
       "      <th>2</th>\n",
       "      <td>737998219</td>\n",
       "      <td>Vipasa</td>\n",
       "    </tr>\n",
       "    <tr>\n",
       "      <th>3</th>\n",
       "      <td>737996837</td>\n",
       "      <td>Lourdes</td>\n",
       "    </tr>\n",
       "    <tr>\n",
       "      <th>4</th>\n",
       "      <td>737997031</td>\n",
       "      <td>Villanueva</td>\n",
       "    </tr>\n",
       "  </tbody>\n",
       "</table>\n",
       "</div>"
      ],
      "text/plain": [
       "   id_barrio nombre_barrio\n",
       "0  737998257    La Campina\n",
       "1  737999435     Guayaquil\n",
       "2  737998219        Vipasa\n",
       "3  737996837       Lourdes\n",
       "4  737997031    Villanueva"
      ]
     },
     "execution_count": 9,
     "metadata": {},
     "output_type": "execute_result"
    }
   ],
   "source": [
    "df_barrios.head()"
   ]
  },
  {
   "cell_type": "code",
   "execution_count": 10,
   "id": "e4db6a71-5c08-4948-a712-cc9fd83e8443",
   "metadata": {},
   "outputs": [
    {
     "data": {
      "text/html": [
       "<div>\n",
       "<style scoped>\n",
       "    .dataframe tbody tr th:only-of-type {\n",
       "        vertical-align: middle;\n",
       "    }\n",
       "\n",
       "    .dataframe tbody tr th {\n",
       "        vertical-align: top;\n",
       "    }\n",
       "\n",
       "    .dataframe thead th {\n",
       "        text-align: right;\n",
       "    }\n",
       "</style>\n",
       "<table border=\"1\" class=\"dataframe\">\n",
       "  <thead>\n",
       "    <tr style=\"text-align: right;\">\n",
       "      <th></th>\n",
       "      <th>cliente</th>\n",
       "      <th>tipo_doc</th>\n",
       "      <th>tipo_dispositivo</th>\n",
       "      <th>codigo_dispositivo</th>\n",
       "      <th>num_trx</th>\n",
       "      <th>mnt_total_trx</th>\n",
       "    </tr>\n",
       "  </thead>\n",
       "  <tbody>\n",
       "    <tr>\n",
       "      <th>0</th>\n",
       "      <td>6.861790e+18</td>\n",
       "      <td>1</td>\n",
       "      <td>POS</td>\n",
       "      <td>14812028</td>\n",
       "      <td>3</td>\n",
       "      <td>22218042.0</td>\n",
       "    </tr>\n",
       "    <tr>\n",
       "      <th>1</th>\n",
       "      <td>1.552970e+18</td>\n",
       "      <td>1</td>\n",
       "      <td>POS</td>\n",
       "      <td>14388938</td>\n",
       "      <td>3</td>\n",
       "      <td>21583407.0</td>\n",
       "    </tr>\n",
       "    <tr>\n",
       "      <th>2</th>\n",
       "      <td>-4.075900e+18</td>\n",
       "      <td>1</td>\n",
       "      <td>POS</td>\n",
       "      <td>12370698</td>\n",
       "      <td>1</td>\n",
       "      <td>6185349.0</td>\n",
       "    </tr>\n",
       "    <tr>\n",
       "      <th>3</th>\n",
       "      <td>3.539340e+18</td>\n",
       "      <td>1</td>\n",
       "      <td>POS</td>\n",
       "      <td>10313583</td>\n",
       "      <td>2</td>\n",
       "      <td>10313583.0</td>\n",
       "    </tr>\n",
       "    <tr>\n",
       "      <th>4</th>\n",
       "      <td>5.595550e+18</td>\n",
       "      <td>1</td>\n",
       "      <td>POS</td>\n",
       "      <td>14358071</td>\n",
       "      <td>4</td>\n",
       "      <td>28716142.0</td>\n",
       "    </tr>\n",
       "  </tbody>\n",
       "</table>\n",
       "</div>"
      ],
      "text/plain": [
       "        cliente  tipo_doc tipo_dispositivo  codigo_dispositivo  num_trx  \\\n",
       "0  6.861790e+18         1              POS            14812028        3   \n",
       "1  1.552970e+18         1              POS            14388938        3   \n",
       "2 -4.075900e+18         1              POS            12370698        1   \n",
       "3  3.539340e+18         1              POS            10313583        2   \n",
       "4  5.595550e+18         1              POS            14358071        4   \n",
       "\n",
       "   mnt_total_trx  \n",
       "0     22218042.0  \n",
       "1     21583407.0  \n",
       "2      6185349.0  \n",
       "3     10313583.0  \n",
       "4     28716142.0  "
      ]
     },
     "execution_count": 10,
     "metadata": {},
     "output_type": "execute_result"
    }
   ],
   "source": [
    "df_clientes.head()"
   ]
  },
  {
   "cell_type": "code",
   "execution_count": 11,
   "id": "3f981eed-c242-44bf-ad72-a67c3d4b8b9c",
   "metadata": {},
   "outputs": [
    {
     "data": {
      "text/html": [
       "<div>\n",
       "<style scoped>\n",
       "    .dataframe tbody tr th:only-of-type {\n",
       "        vertical-align: middle;\n",
       "    }\n",
       "\n",
       "    .dataframe tbody tr th {\n",
       "        vertical-align: top;\n",
       "    }\n",
       "\n",
       "    .dataframe thead th {\n",
       "        text-align: right;\n",
       "    }\n",
       "</style>\n",
       "<table border=\"1\" class=\"dataframe\">\n",
       "  <thead>\n",
       "    <tr style=\"text-align: right;\">\n",
       "      <th></th>\n",
       "      <th>tipo_dispositivo</th>\n",
       "      <th>codigo_dispositivo</th>\n",
       "      <th>latitud</th>\n",
       "      <th>longitud</th>\n",
       "      <th>id_barrio</th>\n",
       "    </tr>\n",
       "  </thead>\n",
       "  <tbody>\n",
       "    <tr>\n",
       "      <th>0</th>\n",
       "      <td>POS</td>\n",
       "      <td>1024702</td>\n",
       "      <td>3.451135</td>\n",
       "      <td>-76.530893</td>\n",
       "      <td>737998832</td>\n",
       "    </tr>\n",
       "    <tr>\n",
       "      <th>1</th>\n",
       "      <td>POS</td>\n",
       "      <td>1076402</td>\n",
       "      <td>3.446585</td>\n",
       "      <td>-76.517672</td>\n",
       "      <td>738000381</td>\n",
       "    </tr>\n",
       "    <tr>\n",
       "      <th>2</th>\n",
       "      <td>POS</td>\n",
       "      <td>1077002</td>\n",
       "      <td>3.446585</td>\n",
       "      <td>-76.517672</td>\n",
       "      <td>738000381</td>\n",
       "    </tr>\n",
       "    <tr>\n",
       "      <th>3</th>\n",
       "      <td>POS</td>\n",
       "      <td>3342404</td>\n",
       "      <td>3.476909</td>\n",
       "      <td>-76.485286</td>\n",
       "      <td>737998905</td>\n",
       "    </tr>\n",
       "    <tr>\n",
       "      <th>4</th>\n",
       "      <td>POS</td>\n",
       "      <td>3378003</td>\n",
       "      <td>3.485575</td>\n",
       "      <td>-76.516418</td>\n",
       "      <td>737998174</td>\n",
       "    </tr>\n",
       "  </tbody>\n",
       "</table>\n",
       "</div>"
      ],
      "text/plain": [
       "  tipo_dispositivo  codigo_dispositivo   latitud   longitud  id_barrio\n",
       "0              POS             1024702  3.451135 -76.530893  737998832\n",
       "1              POS             1076402  3.446585 -76.517672  738000381\n",
       "2              POS             1077002  3.446585 -76.517672  738000381\n",
       "3              POS             3342404  3.476909 -76.485286  737998905\n",
       "4              POS             3378003  3.485575 -76.516418  737998174"
      ]
     },
     "execution_count": 11,
     "metadata": {},
     "output_type": "execute_result"
    }
   ],
   "source": [
    "df_dispositivos.head()"
   ]
  },
  {
   "cell_type": "markdown",
   "id": "7e875e32-628b-4917-a42f-f1f23e4ce22e",
   "metadata": {},
   "source": [
    "<p style=\"text-align:center; color: #2C3E50; font-size: 25px;\">\n",
    "  Preparation with <span style=\"color:#E74C3C; font-weight: bold;\">R</span>\n",
    "</p>\n",
    "\n",
    "<img src=\"https://media.licdn.com/dms/image/v2/C5112AQGwFKL8eouK0A/article-cover_image-shrink_600_2000/article-cover_image-shrink_600_2000/0/1523824114776?e=2147483647&v=beta&t=VdgLZlvJCA0vUzucSk-ElXr0oV5X324LhVNLLcmNZLk\" style=\"display:block; margin:auto; width:15%;\"/>\n"
   ]
  },
  {
   "cell_type": "markdown",
   "id": "7a88acc9-cdc7-43a5-9e45-53bc0601e1f4",
   "metadata": {},
   "source": [
    "<p style=\"font-weight: bold; font-size: 15px;\">Libraries for R</p>\n"
   ]
  },
  {
   "cell_type": "code",
   "execution_count": 4,
   "id": "bbbad894-03a8-46fe-b5f6-990eaf394ab4",
   "metadata": {},
   "outputs": [],
   "source": [
    "library(dplyr)\n",
    "library(readr)\n",
    "library(pracma)"
   ]
  },
  {
   "cell_type": "markdown",
   "id": "ded7eead-8600-4ad7-ac67-78c45805664e",
   "metadata": {},
   "source": [
    "<p style=\"font-weight: bold; font-size: 15px;\">Directories and files with the read library and create the dataframes.</p>\n"
   ]
  },
  {
   "cell_type": "code",
   "execution_count": 5,
   "id": "4a79efa7-808d-48f1-bb28-91026bca8f67",
   "metadata": {},
   "outputs": [],
   "source": [
    "dir_R <- '/home/u2/Desktop/x'"
   ]
  },
  {
   "cell_type": "code",
   "execution_count": 7,
   "id": "9bcaaf32-db7d-4735-b95a-0b89d705a956",
   "metadata": {},
   "outputs": [],
   "source": [
    "dfr_barrios <- read_csv(file.path(dir_R,'exa_barrios.csv'), show_col_types = FALSE)\n",
    "\n",
    "dfr_dispositivos <- read_csv(file.path(dir_R,'exa_dispositivos.csv'), show_col_types = FALSE)\n",
    "\n",
    "dfr_clientes <- read_csv(file.path(dir_R,'exa_trx_clientes.csv'), show_col_types = FALSE)"
   ]
  },
  {
   "cell_type": "markdown",
   "id": "83ab3729-98df-442c-ad9c-ed95af5c4b99",
   "metadata": {},
   "source": [
    "<p style=\"font-weight: bold; font-size: 15px;\">Change from num_cliente to cliente</p>\n"
   ]
  },
  {
   "cell_type": "code",
   "execution_count": 8,
   "id": "4cb9f6b2-a3fc-4ac8-9403-dfb9ee55f139",
   "metadata": {},
   "outputs": [],
   "source": [
    "dfr_clientes <- dfr_clientes %>%\n",
    "  rename( cliente = num_cliente ) "
   ]
  },
  {
   "cell_type": "markdown",
   "id": "ce7f2e24-edef-407f-b16c-4e58e0b09fd3",
   "metadata": {},
   "source": [
    "<p style=\"font-weight: bold; font-size: 15px;\">View each dataframe in detail with R</p>\n"
   ]
  },
  {
   "cell_type": "code",
   "execution_count": 9,
   "id": "f34745ab-568c-4510-a2f3-6953a9da85aa",
   "metadata": {},
   "outputs": [
    {
     "data": {
      "text/html": [
       "<table class=\"dataframe\">\n",
       "<caption>A tibble: 5 × 2</caption>\n",
       "<thead>\n",
       "\t<tr><th scope=col>id_barrio</th><th scope=col>nombre_barrio</th></tr>\n",
       "\t<tr><th scope=col>&lt;dbl&gt;</th><th scope=col>&lt;chr&gt;</th></tr>\n",
       "</thead>\n",
       "<tbody>\n",
       "\t<tr><td>737998257</td><td>La Campina</td></tr>\n",
       "\t<tr><td>737999435</td><td>Guayaquil </td></tr>\n",
       "\t<tr><td>737998219</td><td>Vipasa    </td></tr>\n",
       "\t<tr><td>737996837</td><td>Lourdes   </td></tr>\n",
       "\t<tr><td>737997031</td><td>Villanueva</td></tr>\n",
       "</tbody>\n",
       "</table>\n"
      ],
      "text/latex": [
       "A tibble: 5 × 2\n",
       "\\begin{tabular}{ll}\n",
       " id\\_barrio & nombre\\_barrio\\\\\n",
       " <dbl> & <chr>\\\\\n",
       "\\hline\n",
       "\t 737998257 & La Campina\\\\\n",
       "\t 737999435 & Guayaquil \\\\\n",
       "\t 737998219 & Vipasa    \\\\\n",
       "\t 737996837 & Lourdes   \\\\\n",
       "\t 737997031 & Villanueva\\\\\n",
       "\\end{tabular}\n"
      ],
      "text/markdown": [
       "\n",
       "A tibble: 5 × 2\n",
       "\n",
       "| id_barrio &lt;dbl&gt; | nombre_barrio &lt;chr&gt; |\n",
       "|---|---|\n",
       "| 737998257 | La Campina |\n",
       "| 737999435 | Guayaquil  |\n",
       "| 737998219 | Vipasa     |\n",
       "| 737996837 | Lourdes    |\n",
       "| 737997031 | Villanueva |\n",
       "\n"
      ],
      "text/plain": [
       "  id_barrio nombre_barrio\n",
       "1 737998257 La Campina   \n",
       "2 737999435 Guayaquil    \n",
       "3 737998219 Vipasa       \n",
       "4 737996837 Lourdes      \n",
       "5 737997031 Villanueva   "
      ]
     },
     "metadata": {},
     "output_type": "display_data"
    }
   ],
   "source": [
    "head(dfr_barrios,5)"
   ]
  },
  {
   "cell_type": "code",
   "execution_count": 10,
   "id": "8fe66089-7d2c-44d9-9d08-e9c598494d22",
   "metadata": {},
   "outputs": [
    {
     "name": "stdout",
     "output_type": "stream",
     "text": [
      "spc_tbl_ [337 × 2] (S3: spec_tbl_df/tbl_df/tbl/data.frame)\n",
      " $ id_barrio    : num [1:337] 7.38e+08 7.38e+08 7.38e+08 7.38e+08 7.38e+08 ...\n",
      " $ nombre_barrio: chr [1:337] \"La Campina\" \"Guayaquil\" \"Vipasa\" \"Lourdes\" ...\n",
      " - attr(*, \"spec\")=\n",
      "  .. cols(\n",
      "  ..   id_barrio = \u001b[32mcol_double()\u001b[39m,\n",
      "  ..   nombre_barrio = \u001b[31mcol_character()\u001b[39m\n",
      "  .. )\n",
      " - attr(*, \"problems\")=<externalptr> \n"
     ]
    }
   ],
   "source": [
    "str(dfr_barrios)"
   ]
  },
  {
   "cell_type": "code",
   "execution_count": 11,
   "id": "b4632b50-fe43-4ce8-809a-793669a1d4f1",
   "metadata": {},
   "outputs": [
    {
     "data": {
      "text/html": [
       "<table class=\"dataframe\">\n",
       "<caption>A tibble: 5 × 5</caption>\n",
       "<thead>\n",
       "\t<tr><th scope=col>tipo_dispositivo</th><th scope=col>codigo_dispositivo</th><th scope=col>latitud</th><th scope=col>longitud</th><th scope=col>id_barrio</th></tr>\n",
       "\t<tr><th scope=col>&lt;chr&gt;</th><th scope=col>&lt;dbl&gt;</th><th scope=col>&lt;dbl&gt;</th><th scope=col>&lt;dbl&gt;</th><th scope=col>&lt;dbl&gt;</th></tr>\n",
       "</thead>\n",
       "<tbody>\n",
       "\t<tr><td>POS</td><td>1024702</td><td>3.451135</td><td>-76.53089</td><td>737998832</td></tr>\n",
       "\t<tr><td>POS</td><td>1076402</td><td>3.446585</td><td>-76.51767</td><td>738000381</td></tr>\n",
       "\t<tr><td>POS</td><td>1077002</td><td>3.446585</td><td>-76.51767</td><td>738000381</td></tr>\n",
       "\t<tr><td>POS</td><td>3342404</td><td>3.476909</td><td>-76.48529</td><td>737998905</td></tr>\n",
       "\t<tr><td>POS</td><td>3378003</td><td>3.485575</td><td>-76.51642</td><td>737998174</td></tr>\n",
       "</tbody>\n",
       "</table>\n"
      ],
      "text/latex": [
       "A tibble: 5 × 5\n",
       "\\begin{tabular}{lllll}\n",
       " tipo\\_dispositivo & codigo\\_dispositivo & latitud & longitud & id\\_barrio\\\\\n",
       " <chr> & <dbl> & <dbl> & <dbl> & <dbl>\\\\\n",
       "\\hline\n",
       "\t POS & 1024702 & 3.451135 & -76.53089 & 737998832\\\\\n",
       "\t POS & 1076402 & 3.446585 & -76.51767 & 738000381\\\\\n",
       "\t POS & 1077002 & 3.446585 & -76.51767 & 738000381\\\\\n",
       "\t POS & 3342404 & 3.476909 & -76.48529 & 737998905\\\\\n",
       "\t POS & 3378003 & 3.485575 & -76.51642 & 737998174\\\\\n",
       "\\end{tabular}\n"
      ],
      "text/markdown": [
       "\n",
       "A tibble: 5 × 5\n",
       "\n",
       "| tipo_dispositivo &lt;chr&gt; | codigo_dispositivo &lt;dbl&gt; | latitud &lt;dbl&gt; | longitud &lt;dbl&gt; | id_barrio &lt;dbl&gt; |\n",
       "|---|---|---|---|---|\n",
       "| POS | 1024702 | 3.451135 | -76.53089 | 737998832 |\n",
       "| POS | 1076402 | 3.446585 | -76.51767 | 738000381 |\n",
       "| POS | 1077002 | 3.446585 | -76.51767 | 738000381 |\n",
       "| POS | 3342404 | 3.476909 | -76.48529 | 737998905 |\n",
       "| POS | 3378003 | 3.485575 | -76.51642 | 737998174 |\n",
       "\n"
      ],
      "text/plain": [
       "  tipo_dispositivo codigo_dispositivo latitud  longitud  id_barrio\n",
       "1 POS              1024702            3.451135 -76.53089 737998832\n",
       "2 POS              1076402            3.446585 -76.51767 738000381\n",
       "3 POS              1077002            3.446585 -76.51767 738000381\n",
       "4 POS              3342404            3.476909 -76.48529 737998905\n",
       "5 POS              3378003            3.485575 -76.51642 737998174"
      ]
     },
     "metadata": {},
     "output_type": "display_data"
    }
   ],
   "source": [
    "head(dfr_dispositivos,5)"
   ]
  },
  {
   "cell_type": "code",
   "execution_count": 12,
   "id": "cd219d37-b835-4174-b367-f60c35829d3b",
   "metadata": {},
   "outputs": [
    {
     "name": "stdout",
     "output_type": "stream",
     "text": [
      "spc_tbl_ [37,284 × 5] (S3: spec_tbl_df/tbl_df/tbl/data.frame)\n",
      " $ tipo_dispositivo  : chr [1:37284] \"POS\" \"POS\" \"POS\" \"POS\" ...\n",
      " $ codigo_dispositivo: num [1:37284] 1024702 1076402 1077002 3342404 3378003 ...\n",
      " $ latitud           : num [1:37284] 3.45 3.45 3.45 3.48 3.49 ...\n",
      " $ longitud          : num [1:37284] -76.5 -76.5 -76.5 -76.5 -76.5 ...\n",
      " $ id_barrio         : num [1:37284] 7.38e+08 7.38e+08 7.38e+08 7.38e+08 7.38e+08 ...\n",
      " - attr(*, \"spec\")=\n",
      "  .. cols(\n",
      "  ..   tipo_dispositivo = \u001b[31mcol_character()\u001b[39m,\n",
      "  ..   codigo_dispositivo = \u001b[32mcol_double()\u001b[39m,\n",
      "  ..   latitud = \u001b[32mcol_double()\u001b[39m,\n",
      "  ..   longitud = \u001b[32mcol_double()\u001b[39m,\n",
      "  ..   id_barrio = \u001b[32mcol_double()\u001b[39m\n",
      "  .. )\n",
      " - attr(*, \"problems\")=<externalptr> \n"
     ]
    }
   ],
   "source": [
    "str(dfr_dispositivos)"
   ]
  },
  {
   "cell_type": "code",
   "execution_count": 13,
   "id": "03c80fca-f9d1-4309-bb46-f4251f7cccc2",
   "metadata": {},
   "outputs": [
    {
     "data": {
      "text/html": [
       "<table class=\"dataframe\">\n",
       "<caption>A tibble: 5 × 6</caption>\n",
       "<thead>\n",
       "\t<tr><th scope=col>cliente</th><th scope=col>tipo_doc</th><th scope=col>tipo_dispositivo</th><th scope=col>codigo_dispositivo</th><th scope=col>num_trx</th><th scope=col>mnt_total_trx</th></tr>\n",
       "\t<tr><th scope=col>&lt;dbl&gt;</th><th scope=col>&lt;dbl&gt;</th><th scope=col>&lt;chr&gt;</th><th scope=col>&lt;dbl&gt;</th><th scope=col>&lt;dbl&gt;</th><th scope=col>&lt;dbl&gt;</th></tr>\n",
       "</thead>\n",
       "<tbody>\n",
       "\t<tr><td> 6.86179e+18</td><td>1</td><td>POS</td><td>14812028</td><td>3</td><td>22218042</td></tr>\n",
       "\t<tr><td> 1.55297e+18</td><td>1</td><td>POS</td><td>14388938</td><td>3</td><td>21583407</td></tr>\n",
       "\t<tr><td>-4.07590e+18</td><td>1</td><td>POS</td><td>12370698</td><td>1</td><td> 6185349</td></tr>\n",
       "\t<tr><td> 3.53934e+18</td><td>1</td><td>POS</td><td>10313583</td><td>2</td><td>10313583</td></tr>\n",
       "\t<tr><td> 5.59555e+18</td><td>1</td><td>POS</td><td>14358071</td><td>4</td><td>28716142</td></tr>\n",
       "</tbody>\n",
       "</table>\n"
      ],
      "text/latex": [
       "A tibble: 5 × 6\n",
       "\\begin{tabular}{llllll}\n",
       " cliente & tipo\\_doc & tipo\\_dispositivo & codigo\\_dispositivo & num\\_trx & mnt\\_total\\_trx\\\\\n",
       " <dbl> & <dbl> & <chr> & <dbl> & <dbl> & <dbl>\\\\\n",
       "\\hline\n",
       "\t  6.86179e+18 & 1 & POS & 14812028 & 3 & 22218042\\\\\n",
       "\t  1.55297e+18 & 1 & POS & 14388938 & 3 & 21583407\\\\\n",
       "\t -4.07590e+18 & 1 & POS & 12370698 & 1 &  6185349\\\\\n",
       "\t  3.53934e+18 & 1 & POS & 10313583 & 2 & 10313583\\\\\n",
       "\t  5.59555e+18 & 1 & POS & 14358071 & 4 & 28716142\\\\\n",
       "\\end{tabular}\n"
      ],
      "text/markdown": [
       "\n",
       "A tibble: 5 × 6\n",
       "\n",
       "| cliente &lt;dbl&gt; | tipo_doc &lt;dbl&gt; | tipo_dispositivo &lt;chr&gt; | codigo_dispositivo &lt;dbl&gt; | num_trx &lt;dbl&gt; | mnt_total_trx &lt;dbl&gt; |\n",
       "|---|---|---|---|---|---|\n",
       "|  6.86179e+18 | 1 | POS | 14812028 | 3 | 22218042 |\n",
       "|  1.55297e+18 | 1 | POS | 14388938 | 3 | 21583407 |\n",
       "| -4.07590e+18 | 1 | POS | 12370698 | 1 |  6185349 |\n",
       "|  3.53934e+18 | 1 | POS | 10313583 | 2 | 10313583 |\n",
       "|  5.59555e+18 | 1 | POS | 14358071 | 4 | 28716142 |\n",
       "\n"
      ],
      "text/plain": [
       "  cliente      tipo_doc tipo_dispositivo codigo_dispositivo num_trx\n",
       "1  6.86179e+18 1        POS              14812028           3      \n",
       "2  1.55297e+18 1        POS              14388938           3      \n",
       "3 -4.07590e+18 1        POS              12370698           1      \n",
       "4  3.53934e+18 1        POS              10313583           2      \n",
       "5  5.59555e+18 1        POS              14358071           4      \n",
       "  mnt_total_trx\n",
       "1 22218042     \n",
       "2 21583407     \n",
       "3  6185349     \n",
       "4 10313583     \n",
       "5 28716142     "
      ]
     },
     "metadata": {},
     "output_type": "display_data"
    }
   ],
   "source": [
    "head(dfr_clientes,5)"
   ]
  },
  {
   "cell_type": "code",
   "execution_count": 14,
   "id": "51d8b160-6cc6-4149-9c12-4f4b0e63433b",
   "metadata": {},
   "outputs": [
    {
     "name": "stdout",
     "output_type": "stream",
     "text": [
      "spc_tbl_ [93,446 × 6] (S3: spec_tbl_df/tbl_df/tbl/data.frame)\n",
      " $ cliente           : num [1:93446] 6.86e+18 1.55e+18 -4.08e+18 3.54e+18 5.60e+18 ...\n",
      " $ tipo_doc          : num [1:93446] 1 1 1 1 1 1 1 1 1 1 ...\n",
      " $ tipo_dispositivo  : chr [1:93446] \"POS\" \"POS\" \"POS\" \"POS\" ...\n",
      " $ codigo_dispositivo: num [1:93446] 14812028 14388938 12370698 10313583 14358071 ...\n",
      " $ num_trx           : num [1:93446] 3 3 1 2 4 1 1 1 1 1 ...\n",
      " $ mnt_total_trx     : num [1:93446] 22218042 21583407 6185349 10313583 28716142 ...\n",
      " - attr(*, \"spec\")=\n",
      "  .. cols(\n",
      "  ..   num_cliente = \u001b[32mcol_double()\u001b[39m,\n",
      "  ..   tipo_doc = \u001b[32mcol_double()\u001b[39m,\n",
      "  ..   tipo_dispositivo = \u001b[31mcol_character()\u001b[39m,\n",
      "  ..   codigo_dispositivo = \u001b[32mcol_double()\u001b[39m,\n",
      "  ..   num_trx = \u001b[32mcol_double()\u001b[39m,\n",
      "  ..   mnt_total_trx = \u001b[32mcol_double()\u001b[39m\n",
      "  .. )\n",
      " - attr(*, \"problems\")=<externalptr> \n"
     ]
    }
   ],
   "source": [
    "str(dfr_clientes)"
   ]
  },
  {
   "cell_type": "markdown",
   "id": "745d7e86-884c-4460-b7a8-29c9dc707296",
   "metadata": {},
   "source": [
    "<p style=\"font-weight: bold; font-size: 15px;\">Validate null values</p>\n"
   ]
  },
  {
   "cell_type": "code",
   "execution_count": 15,
   "id": "c7bf4820-7cfa-4083-a534-5afe4d399157",
   "metadata": {},
   "outputs": [
    {
     "data": {
      "text/html": [
       "<style>\n",
       ".dl-inline {width: auto; margin:0; padding: 0}\n",
       ".dl-inline>dt, .dl-inline>dd {float: none; width: auto; display: inline-block}\n",
       ".dl-inline>dt::after {content: \":\\0020\"; padding-right: .5ex}\n",
       ".dl-inline>dt:not(:first-of-type) {padding-left: .5ex}\n",
       "</style><dl class=dl-inline><dt>id_barrio</dt><dd>0</dd><dt>nombre_barrio</dt><dd>0</dd></dl>\n"
      ],
      "text/latex": [
       "\\begin{description*}\n",
       "\\item[id\\textbackslash{}\\_barrio] 0\n",
       "\\item[nombre\\textbackslash{}\\_barrio] 0\n",
       "\\end{description*}\n"
      ],
      "text/markdown": [
       "id_barrio\n",
       ":   0nombre_barrio\n",
       ":   0\n",
       "\n"
      ],
      "text/plain": [
       "    id_barrio nombre_barrio \n",
       "            0             0 "
      ]
     },
     "metadata": {},
     "output_type": "display_data"
    },
    {
     "data": {
      "text/html": [
       "<style>\n",
       ".dl-inline {width: auto; margin:0; padding: 0}\n",
       ".dl-inline>dt, .dl-inline>dd {float: none; width: auto; display: inline-block}\n",
       ".dl-inline>dt::after {content: \":\\0020\"; padding-right: .5ex}\n",
       ".dl-inline>dt:not(:first-of-type) {padding-left: .5ex}\n",
       "</style><dl class=dl-inline><dt>cliente</dt><dd>0</dd><dt>tipo_doc</dt><dd>0</dd><dt>tipo_dispositivo</dt><dd>0</dd><dt>codigo_dispositivo</dt><dd>0</dd><dt>num_trx</dt><dd>0</dd><dt>mnt_total_trx</dt><dd>0</dd></dl>\n"
      ],
      "text/latex": [
       "\\begin{description*}\n",
       "\\item[cliente] 0\n",
       "\\item[tipo\\textbackslash{}\\_doc] 0\n",
       "\\item[tipo\\textbackslash{}\\_dispositivo] 0\n",
       "\\item[codigo\\textbackslash{}\\_dispositivo] 0\n",
       "\\item[num\\textbackslash{}\\_trx] 0\n",
       "\\item[mnt\\textbackslash{}\\_total\\textbackslash{}\\_trx] 0\n",
       "\\end{description*}\n"
      ],
      "text/markdown": [
       "cliente\n",
       ":   0tipo_doc\n",
       ":   0tipo_dispositivo\n",
       ":   0codigo_dispositivo\n",
       ":   0num_trx\n",
       ":   0mnt_total_trx\n",
       ":   0\n",
       "\n"
      ],
      "text/plain": [
       "           cliente           tipo_doc   tipo_dispositivo codigo_dispositivo \n",
       "                 0                  0                  0                  0 \n",
       "           num_trx      mnt_total_trx \n",
       "                 0                  0 "
      ]
     },
     "metadata": {},
     "output_type": "display_data"
    },
    {
     "data": {
      "text/html": [
       "<style>\n",
       ".dl-inline {width: auto; margin:0; padding: 0}\n",
       ".dl-inline>dt, .dl-inline>dd {float: none; width: auto; display: inline-block}\n",
       ".dl-inline>dt::after {content: \":\\0020\"; padding-right: .5ex}\n",
       ".dl-inline>dt:not(:first-of-type) {padding-left: .5ex}\n",
       "</style><dl class=dl-inline><dt>tipo_dispositivo</dt><dd>0</dd><dt>codigo_dispositivo</dt><dd>0</dd><dt>latitud</dt><dd>0</dd><dt>longitud</dt><dd>0</dd><dt>id_barrio</dt><dd>0</dd></dl>\n"
      ],
      "text/latex": [
       "\\begin{description*}\n",
       "\\item[tipo\\textbackslash{}\\_dispositivo] 0\n",
       "\\item[codigo\\textbackslash{}\\_dispositivo] 0\n",
       "\\item[latitud] 0\n",
       "\\item[longitud] 0\n",
       "\\item[id\\textbackslash{}\\_barrio] 0\n",
       "\\end{description*}\n"
      ],
      "text/markdown": [
       "tipo_dispositivo\n",
       ":   0codigo_dispositivo\n",
       ":   0latitud\n",
       ":   0longitud\n",
       ":   0id_barrio\n",
       ":   0\n",
       "\n"
      ],
      "text/plain": [
       "  tipo_dispositivo codigo_dispositivo            latitud           longitud \n",
       "                 0                  0                  0                  0 \n",
       "         id_barrio \n",
       "                 0 "
      ]
     },
     "metadata": {},
     "output_type": "display_data"
    }
   ],
   "source": [
    "missing_Valuesb <-  sapply(dfr_barrios, function(x) sum(is.na(x)))\n",
    "missing_Valuesc <- sapply(dfr_clientes, function(x) sum(is.na(x)))\n",
    "missing_Valuesd <- sapply(dfr_dispositivos, function(x) sum(is.na(x)))\n",
    "\n",
    "missing_Valuesb\n",
    "missing_Valuesc\n",
    "missing_Valuesd                        "
   ]
  },
  {
   "cell_type": "markdown",
   "id": "d7b2e7e8-620a-40d0-b84d-3b7f67306e20",
   "metadata": {},
   "source": [
    "<p style=\"font-weight: bold; font-size: 15px;\">Questions</p>\n"
   ]
  },
  {
   "cell_type": "markdown",
   "id": "9c29cd66-5351-4757-af6b-5f8a8ab84bf4",
   "metadata": {},
   "source": [
    "<p style=\"font-weight: bold; font-size: 15px;\">1. Which neighborhoods had transactions accounting for at least 51% of the total money transacted by each client? Consider that clients can have more than one neighborhood.</p>\n"
   ]
  },
  {
   "cell_type": "markdown",
   "id": "f2b22ae4-fd92-440b-9845-ef86dc2e2010",
   "metadata": {},
   "source": [
    "<p style=\"font-weight: bold; font-size: 15px;\">SQL </p>"
   ]
  },
  {
   "cell_type": "markdown",
   "id": "7abe8cb4-87e0-4ccf-9916-49a824a09f1b",
   "metadata": {},
   "source": [
    "<div style=\"background-color: #f9f9f9; padding: 20px; border-radius: 10px; border: 1px solid #ddd; font-family: 'Courier New', monospace; font-size: 16px;\">\n",
    "    <pre><code style=\"color: #2E8B57;\">\n",
    "WITH dinerototal AS (\n",
    "SELECT cliente, \n",
    "SUM(mnt_total_trx) AS dineroxcliente \n",
    "FROM clientes c \n",
    "GROUP BY cliente\n",
    "), \n",
    "dinerobarrio AS (\n",
    "SELECT b.nombre_barrio, \n",
    "cliente, \n",
    "SUM(mnt_total_trx) AS dinerobarriocliente \n",
    "FROM clientes c \n",
    "LEFT JOIN dispositivos d ON d.codigo_dispositivo = c.codigo_dispositivo \n",
    "LEFT JOIN barrios b ON b.id_barrio = d.id_barrio \n",
    "GROUP BY b.nombre_barrio, cliente\n",
    ") \n",
    "SELECT nombre_barrio, db.cliente \n",
    "FROM dinerobarrio db \n",
    "LEFT JOIN dinerototal dt ON dt.cliente = db.cliente \n",
    "WHERE db.dinerobarriocliente >= 0.51 * dineroxcliente;\n",
    "    </code></pre>\n",
    "</div>"
   ]
  },
  {
   "cell_type": "markdown",
   "id": "c934039b-69ca-403a-a342-29e2e85f8abc",
   "metadata": {},
   "source": [
    "<p style=\"font-weight: bold; font-size: 15px;\">Explanation:</p>\n",
    "<p>In the query, the following operations were performed:</p>\n",
    "\n",
    "<ul>\n",
    "    <li><strong>Calculation of total money per client:</strong> A subquery was used to calculate the total transacted by each client, summing the amount of all their transactions.</li>\n",
    "    <li><strong>Calculation of money transacted by neighborhood:</strong> In another subquery, the transactions made by each client in each neighborhood were summed up, using a LEFT JOIN between the relevant tables to ensure that all neighborhoods, even those with no transactions, were represented.</li>\n",
    "    <li><strong>Comparison of amounts:</strong> The results of both subqueries were joined, and a WHERE clause was applied to filter cases where the money transacted in the neighborhood represented at least 51% of the total transacted by the client. This ensures that only the relevant neighborhoods, according to the specified criterion, are shown.</li>\n",
    "    <li><strong>Final result:</strong> The result shows the neighborhoods where a client has made transactions accounting for at least 51% of their total spending, considering that a client can be associated with more than one neighborhood.</li>\n",
    "</ul>\n"
   ]
  },
  {
   "cell_type": "markdown",
   "id": "b54eaa7d-884c-4c1a-ae81-eeb1315491c8",
   "metadata": {},
   "source": [
    "<p style=\"font-weight: bold; font-size: 15px;\">Python Code: </p>"
   ]
  },
  {
   "cell_type": "code",
   "execution_count": 12,
   "id": "d1977f2d-efe6-4f4e-8570-53700d44d322",
   "metadata": {},
   "outputs": [
    {
     "data": {
      "text/html": [
       "<div>\n",
       "<style scoped>\n",
       "    .dataframe tbody tr th:only-of-type {\n",
       "        vertical-align: middle;\n",
       "    }\n",
       "\n",
       "    .dataframe tbody tr th {\n",
       "        vertical-align: top;\n",
       "    }\n",
       "\n",
       "    .dataframe thead th {\n",
       "        text-align: right;\n",
       "    }\n",
       "</style>\n",
       "<table border=\"1\" class=\"dataframe\">\n",
       "  <thead>\n",
       "    <tr style=\"text-align: right;\">\n",
       "      <th></th>\n",
       "      <th>nombre_barrio</th>\n",
       "      <th>cliente</th>\n",
       "    </tr>\n",
       "  </thead>\n",
       "  <tbody>\n",
       "    <tr>\n",
       "      <th>8</th>\n",
       "      <td>Urbanización Militar</td>\n",
       "      <td>-9.214610e+18</td>\n",
       "    </tr>\n",
       "    <tr>\n",
       "      <th>9</th>\n",
       "      <td>San Vicente</td>\n",
       "      <td>-9.211520e+18</td>\n",
       "    </tr>\n",
       "    <tr>\n",
       "      <th>10</th>\n",
       "      <td>San Fernando Nuevo</td>\n",
       "      <td>-9.210960e+18</td>\n",
       "    </tr>\n",
       "    <tr>\n",
       "      <th>18</th>\n",
       "      <td>Urbanización San Juaquín</td>\n",
       "      <td>-9.204170e+18</td>\n",
       "    </tr>\n",
       "    <tr>\n",
       "      <th>35</th>\n",
       "      <td>Versalles</td>\n",
       "      <td>-9.201710e+18</td>\n",
       "    </tr>\n",
       "    <tr>\n",
       "      <th>37</th>\n",
       "      <td>Colseguros Andes</td>\n",
       "      <td>-9.201640e+18</td>\n",
       "    </tr>\n",
       "    <tr>\n",
       "      <th>38</th>\n",
       "      <td>Ciudad 2000</td>\n",
       "      <td>-9.191710e+18</td>\n",
       "    </tr>\n",
       "    <tr>\n",
       "      <th>39</th>\n",
       "      <td>Calima</td>\n",
       "      <td>-9.186690e+18</td>\n",
       "    </tr>\n",
       "    <tr>\n",
       "      <th>61</th>\n",
       "      <td>Olaya Herrera</td>\n",
       "      <td>-9.185850e+18</td>\n",
       "    </tr>\n",
       "    <tr>\n",
       "      <th>65</th>\n",
       "      <td>Los Alcázares</td>\n",
       "      <td>-9.183470e+18</td>\n",
       "    </tr>\n",
       "  </tbody>\n",
       "</table>\n",
       "</div>"
      ],
      "text/plain": [
       "               nombre_barrio       cliente\n",
       "8       Urbanización Militar -9.214610e+18\n",
       "9                San Vicente -9.211520e+18\n",
       "10        San Fernando Nuevo -9.210960e+18\n",
       "18  Urbanización San Juaquín -9.204170e+18\n",
       "35                 Versalles -9.201710e+18\n",
       "37          Colseguros Andes -9.201640e+18\n",
       "38               Ciudad 2000 -9.191710e+18\n",
       "39                    Calima -9.186690e+18\n",
       "61             Olaya Herrera -9.185850e+18\n",
       "65             Los Alcázares -9.183470e+18"
      ]
     },
     "execution_count": 12,
     "metadata": {},
     "output_type": "execute_result"
    }
   ],
   "source": [
    "df1 = df_clientes\n",
    "\n",
    "# Step 1: Group by client and calculate the total transactions per client\n",
    "df1_a = df1.groupby('cliente')['mnt_total_trx'].sum().reset_index()\n",
    "\n",
    "# Rename the column to 'dinerototal'\n",
    "df1_a = df1_a.rename(columns={'mnt_total_trx': 'dinerototal'})\n",
    "\n",
    "# Step 2: Perform merge with the devices and neighborhoods tables\n",
    "df1_b = pd.merge(df1, df_dispositivos, on='codigo_dispositivo', how='left')\n",
    "df1_c = pd.merge(df1_b, df_barrios, on='id_barrio', how='left')\n",
    "\n",
    "# Step 3: Group by client and neighborhood, and calculate the total transactions per neighborhood\n",
    "df1_d = df1_c.groupby(['cliente', 'nombre_barrio'])['mnt_total_trx'].sum().reset_index()\n",
    "\n",
    "# Step 4: Merge the previous results\n",
    "df1_e = pd.merge(df1_a, df1_d, on='cliente', how='right')\n",
    "\n",
    "# Rename the column 'mnt_total_trx' to 'dinerobarrio'\n",
    "df1_e = df1_e.rename(columns={'mnt_total_trx': 'dinerobarrio'})\n",
    "\n",
    "# Step 5: Filter neighborhoods where the transacted amount is at least 51% of the total per client\n",
    "df1_f = df1_e[['nombre_barrio', 'cliente']][df1_e['dinerobarrio'] >= 0.51 * df1_e['dinerototal']]\n",
    "\n",
    "# View the first 10 results\n",
    "df1_f.head(10)\n"
   ]
  },
  {
   "cell_type": "markdown",
   "id": "3750e91a-1058-478a-ab93-26cbdffbf3ff",
   "metadata": {},
   "source": [
    "<p style=\"font-weight: bold; font-size: 15px;\">Explanation:</p>\n",
    "\n",
    "<p><strong>Group by client:</strong> The total transactions (mnt_total_trx) for each client are calculated and stored as dinerototal.</p>\n",
    "<p><strong>Join with devices and neighborhoods:</strong> A merge is performed between the client, device, and neighborhood tables to associate each client with their corresponding neighborhood(s).</p>\n",
    "<p><strong>Group by neighborhood and client:</strong> The data is grouped by client and neighborhood, and the total transactions per neighborhood (dinerobarrio) are calculated.</p>\n",
    "<p><strong>Join the results:</strong> Another merge is performed to combine the total per client (dinerototal) with the total per neighborhood (dinerobarrio).</p>\n",
    "<p><strong>Filter the neighborhoods:</strong> A filter is applied to select only those neighborhoods where the money transacted represents at least 51% of the total transactions of the client.</p>\n",
    "<p>The final result shows the neighborhoods that meet this criterion for each client.</p>\n"
   ]
  },
  {
   "cell_type": "markdown",
   "id": "efbcaa77-3a74-47f1-903d-5c916c470667",
   "metadata": {},
   "source": [
    "<p style=\"font-weight: bold; font-size: 15px;\">R Code: </p>"
   ]
  },
  {
   "cell_type": "code",
   "execution_count": 20,
   "id": "9e71ea53-9a5d-4c5c-ad6e-1512d56f3b02",
   "metadata": {},
   "outputs": [
    {
     "name": "stderr",
     "output_type": "stream",
     "text": [
      "\u001b[1m\u001b[22m`summarise()` has grouped output by 'cliente'. You can override using the\n",
      "`.groups` argument.\n"
     ]
    },
    {
     "data": {
      "text/html": [
       "<table class=\"dataframe\">\n",
       "<caption>A tibble: 10 × 2</caption>\n",
       "<thead>\n",
       "\t<tr><th scope=col>cliente</th><th scope=col>nombre_barrio</th></tr>\n",
       "\t<tr><th scope=col>&lt;dbl&gt;</th><th scope=col>&lt;chr&gt;</th></tr>\n",
       "</thead>\n",
       "<tbody>\n",
       "\t<tr><td>-9.21461e+18</td><td>Urbanización Militar    </td></tr>\n",
       "\t<tr><td>-9.21152e+18</td><td>San Vicente             </td></tr>\n",
       "\t<tr><td>-9.21096e+18</td><td>San Fernando Nuevo      </td></tr>\n",
       "\t<tr><td>-9.20417e+18</td><td>Urbanización San Juaquín</td></tr>\n",
       "\t<tr><td>-9.20171e+18</td><td>Versalles               </td></tr>\n",
       "\t<tr><td>-9.20164e+18</td><td>Colseguros Andes        </td></tr>\n",
       "\t<tr><td>-9.19171e+18</td><td>Ciudad 2000             </td></tr>\n",
       "\t<tr><td>-9.18669e+18</td><td>Calima                  </td></tr>\n",
       "\t<tr><td>-9.18585e+18</td><td>Olaya Herrera           </td></tr>\n",
       "\t<tr><td>-9.18347e+18</td><td>Los Alcázares           </td></tr>\n",
       "</tbody>\n",
       "</table>\n"
      ],
      "text/latex": [
       "A tibble: 10 × 2\n",
       "\\begin{tabular}{ll}\n",
       " cliente & nombre\\_barrio\\\\\n",
       " <dbl> & <chr>\\\\\n",
       "\\hline\n",
       "\t -9.21461e+18 & Urbanización Militar    \\\\\n",
       "\t -9.21152e+18 & San Vicente             \\\\\n",
       "\t -9.21096e+18 & San Fernando Nuevo      \\\\\n",
       "\t -9.20417e+18 & Urbanización San Juaquín\\\\\n",
       "\t -9.20171e+18 & Versalles               \\\\\n",
       "\t -9.20164e+18 & Colseguros Andes        \\\\\n",
       "\t -9.19171e+18 & Ciudad 2000             \\\\\n",
       "\t -9.18669e+18 & Calima                  \\\\\n",
       "\t -9.18585e+18 & Olaya Herrera           \\\\\n",
       "\t -9.18347e+18 & Los Alcázares           \\\\\n",
       "\\end{tabular}\n"
      ],
      "text/markdown": [
       "\n",
       "A tibble: 10 × 2\n",
       "\n",
       "| cliente &lt;dbl&gt; | nombre_barrio &lt;chr&gt; |\n",
       "|---|---|\n",
       "| -9.21461e+18 | Urbanización Militar     |\n",
       "| -9.21152e+18 | San Vicente              |\n",
       "| -9.21096e+18 | San Fernando Nuevo       |\n",
       "| -9.20417e+18 | Urbanización San Juaquín |\n",
       "| -9.20171e+18 | Versalles                |\n",
       "| -9.20164e+18 | Colseguros Andes         |\n",
       "| -9.19171e+18 | Ciudad 2000              |\n",
       "| -9.18669e+18 | Calima                   |\n",
       "| -9.18585e+18 | Olaya Herrera            |\n",
       "| -9.18347e+18 | Los Alcázares            |\n",
       "\n"
      ],
      "text/plain": [
       "   cliente      nombre_barrio           \n",
       "1  -9.21461e+18 Urbanización Militar    \n",
       "2  -9.21152e+18 San Vicente             \n",
       "3  -9.21096e+18 San Fernando Nuevo      \n",
       "4  -9.20417e+18 Urbanización San Juaquín\n",
       "5  -9.20171e+18 Versalles               \n",
       "6  -9.20164e+18 Colseguros Andes        \n",
       "7  -9.19171e+18 Ciudad 2000             \n",
       "8  -9.18669e+18 Calima                  \n",
       "9  -9.18585e+18 Olaya Herrera           \n",
       "10 -9.18347e+18 Los Alcázares           "
      ]
     },
     "metadata": {},
     "output_type": "display_data"
    }
   ],
   "source": [
    "# Step 1: Group by customer and calculate the total transactions per customer\n",
    "df1_r  <- dfr_clientes\n",
    "df1_r_a <- df1_r %>%\n",
    "  group_by(cliente) %>%\n",
    "  summarise(mnt_total_trx = sum(mnt_total_trx))\n",
    "\n",
    "# Rename the column to 'dinerototal'\n",
    "df1_r_a <- df1_r_a %>%\n",
    "  rename(dinerototal = mnt_total_trx)\n",
    "\n",
    "# Step 2: Perform merge with the devices and neighborhoods tables\n",
    "df1_r_b <- left_join(df1_r, dfr_dispositivos, by = 'codigo_dispositivo', relationship = \"many-to-many\")\n",
    "df1_r_c <- left_join(df1_r_b, dfr_barrios, by = 'id_barrio')\n",
    "\n",
    "# Step 3: Group by customer and neighborhood, and calculate the total transactions per neighborhood\n",
    "df1_r_d <- df1_r_c %>%\n",
    "  group_by(cliente, nombre_barrio) %>%\n",
    "  summarise(mnt_total_trx = sum(mnt_total_trx))\n",
    "\n",
    "# Step 4: Merge the previous results\n",
    "df1_r_e <- right_join(df1_r_a, df1_r_d, by = 'cliente')\n",
    "\n",
    "# Rename the column 'mnt_total_trx' to 'dinerobarrio'\n",
    "df1_r_e <- df1_r_e %>%\n",
    "  rename(dinerobarrio = mnt_total_trx) %>%\n",
    "  ungroup()  # Ungroup before applying any filter\n",
    "\n",
    "# Step 5: Select only the necessary columns before filtering\n",
    "df1_r_e <- df1_r_e %>%  filter(dinerobarrio >= 0.51 * dinerototal)\n",
    "\n",
    "# Final result\n",
    "head(df1_r_e%>% select(cliente, nombre_barrio ),10)"
   ]
  },
  {
   "cell_type": "markdown",
   "id": "6dc21e33-9479-4624-a81d-e4a9348fad74",
   "metadata": {},
   "source": [
    "<p style=\"font-weight: bold; font-size: 15px;\">Explanation:</p>\n",
    "\n",
    "<p>First, the total transactions per client (dinerototal) and per neighborhood (dinerobarrio) are calculated through groupings (group_by()) and summed with (summarise()). Then, the results of both calculations are combined using right_join() to ensure that all clients are included, even those without transactions in certain neighborhoods. After renaming the columns for clarity, the dataframe is ungrouped (ungroup()) to prevent issues in later operations. Finally, rows where the total transactions per neighborhood (dinerobarrio) are at least 51% of the total transactions per client (dinerototal) are filtered, and only the relevant columns are selected to show the final results.</p>\n",
    "\n",
    "\n"
   ]
  },
  {
   "cell_type": "markdown",
   "id": "29ee25f6-83a9-4c7c-b0a9-c20f0c83f08c",
   "metadata": {},
   "source": [
    "<p style=\"font-weight: bold; font-size: 15px;\">2. Which devices have transactions from at least 100 different customers? </p>\n"
   ]
  },
  {
   "cell_type": "markdown",
   "id": "36683351-5754-48c3-bdd2-fe8518a7b09e",
   "metadata": {},
   "source": [
    "<p style=\"font-weight: bold; font-size: 15px;\">SQL</p>"
   ]
  },
  {
   "cell_type": "markdown",
   "id": "cd449564-7b4b-445c-b1c9-e6a3a429b44a",
   "metadata": {},
   "source": [
    "<div style=\"background-color: #f9f9f9; padding: 15px; border-radius: 8px; font-family: 'Courier New', monospace; border: 1px solid #ddd;\">\n",
    "    <pre><code style=\"color: darkblue; font-size: 16px;\">\n",
    "SELECT \n",
    "    codigo_dispositivo, \n",
    "    COUNT(DISTINCT(cliente)) AS clientes_distintos\n",
    "FROM \n",
    "    clientes c\n",
    "GROUP BY \n",
    "    codigo_dispositivo\n",
    "HAVING \n",
    "    COUNT(DISTINCT(cliente)) >= 100\n",
    "ORDER BY \n",
    "    clientes_distintos DESC;\n",
    "    </code></pre>\n",
    "</div>"
   ]
  },
  {
   "cell_type": "markdown",
   "id": "5c8a55a2-091d-4d75-bce0-ad9be225de4c",
   "metadata": {},
   "source": [
    "<p style=\"font-weight: bold; font-size: 15px;\">Explanation:\n",
    "\n",
    "The count of each unique customer was done using two functions:\n",
    "\n",
    "DISTINCT: This function is used to eliminate duplicate values in the customer column, ensuring that each customer is only counted once.\n",
    "\n",
    "COUNT: This function counts the rows corresponding to each customer, providing the total number of records for each unique customer.\n",
    "\n",
    "By combining these two functions, we can count only unique customers. To group the results by device code, the GROUP BY clause is used, allowing us to get the number of unique customers for each device.\n",
    "\n",
    "Additionally, the HAVING clause is used to apply a filter that ensures only devices with at least 100 unique customers are included. Finally, ORDER BY is used to sort the results in descending order based on the customer count, so devices with the most unique customers appear first.</p>\n",
    "\n"
   ]
  },
  {
   "cell_type": "markdown",
   "id": "0d0d9b2b-7f29-4091-aa28-c3cc59f1117b",
   "metadata": {},
   "source": [
    "<p style=\"font-weight: bold; font-size: 15px;\">Python code:</p>"
   ]
  },
  {
   "cell_type": "code",
   "execution_count": 13,
   "id": "38e245c7-d6e9-49df-93a4-4979aa839f49",
   "metadata": {},
   "outputs": [],
   "source": [
    "df2 = df_clientes"
   ]
  },
  {
   "cell_type": "code",
   "execution_count": 14,
   "id": "260eb505-553d-4ab0-b74c-f74aee00a8fa",
   "metadata": {},
   "outputs": [
    {
     "data": {
      "text/html": [
       "<div>\n",
       "<style scoped>\n",
       "    .dataframe tbody tr th:only-of-type {\n",
       "        vertical-align: middle;\n",
       "    }\n",
       "\n",
       "    .dataframe tbody tr th {\n",
       "        vertical-align: top;\n",
       "    }\n",
       "\n",
       "    .dataframe thead th {\n",
       "        text-align: right;\n",
       "    }\n",
       "</style>\n",
       "<table border=\"1\" class=\"dataframe\">\n",
       "  <thead>\n",
       "    <tr style=\"text-align: right;\">\n",
       "      <th></th>\n",
       "      <th>codigo_dispositivo</th>\n",
       "      <th>cliente</th>\n",
       "    </tr>\n",
       "  </thead>\n",
       "  <tbody>\n",
       "    <tr>\n",
       "      <th>0</th>\n",
       "      <td>745</td>\n",
       "      <td>660</td>\n",
       "    </tr>\n",
       "    <tr>\n",
       "      <th>1</th>\n",
       "      <td>11303609</td>\n",
       "      <td>525</td>\n",
       "    </tr>\n",
       "    <tr>\n",
       "      <th>2</th>\n",
       "      <td>829</td>\n",
       "      <td>482</td>\n",
       "    </tr>\n",
       "    <tr>\n",
       "      <th>3</th>\n",
       "      <td>812</td>\n",
       "      <td>457</td>\n",
       "    </tr>\n",
       "    <tr>\n",
       "      <th>4</th>\n",
       "      <td>747</td>\n",
       "      <td>457</td>\n",
       "    </tr>\n",
       "    <tr>\n",
       "      <th>...</th>\n",
       "      <td>...</td>\n",
       "      <td>...</td>\n",
       "    </tr>\n",
       "    <tr>\n",
       "      <th>248</th>\n",
       "      <td>1187</td>\n",
       "      <td>102</td>\n",
       "    </tr>\n",
       "    <tr>\n",
       "      <th>249</th>\n",
       "      <td>5401</td>\n",
       "      <td>102</td>\n",
       "    </tr>\n",
       "    <tr>\n",
       "      <th>250</th>\n",
       "      <td>2182</td>\n",
       "      <td>101</td>\n",
       "    </tr>\n",
       "    <tr>\n",
       "      <th>251</th>\n",
       "      <td>3588</td>\n",
       "      <td>100</td>\n",
       "    </tr>\n",
       "    <tr>\n",
       "      <th>252</th>\n",
       "      <td>4594</td>\n",
       "      <td>100</td>\n",
       "    </tr>\n",
       "  </tbody>\n",
       "</table>\n",
       "<p>253 rows × 2 columns</p>\n",
       "</div>"
      ],
      "text/plain": [
       "     codigo_dispositivo  cliente\n",
       "0                   745      660\n",
       "1              11303609      525\n",
       "2                   829      482\n",
       "3                   812      457\n",
       "4                   747      457\n",
       "..                  ...      ...\n",
       "248                1187      102\n",
       "249                5401      102\n",
       "250                2182      101\n",
       "251                3588      100\n",
       "252                4594      100\n",
       "\n",
       "[253 rows x 2 columns]"
      ]
     },
     "execution_count": 14,
     "metadata": {},
     "output_type": "execute_result"
    }
   ],
   "source": [
    "# Step 1: Select the necessary columns\n",
    "df2_a = df2[['codigo_dispositivo', 'cliente']]\n",
    "\n",
    "# Step 2: Group by 'codigo_dispositivo' and count the unique clients\n",
    "df2_b = df2_a.groupby('codigo_dispositivo')['cliente'].nunique()\n",
    "\n",
    "# Step 3: Filter to keep only those devices with 100 or more unique clients\n",
    "df2_b = df2_b[df2_b >= 100]\n",
    "\n",
    "# Step 4: Sort the results in descending order by the number of unique clients\n",
    "df2_b = df2_b.sort_values(ascending=False).reset_index()\n",
    "\n",
    "# Display the results\n",
    "df2_b"
   ]
  },
  {
   "cell_type": "markdown",
   "id": "3e0025ef-23fd-4a21-a4ed-bc44b54f5a55",
   "metadata": {},
   "source": [
    "<p style=\"font-weight: bold; font-size: 15px;\">Explanation:\n",
    "\n",
    "The code groups the data by device_code, \n",
    "then counts how many unique customers there are per device using nunique().\n",
    "Next, it filters to show only the devices with 100 or more unique customers.\n",
    "Finally, it sorts the results from highest to lowest and converts the result into a DataFrame (instead of a Series), \n",
    "making it easier to read and work with.</p>\n"
   ]
  },
  {
   "cell_type": "markdown",
   "id": "b94fe741-118e-400a-8046-06e416642b8e",
   "metadata": {},
   "source": [
    "<p style=\"font-weight: bold; font-size: 15px;\">R code:</p>"
   ]
  },
  {
   "cell_type": "code",
   "execution_count": 22,
   "id": "37f8fd9a-f2d4-4ee1-a3b4-629d499c8cb9",
   "metadata": {},
   "outputs": [],
   "source": [
    "df2_r <- dfr_clientes"
   ]
  },
  {
   "cell_type": "code",
   "execution_count": 23,
   "id": "358ec19a-35de-40d2-96c0-ab31c8e8da85",
   "metadata": {},
   "outputs": [
    {
     "data": {
      "text/html": [
       "<table class=\"dataframe\">\n",
       "<caption>A tibble: 253 × 2</caption>\n",
       "<thead>\n",
       "\t<tr><th scope=col>codigo_dispositivo</th><th scope=col>clientes_unicos</th></tr>\n",
       "\t<tr><th scope=col>&lt;dbl&gt;</th><th scope=col>&lt;int&gt;</th></tr>\n",
       "</thead>\n",
       "<tbody>\n",
       "\t<tr><td>     745</td><td>660</td></tr>\n",
       "\t<tr><td>11303609</td><td>525</td></tr>\n",
       "\t<tr><td>     829</td><td>482</td></tr>\n",
       "\t<tr><td>     747</td><td>457</td></tr>\n",
       "\t<tr><td>     812</td><td>457</td></tr>\n",
       "\t<tr><td>    4783</td><td>430</td></tr>\n",
       "\t<tr><td>    1146</td><td>427</td></tr>\n",
       "\t<tr><td>     808</td><td>411</td></tr>\n",
       "\t<tr><td>    5394</td><td>402</td></tr>\n",
       "\t<tr><td>    4784</td><td>400</td></tr>\n",
       "\t<tr><td>11857968</td><td>397</td></tr>\n",
       "\t<tr><td>11096278</td><td>391</td></tr>\n",
       "\t<tr><td>    1156</td><td>388</td></tr>\n",
       "\t<tr><td>    1147</td><td>386</td></tr>\n",
       "\t<tr><td>    2751</td><td>382</td></tr>\n",
       "\t<tr><td>14540827</td><td>368</td></tr>\n",
       "\t<tr><td>    2752</td><td>367</td></tr>\n",
       "\t<tr><td>    1116</td><td>364</td></tr>\n",
       "\t<tr><td>     752</td><td>360</td></tr>\n",
       "\t<tr><td>10602407</td><td>360</td></tr>\n",
       "\t<tr><td>    1157</td><td>359</td></tr>\n",
       "\t<tr><td>10327682</td><td>359</td></tr>\n",
       "\t<tr><td>    1155</td><td>356</td></tr>\n",
       "\t<tr><td>10932812</td><td>353</td></tr>\n",
       "\t<tr><td>    1115</td><td>350</td></tr>\n",
       "\t<tr><td>    8352</td><td>349</td></tr>\n",
       "\t<tr><td>    2930</td><td>347</td></tr>\n",
       "\t<tr><td>      60</td><td>346</td></tr>\n",
       "\t<tr><td>    2750</td><td>345</td></tr>\n",
       "\t<tr><td>    5859</td><td>344</td></tr>\n",
       "\t<tr><td>⋮</td><td>⋮</td></tr>\n",
       "\t<tr><td>       735</td><td>118</td></tr>\n",
       "\t<tr><td>      3044</td><td>118</td></tr>\n",
       "\t<tr><td>1104423594</td><td>118</td></tr>\n",
       "\t<tr><td>      3662</td><td>117</td></tr>\n",
       "\t<tr><td>      4835</td><td>115</td></tr>\n",
       "\t<tr><td>      4895</td><td>115</td></tr>\n",
       "\t<tr><td>      6285</td><td>115</td></tr>\n",
       "\t<tr><td>1203621492</td><td>115</td></tr>\n",
       "\t<tr><td>       620</td><td>114</td></tr>\n",
       "\t<tr><td>  14740583</td><td>114</td></tr>\n",
       "\t<tr><td>      5634</td><td>113</td></tr>\n",
       "\t<tr><td>1076120918</td><td>113</td></tr>\n",
       "\t<tr><td>      4094</td><td>112</td></tr>\n",
       "\t<tr><td>      5006</td><td>111</td></tr>\n",
       "\t<tr><td>      6605</td><td>109</td></tr>\n",
       "\t<tr><td>  15287022</td><td>108</td></tr>\n",
       "\t<tr><td>      6447</td><td>107</td></tr>\n",
       "\t<tr><td>  12370524</td><td>106</td></tr>\n",
       "\t<tr><td>1104427089</td><td>106</td></tr>\n",
       "\t<tr><td>      2134</td><td>104</td></tr>\n",
       "\t<tr><td>      3937</td><td>104</td></tr>\n",
       "\t<tr><td>  14015341</td><td>104</td></tr>\n",
       "\t<tr><td>       739</td><td>103</td></tr>\n",
       "\t<tr><td>      4064</td><td>103</td></tr>\n",
       "\t<tr><td>      1187</td><td>102</td></tr>\n",
       "\t<tr><td>      2037</td><td>102</td></tr>\n",
       "\t<tr><td>      5401</td><td>102</td></tr>\n",
       "\t<tr><td>      2182</td><td>101</td></tr>\n",
       "\t<tr><td>      3588</td><td>100</td></tr>\n",
       "\t<tr><td>      4594</td><td>100</td></tr>\n",
       "</tbody>\n",
       "</table>\n"
      ],
      "text/latex": [
       "A tibble: 253 × 2\n",
       "\\begin{tabular}{ll}\n",
       " codigo\\_dispositivo & clientes\\_unicos\\\\\n",
       " <dbl> & <int>\\\\\n",
       "\\hline\n",
       "\t      745 & 660\\\\\n",
       "\t 11303609 & 525\\\\\n",
       "\t      829 & 482\\\\\n",
       "\t      747 & 457\\\\\n",
       "\t      812 & 457\\\\\n",
       "\t     4783 & 430\\\\\n",
       "\t     1146 & 427\\\\\n",
       "\t      808 & 411\\\\\n",
       "\t     5394 & 402\\\\\n",
       "\t     4784 & 400\\\\\n",
       "\t 11857968 & 397\\\\\n",
       "\t 11096278 & 391\\\\\n",
       "\t     1156 & 388\\\\\n",
       "\t     1147 & 386\\\\\n",
       "\t     2751 & 382\\\\\n",
       "\t 14540827 & 368\\\\\n",
       "\t     2752 & 367\\\\\n",
       "\t     1116 & 364\\\\\n",
       "\t      752 & 360\\\\\n",
       "\t 10602407 & 360\\\\\n",
       "\t     1157 & 359\\\\\n",
       "\t 10327682 & 359\\\\\n",
       "\t     1155 & 356\\\\\n",
       "\t 10932812 & 353\\\\\n",
       "\t     1115 & 350\\\\\n",
       "\t     8352 & 349\\\\\n",
       "\t     2930 & 347\\\\\n",
       "\t       60 & 346\\\\\n",
       "\t     2750 & 345\\\\\n",
       "\t     5859 & 344\\\\\n",
       "\t ⋮ & ⋮\\\\\n",
       "\t        735 & 118\\\\\n",
       "\t       3044 & 118\\\\\n",
       "\t 1104423594 & 118\\\\\n",
       "\t       3662 & 117\\\\\n",
       "\t       4835 & 115\\\\\n",
       "\t       4895 & 115\\\\\n",
       "\t       6285 & 115\\\\\n",
       "\t 1203621492 & 115\\\\\n",
       "\t        620 & 114\\\\\n",
       "\t   14740583 & 114\\\\\n",
       "\t       5634 & 113\\\\\n",
       "\t 1076120918 & 113\\\\\n",
       "\t       4094 & 112\\\\\n",
       "\t       5006 & 111\\\\\n",
       "\t       6605 & 109\\\\\n",
       "\t   15287022 & 108\\\\\n",
       "\t       6447 & 107\\\\\n",
       "\t   12370524 & 106\\\\\n",
       "\t 1104427089 & 106\\\\\n",
       "\t       2134 & 104\\\\\n",
       "\t       3937 & 104\\\\\n",
       "\t   14015341 & 104\\\\\n",
       "\t        739 & 103\\\\\n",
       "\t       4064 & 103\\\\\n",
       "\t       1187 & 102\\\\\n",
       "\t       2037 & 102\\\\\n",
       "\t       5401 & 102\\\\\n",
       "\t       2182 & 101\\\\\n",
       "\t       3588 & 100\\\\\n",
       "\t       4594 & 100\\\\\n",
       "\\end{tabular}\n"
      ],
      "text/markdown": [
       "\n",
       "A tibble: 253 × 2\n",
       "\n",
       "| codigo_dispositivo &lt;dbl&gt; | clientes_unicos &lt;int&gt; |\n",
       "|---|---|\n",
       "|      745 | 660 |\n",
       "| 11303609 | 525 |\n",
       "|      829 | 482 |\n",
       "|      747 | 457 |\n",
       "|      812 | 457 |\n",
       "|     4783 | 430 |\n",
       "|     1146 | 427 |\n",
       "|      808 | 411 |\n",
       "|     5394 | 402 |\n",
       "|     4784 | 400 |\n",
       "| 11857968 | 397 |\n",
       "| 11096278 | 391 |\n",
       "|     1156 | 388 |\n",
       "|     1147 | 386 |\n",
       "|     2751 | 382 |\n",
       "| 14540827 | 368 |\n",
       "|     2752 | 367 |\n",
       "|     1116 | 364 |\n",
       "|      752 | 360 |\n",
       "| 10602407 | 360 |\n",
       "|     1157 | 359 |\n",
       "| 10327682 | 359 |\n",
       "|     1155 | 356 |\n",
       "| 10932812 | 353 |\n",
       "|     1115 | 350 |\n",
       "|     8352 | 349 |\n",
       "|     2930 | 347 |\n",
       "|       60 | 346 |\n",
       "|     2750 | 345 |\n",
       "|     5859 | 344 |\n",
       "| ⋮ | ⋮ |\n",
       "|        735 | 118 |\n",
       "|       3044 | 118 |\n",
       "| 1104423594 | 118 |\n",
       "|       3662 | 117 |\n",
       "|       4835 | 115 |\n",
       "|       4895 | 115 |\n",
       "|       6285 | 115 |\n",
       "| 1203621492 | 115 |\n",
       "|        620 | 114 |\n",
       "|   14740583 | 114 |\n",
       "|       5634 | 113 |\n",
       "| 1076120918 | 113 |\n",
       "|       4094 | 112 |\n",
       "|       5006 | 111 |\n",
       "|       6605 | 109 |\n",
       "|   15287022 | 108 |\n",
       "|       6447 | 107 |\n",
       "|   12370524 | 106 |\n",
       "| 1104427089 | 106 |\n",
       "|       2134 | 104 |\n",
       "|       3937 | 104 |\n",
       "|   14015341 | 104 |\n",
       "|        739 | 103 |\n",
       "|       4064 | 103 |\n",
       "|       1187 | 102 |\n",
       "|       2037 | 102 |\n",
       "|       5401 | 102 |\n",
       "|       2182 | 101 |\n",
       "|       3588 | 100 |\n",
       "|       4594 | 100 |\n",
       "\n"
      ],
      "text/plain": [
       "    codigo_dispositivo clientes_unicos\n",
       "1        745           660            \n",
       "2   11303609           525            \n",
       "3        829           482            \n",
       "4        747           457            \n",
       "5        812           457            \n",
       "6       4783           430            \n",
       "7       1146           427            \n",
       "8        808           411            \n",
       "9       5394           402            \n",
       "10      4784           400            \n",
       "11  11857968           397            \n",
       "12  11096278           391            \n",
       "13      1156           388            \n",
       "14      1147           386            \n",
       "15      2751           382            \n",
       "16  14540827           368            \n",
       "17      2752           367            \n",
       "18      1116           364            \n",
       "19       752           360            \n",
       "20  10602407           360            \n",
       "21      1157           359            \n",
       "22  10327682           359            \n",
       "23      1155           356            \n",
       "24  10932812           353            \n",
       "25      1115           350            \n",
       "26      8352           349            \n",
       "27      2930           347            \n",
       "28        60           346            \n",
       "29      2750           345            \n",
       "30      5859           344            \n",
       "⋮   ⋮                  ⋮              \n",
       "224        735         118            \n",
       "225       3044         118            \n",
       "226 1104423594         118            \n",
       "227       3662         117            \n",
       "228       4835         115            \n",
       "229       4895         115            \n",
       "230       6285         115            \n",
       "231 1203621492         115            \n",
       "232        620         114            \n",
       "233   14740583         114            \n",
       "234       5634         113            \n",
       "235 1076120918         113            \n",
       "236       4094         112            \n",
       "237       5006         111            \n",
       "238       6605         109            \n",
       "239   15287022         108            \n",
       "240       6447         107            \n",
       "241   12370524         106            \n",
       "242 1104427089         106            \n",
       "243       2134         104            \n",
       "244       3937         104            \n",
       "245   14015341         104            \n",
       "246        739         103            \n",
       "247       4064         103            \n",
       "248       1187         102            \n",
       "249       2037         102            \n",
       "250       5401         102            \n",
       "251       2182         101            \n",
       "252       3588         100            \n",
       "253       4594         100            "
      ]
     },
     "metadata": {},
     "output_type": "display_data"
    }
   ],
   "source": [
    "# Step 1: Select the necessary columns\n",
    "df2_r_a <- df2_r[, c(\"codigo_dispositivo\", 'cliente')]\n",
    "\n",
    "# Step 2: Group by 'codigo_dispositivo' and count the unique customers\n",
    "df2_r_b<-  df2_r_a %>%\n",
    "  group_by(codigo_dispositivo) %>%\n",
    "  summarise(clientes_unicos = n_distinct(cliente))\n",
    "\n",
    "# Step 3: Filter to only include devices with 100 or more unique customers\n",
    "df2_r_c <- df2_r_b %>% filter(clientes_unicos >= 100)\n",
    "\n",
    "# Step 4: Sort the results in descending order by the number of unique customers\n",
    "df2_r_d <- df2_r_c %>% arrange(desc(clientes_unicos))\n",
    "\n",
    "# Display the results\n",
    "df2_r_d"
   ]
  },
  {
   "cell_type": "markdown",
   "id": "427a3fd9-6d06-415e-bc3d-52d9d4ae3486",
   "metadata": {},
   "source": [
    "<p style=\"font-weight: bold; font-size: 15px;\">Explanation\n",
    "\n",
    "This code groups the data by device_code and then counts how many unique customers each device has using n_distinct(cliente). \n",
    "Next, it filters the devices that have 100 or more unique customers, and finally, it sorts the results from highest\n"
   ]
  },
  {
   "cell_type": "markdown",
   "id": "c6b17ed7-d87f-456f-9885-b4d5723d3a95",
   "metadata": {},
   "source": [
    "<p style=\"font-weight: bold; font-size: 15px;\">3. What are the 5 neighborhoods where the most unique customers make transactions on POS devices? The answer should include the number of customers associated with these neighborhoods.</p>\n"
   ]
  },
  {
   "cell_type": "markdown",
   "id": "3957407c-1a5b-4f73-b9be-8a6539c845c0",
   "metadata": {},
   "source": [
    "<p style=\"font-weight: bold; font-size: 15px;\">SQL</p>"
   ]
  },
  {
   "cell_type": "markdown",
   "id": "f8266e72-18f3-4920-84a4-5c243c76b937",
   "metadata": {},
   "source": [
    "<div style=\"background-color: #f9f9f9; padding: 15px; border-radius: 8px; font-family: 'Courier New', monospace; font-size: 16px;\">\n",
    "    <pre><code style=\"color: darkred;\">SELECT \n",
    "    b.nombre_barrio, \n",
    "    COUNT(DISTINCT (c.cliente)) \n",
    "FROM \n",
    "    clientes c \n",
    "LEFT JOIN \n",
    "    dispositivos d ON d.codigo_dispositivo = c.codigo_dispositivo \n",
    "LEFT JOIN \n",
    "    barrios b ON b.id_barrio = d.id_barrio \n",
    "WHERE \n",
    "    c.tipo_dispositivo = 'POS' \n",
    "GROUP BY \n",
    "    b.nombre_barrio \n",
    "ORDER BY \n",
    "    COUNT(DISTINCT (c.cliente)) DESC \n",
    "LIMIT 5;</code></pre>\n",
    "</div>"
   ]
  },
  {
   "cell_type": "markdown",
   "id": "651c5191-0a43-4145-ba00-fe1b5af1daf8",
   "metadata": {},
   "source": [
    "<p style=\"font-weight: bold; font-size: 15px;\">Explanation:\n",
    "\n",
    "The following operations were performed in the query:\n",
    "\n",
    "Table join: A LEFT JOIN was used to combine the devices and neighborhoods tables. This type of join allows each device to be associated with its corresponding neighborhood, even if some devices do not have an associated neighborhood.\n",
    "\n",
    "Counting unique customers: The COUNT and DISTINCT functions were applied to count the number of unique customers in each neighborhood. This ensures that duplicate customers are not counted.\n",
    "\n",
    "Data filtering: The WHERE clause was used to filter the devices so that only POS devices were included. This restricts the results to this specific type of device.\n",
    "\n",
    "Grouping and sorting: Then, GROUP BY was used to group the results by neighborhood, and ORDER BY DESC was used to sort the neighborhoods from highest to lowest based on the number of unique customers.\n",
    "\n",
    "Result limitation: Finally, LIMIT 5 was applied to obtain only the top five neighborhoods with the highest number of unique customers.</p>\n"
   ]
  },
  {
   "cell_type": "markdown",
   "id": "dea476cb-4ea4-4e2b-9f1e-2307d3f9a38a",
   "metadata": {},
   "source": [
    "<p style=\"font-weight: bold; font-size: 15px;\">python code: </p>"
   ]
  },
  {
   "cell_type": "code",
   "execution_count": 15,
   "id": "e0ffb150-288c-4808-b599-72de169c0288",
   "metadata": {},
   "outputs": [
    {
     "data": {
      "text/html": [
       "<div>\n",
       "<style scoped>\n",
       "    .dataframe tbody tr th:only-of-type {\n",
       "        vertical-align: middle;\n",
       "    }\n",
       "\n",
       "    .dataframe tbody tr th {\n",
       "        vertical-align: top;\n",
       "    }\n",
       "\n",
       "    .dataframe thead th {\n",
       "        text-align: right;\n",
       "    }\n",
       "</style>\n",
       "<table border=\"1\" class=\"dataframe\">\n",
       "  <thead>\n",
       "    <tr style=\"text-align: right;\">\n",
       "      <th></th>\n",
       "      <th>nombre_barrio</th>\n",
       "      <th>cliente</th>\n",
       "    </tr>\n",
       "  </thead>\n",
       "  <tbody>\n",
       "    <tr>\n",
       "      <th>215</th>\n",
       "      <td>San Vicente</td>\n",
       "      <td>1295</td>\n",
       "    </tr>\n",
       "    <tr>\n",
       "      <th>250</th>\n",
       "      <td>Urbanización San Juaquín</td>\n",
       "      <td>899</td>\n",
       "    </tr>\n",
       "    <tr>\n",
       "      <th>214</th>\n",
       "      <td>San Pedro</td>\n",
       "      <td>775</td>\n",
       "    </tr>\n",
       "    <tr>\n",
       "      <th>222</th>\n",
       "      <td>Santa Mónica Residencial</td>\n",
       "      <td>753</td>\n",
       "    </tr>\n",
       "    <tr>\n",
       "      <th>243</th>\n",
       "      <td>Urbanización Ciudad Jardín</td>\n",
       "      <td>699</td>\n",
       "    </tr>\n",
       "  </tbody>\n",
       "</table>\n",
       "</div>"
      ],
      "text/plain": [
       "                  nombre_barrio  cliente\n",
       "215                 San Vicente     1295\n",
       "250    Urbanización San Juaquín      899\n",
       "214                   San Pedro      775\n",
       "222    Santa Mónica Residencial      753\n",
       "243  Urbanización Ciudad Jardín      699"
      ]
     },
     "execution_count": 15,
     "metadata": {},
     "output_type": "execute_result"
    }
   ],
   "source": [
    "df3 = df_clientes\n",
    "\n",
    "# Step 1: Merge the 'clientes', 'dispositivos', and 'barrios' tables using the corresponding keys\n",
    "df3_a = pd.merge(df3, df_dispositivos, on='codigo_dispositivo', how='left')\n",
    "df3_b = pd.merge(df3_a, df_barrios, on='id_barrio', how='left')\n",
    "\n",
    "# Step 2: Filter to keep only the devices of type 'POS'\n",
    "df3_c = df3_b[df3_b['tipo_dispositivo_y'] == 'POS']\n",
    "\n",
    "# Step 3: Select the 'nombre_barrio' and 'cliente' columns for analysis\n",
    "df3_d = df3_c[['nombre_barrio', 'cliente']]\n",
    "\n",
    "# Step 4: Group by 'nombre_barrio' and count the unique clients in each neighborhood\n",
    "df3_f = df3_d.groupby('nombre_barrio')['cliente'].nunique().reset_index()\n",
    "\n",
    "# Step 5: Sort the neighborhoods by the number of unique clients in descending order\n",
    "df3_g = df3_f.sort_values(by='cliente', ascending=False)\n",
    "\n",
    "# Display the results (top 5)\n",
    "df3_g.head()\n",
    "\n"
   ]
  },
  {
   "cell_type": "markdown",
   "id": "467b0755-28a2-41e3-9ef9-1edf6ae0db56",
   "metadata": {},
   "source": [
    "<p style=\"font-size: 15px;\">\n",
    "    <strong>Explanation:</strong><br><br>\n",
    "    This code aims to analyze the number of unique customers in each neighborhood, using 'POS' type devices. First, three tables are merged: <code>df_clientes</code>, <code>df_dispositivos</code>, and <code>df_barrios</code>. A left join is performed between <code>df_clientes</code> and <code>df_dispositivos</code> using the key <code>codigo_dispositivo</code>, and then another left join is made between the resulting table and <code>df_barrios</code> using the <code>id_barrio</code> field. After that, the data is filtered to keep only records of devices that are of type 'POS', using the value from the <code>tipo_dispositivo_y</code> column. Next, only the relevant columns, in this case <code>nombre_barrio</code> and <code>cliente</code>, are selected for the analysis. Then, the data is grouped by neighborhood (<code>nombre_barrio</code>) and the unique customers in each neighborhood are counted using the <code>nunique()</code> function. Finally, the neighborhoods are sorted by the number of unique customers in descending order, and the top 5 results are displayed. This allows for a list of neighborhoods with the highest number of unique customers associated with 'POS' type devices.\n",
    "</p>\n"
   ]
  },
  {
   "cell_type": "markdown",
   "id": "8c9a92c0-56e5-4f95-9eb0-d8dc98b5ee75",
   "metadata": {},
   "source": [
    "<p style=\"font-weight: bold; font-size: 15px;\">R code: </p>"
   ]
  },
  {
   "cell_type": "code",
   "execution_count": 24,
   "id": "e1721362-16bb-4959-b862-2d54264efe72",
   "metadata": {},
   "outputs": [],
   "source": [
    "df_3_r <- dfr_clientes"
   ]
  },
  {
   "cell_type": "code",
   "execution_count": 25,
   "id": "1a019c7a-a77a-4b26-96f9-7eb41519e2b5",
   "metadata": {},
   "outputs": [
    {
     "data": {
      "text/html": [
       "<table class=\"dataframe\">\n",
       "<caption>A tibble: 5 × 2</caption>\n",
       "<thead>\n",
       "\t<tr><th scope=col>nombre_barrio</th><th scope=col>clientes_unicos</th></tr>\n",
       "\t<tr><th scope=col>&lt;chr&gt;</th><th scope=col>&lt;int&gt;</th></tr>\n",
       "</thead>\n",
       "<tbody>\n",
       "\t<tr><td>San Vicente               </td><td>1295</td></tr>\n",
       "\t<tr><td>Urbanización San Juaquín  </td><td> 899</td></tr>\n",
       "\t<tr><td>San Pedro                 </td><td> 775</td></tr>\n",
       "\t<tr><td>Santa Mónica Residencial  </td><td> 753</td></tr>\n",
       "\t<tr><td>Urbanización Ciudad Jardín</td><td> 699</td></tr>\n",
       "</tbody>\n",
       "</table>\n"
      ],
      "text/latex": [
       "A tibble: 5 × 2\n",
       "\\begin{tabular}{ll}\n",
       " nombre\\_barrio & clientes\\_unicos\\\\\n",
       " <chr> & <int>\\\\\n",
       "\\hline\n",
       "\t San Vicente                & 1295\\\\\n",
       "\t Urbanización San Juaquín   &  899\\\\\n",
       "\t San Pedro                  &  775\\\\\n",
       "\t Santa Mónica Residencial   &  753\\\\\n",
       "\t Urbanización Ciudad Jardín &  699\\\\\n",
       "\\end{tabular}\n"
      ],
      "text/markdown": [
       "\n",
       "A tibble: 5 × 2\n",
       "\n",
       "| nombre_barrio &lt;chr&gt; | clientes_unicos &lt;int&gt; |\n",
       "|---|---|\n",
       "| San Vicente                | 1295 |\n",
       "| Urbanización San Juaquín   |  899 |\n",
       "| San Pedro                  |  775 |\n",
       "| Santa Mónica Residencial   |  753 |\n",
       "| Urbanización Ciudad Jardín |  699 |\n",
       "\n"
      ],
      "text/plain": [
       "  nombre_barrio              clientes_unicos\n",
       "1 San Vicente                1295           \n",
       "2 Urbanización San Juaquín    899           \n",
       "3 San Pedro                   775           \n",
       "4 Santa Mónica Residencial    753           \n",
       "5 Urbanización Ciudad Jardín  699           "
      ]
     },
     "metadata": {},
     "output_type": "display_data"
    }
   ],
   "source": [
    "# Step 1: Join the 'clientes', 'dispositivos', and 'barrios' tables by the corresponding keys\n",
    "df_3_r_a <- left_join(df_3_r, dfr_dispositivos, by = 'codigo_dispositivo', relationship = \"many-to-many\")\n",
    "df_3_r_b <- left_join(df_3_r_a, dfr_barrios, by = 'id_barrio')\n",
    "\n",
    "# Step 2: Filter to keep only the 'POS' type devices\n",
    "df_3_r_c <- df_3_r_b %>% filter(tipo_dispositivo.x == 'POS')  # Or use tipo_dispositivo.y if applicable\n",
    "\n",
    "# Step 3: Select the 'nombre_barrio' and 'cliente' columns for analysis\n",
    "df_3_r_d <- df_3_r_c %>% select(nombre_barrio, cliente)\n",
    "\n",
    "# Step 4: Group by 'nombre_barrio' and count the unique customers in each neighborhood\n",
    "df_3_r_f <- df_3_r_d %>% group_by(nombre_barrio) %>% summarise(clientes_unicos = n_distinct(cliente))\n",
    "\n",
    "# Step 5: Sort the neighborhoods by the number of unique customers in descending order\n",
    "df_3_r_g <- df_3_r_f %>% arrange(desc(clientes_unicos))\n",
    "\n",
    "# Display the results (top 5)\n",
    "head(df_3_r_g,5)\n"
   ]
  },
  {
   "cell_type": "markdown",
   "id": "17d73b3e-c406-4fd4-bc16-958949235d4c",
   "metadata": {},
   "source": [
    "<p style=\"font-weight: bold; font-size: 15px;\">Explanation:\n",
    "\n",
    "This code starts with the joining of three tables using left_join. First, <code>df_3_r</code> is joined with <code>dfr_dispositivos</code> using the key <code>codigo_dispositivo</code>, and then the result is joined with <code>dfr_barrios</code> using the key <code>id_barrio</code>. These joins ensure that all records from the <code>df_3_r</code> table are retained, adding information from the other two tables where matches exist.\n",
    "\n",
    "Then, the data is filtered to keep only 'POS' type devices using the filter <code>filter(tipo_dispositivo.x == 'POS')</code>, ensuring that only these devices are used in the following steps.\n",
    "\n",
    "Next, only the columns <code>nombre_barrio</code> and <code>cliente</code> are selected to focus on the analysis of neighborhoods and their customers. The data is then grouped by neighborhood (<code>nombre_barrio</code>) and the unique customers for each one are counted using <code>n_distinct(cliente)</code>.\n",
    "\n",
    "Finally, the neighborhoods are sorted in descending order based on the number of unique customers, and the top five neighborhoods with the most customers are displayed.</p>\n"
   ]
  },
  {
   "cell_type": "markdown",
   "id": "06af0114-04b3-47e0-9d4b-5ecdc8b9afc9",
   "metadata": {},
   "source": [
    "<p style=\"font-weight: bold; font-size: 15px;\">4. What are the 10 unique distances (in kilometers) between the farthest devices from each other in the Sucre neighborhood? </p>\n"
   ]
  },
  {
   "cell_type": "markdown",
   "id": "6318aa7b-5446-4abd-8f55-8eceaab129a0",
   "metadata": {},
   "source": [
    "<div style=\"background-color: #f9f9f9; padding: 15px; border-radius: 8px; font-family: 'Courier New', monospace; font-size: 16px;\">\n",
    "    <pre><code style=\"color: darkcyan;\">\n",
    "WITH Distancia_km AS (\n",
    "    SELECT \n",
    "        d.codigo_dispositivo, \n",
    "        d2.codigo_dispositivo,\n",
    "        6371 * 2 * ASIN(\n",
    "            SQRT(\n",
    "                POWER(SIN(RADIANS(d2.latitud - d.latitud) / 2), 2) + \n",
    "                COS(RADIANS(d.latitud)) * COS(RADIANS(d2.latitud)) * \n",
    "                POWER(SIN(RADIANS(d2.longitud - d.longitud) / 2), 2)\n",
    "            )\n",
    "        ) AS Distance\n",
    "    FROM dispositivos d\n",
    "    JOIN dispositivos d2 \n",
    "        ON d.codigo_dispositivo <> d2.codigo_dispositivo\n",
    "    LEFT JOIN barrios b \n",
    "        ON b.id_barrio = d.id_barrio \n",
    "        AND b.id_barrio = d2.id_barrio \n",
    "    WHERE UPPER(b.nombre_barrio) = 'SUCRE'\n",
    ")\n",
    "SELECT DISTINCT Distance \n",
    "FROM Distancia_km\n",
    "ORDER BY Distance DESC \n",
    "LIMIT 10;\n",
    "    </code></pre>\n",
    "</div>"
   ]
  },
  {
   "cell_type": "markdown",
   "id": "24fe2418-cfd0-4ba8-bde6-b96f2d2f4d4c",
   "metadata": {},
   "source": [
    "<p style=\"font-size: 15px;\">\n",
    "    <strong>Explanation:</strong><br><br>\n",
    "    The distance is calculated using the Haversine formula based on the geographic coordinates (latitude and longitude) of the devices.<br><br>\n",
    "    WITH Distancia_km AS (...): Creates a temporary table that calculates the distance between each pair of devices.<br>\n",
    "    Haversine Formula: Calculates the distance in km between two points using their latitudes and longitudes.<br>\n",
    "    <img src=\"https://media.licdn.com/dms/image/v2/C4E12AQELArpNkVXXrw/article-inline_image-shrink_400_744/article-inline_image-shrink_400_744/0/1651494217361?e=2147483647&v=beta&t=XrYXCIkotJOXv_290Y6a5s4I41XeYXmTpaA1C-4rlFw\"  style=\"max-width: 100%; height: auto; margin-top: 10px;\"> .<br>\n",
    "    JOIN dispositivos d2: Pairs each device with all others (except itself).<br>\n",
    "    LEFT JOIN barrios b: Ensures both devices are in the \"Sucre\" neighborhood.<br>\n",
    "    SELECT DISTINCT Distance: Displays the calculated distances, ordered from highest to lowest, and limited to the top 10 largest distances.\n",
    "</p>\n",
    "\n",
    "\n",
    "\n"
   ]
  },
  {
   "cell_type": "markdown",
   "id": "df7bfbbd-15aa-44b1-8919-8bc6fdd40af7",
   "metadata": {},
   "source": [
    "<p style=\"font-weight: bold; font-size: 15px;\">Python Code: </p>"
   ]
  },
  {
   "cell_type": "code",
   "execution_count": 16,
   "id": "0dc1028d-f13d-4b43-85f6-8a4ca59a4d9f",
   "metadata": {},
   "outputs": [
    {
     "name": "stderr",
     "output_type": "stream",
     "text": [
      "/tmp/ipykernel_10701/676723819.py:21: SettingWithCopyWarning: \n",
      "A value is trying to be set on a copy of a slice from a DataFrame.\n",
      "Try using .loc[row_indexer,col_indexer] = value instead\n",
      "\n",
      "See the caveats in the documentation: https://pandas.pydata.org/pandas-docs/stable/user_guide/indexing.html#returning-a-view-versus-a-copy\n",
      "  df4_d['distancia'] = 6371 * 2 * np.arcsin(\n"
     ]
    },
    {
     "data": {
      "text/html": [
       "<div>\n",
       "<style scoped>\n",
       "    .dataframe tbody tr th:only-of-type {\n",
       "        vertical-align: middle;\n",
       "    }\n",
       "\n",
       "    .dataframe tbody tr th {\n",
       "        vertical-align: top;\n",
       "    }\n",
       "\n",
       "    .dataframe thead th {\n",
       "        text-align: right;\n",
       "    }\n",
       "</style>\n",
       "<table border=\"1\" class=\"dataframe\">\n",
       "  <thead>\n",
       "    <tr style=\"text-align: right;\">\n",
       "      <th></th>\n",
       "      <th>distancia</th>\n",
       "    </tr>\n",
       "  </thead>\n",
       "  <tbody>\n",
       "    <tr>\n",
       "      <th>14698</th>\n",
       "      <td>0.997410</td>\n",
       "    </tr>\n",
       "    <tr>\n",
       "      <th>14434</th>\n",
       "      <td>0.993480</td>\n",
       "    </tr>\n",
       "    <tr>\n",
       "      <th>14664</th>\n",
       "      <td>0.991730</td>\n",
       "    </tr>\n",
       "    <tr>\n",
       "      <th>14718</th>\n",
       "      <td>0.991717</td>\n",
       "    </tr>\n",
       "    <tr>\n",
       "      <th>14500</th>\n",
       "      <td>0.988943</td>\n",
       "    </tr>\n",
       "    <tr>\n",
       "      <th>64346</th>\n",
       "      <td>0.988261</td>\n",
       "    </tr>\n",
       "    <tr>\n",
       "      <th>43930</th>\n",
       "      <td>0.987262</td>\n",
       "    </tr>\n",
       "    <tr>\n",
       "      <th>34186</th>\n",
       "      <td>0.986266</td>\n",
       "    </tr>\n",
       "    <tr>\n",
       "      <th>14499</th>\n",
       "      <td>0.984829</td>\n",
       "    </tr>\n",
       "    <tr>\n",
       "      <th>23338</th>\n",
       "      <td>0.984315</td>\n",
       "    </tr>\n",
       "  </tbody>\n",
       "</table>\n",
       "</div>"
      ],
      "text/plain": [
       "       distancia\n",
       "14698   0.997410\n",
       "14434   0.993480\n",
       "14664   0.991730\n",
       "14718   0.991717\n",
       "14500   0.988943\n",
       "64346   0.988261\n",
       "43930   0.987262\n",
       "34186   0.986266\n",
       "14499   0.984829\n",
       "23338   0.984315"
      ]
     },
     "execution_count": 16,
     "metadata": {},
     "output_type": "execute_result"
    }
   ],
   "source": [
    "df4 = df_dispositivos\n",
    "# Step 1: Merge the dataframes\n",
    "df4_a = pd.merge(df4, df_barrios, on='id_barrio', how='left')\n",
    "\n",
    "# Step 2: Filter by neighborhood name 'SUCRE'\n",
    "df4_a = df4_a[df4_a['nombre_barrio'].str.upper() == 'SUCRE']\n",
    "\n",
    "# Step 3: Select the necessary columns\n",
    "df4_a = df4_a[['codigo_dispositivo', 'latitud', 'longitud']]\n",
    "\n",
    "# Step 4: Rename columns for the second device\n",
    "df4_b = df4_a.rename(columns={'latitud': 'latitud2', 'longitud': 'longitud2'})\n",
    "\n",
    "# Step 5: Create the cross dataframe\n",
    "df4_c = df4_a.merge(df4_b, how='cross')\n",
    "\n",
    "# Step 6: Filter rows where devices are different\n",
    "df4_d = df4_c[df4_c['codigo_dispositivo_x'] != df4_c['codigo_dispositivo_y']]\n",
    "\n",
    "# Step 7: Calculate the distances\n",
    "df4_d['distancia'] = 6371 * 2 * np.arcsin(\n",
    "    np.sqrt(\n",
    "        np.power(np.sin(np.radians(df4_d['latitud2'] - df4_d['latitud']) / 2), 2) +\n",
    "        np.cos(np.radians(df4_d['latitud'])) * np.cos(np.radians(df4_d['latitud2'])) *\n",
    "        np.power(np.sin(np.radians(df4_d['longitud2'] - df4_d['longitud']) / 2), 2)\n",
    "    )\n",
    ")\n",
    "\n",
    "# Step 8: Create df4_f with only the 'distancia' column\n",
    "df4_f = df4_d[['distancia']].copy()  # Using .copy() to ensure it's a copy\n",
    "\n",
    "# Step 9: Remove duplicates and round to 6 decimal places\n",
    "df4_g = df4_f.drop_duplicates(subset=['distancia'])\n",
    "df4_g.loc[:, 'distancia'] = df4_g['distancia'].round(6)\n",
    "\n",
    "# Step 10: Sort the 'distancia' values in descending order\n",
    "df4_g = df4_g.sort_values(by='distancia', ascending=False)\n",
    "\n",
    "# Step 11: Show the top 10 results\n",
    "df4_g.head(10)"
   ]
  },
  {
   "cell_type": "markdown",
   "id": "79210bd6-2d3c-42ec-8f57-8d29892c4db5",
   "metadata": {},
   "source": [
    "<p style=\"font-size: 15px;\">\n",
    "    <strong>Explanation:</strong><br><br>\n",
    "    This code aims to calculate the distance between geolocated devices in a specific neighborhood, filtering and processing the data to obtain a sorted list of unique distances. First, a merge is performed between two DataFrames (<code>df_dispositivos</code> and <code>df_barrios</code>) using the neighborhood identifier, and only the neighborhood named \"SUCRE\" is filtered. Then, the columns for device code, latitude, and longitude are selected for processing, renaming the latitude and longitude columns of the second device to avoid confusion in the calculation. A cross join is created (a combination of all devices with other devices in the same neighborhood), and devices that are the same are filtered out. Then, the distance between each pair of devices is calculated using the Haversine formula, which uses the geographic coordinates (latitude and longitude) of the devices to obtain the distance in kilometers. After calculating the distance, only the relevant column is extracted, duplicates are removed, and the values are rounded to six decimal places to ensure a precise and consistent representation. Finally, the results are sorted in descending order, and the top 10 highest values are displayed. All of this generates an accurate list of unique and sorted distances between devices within the \"SUCRE\" neighborhood.\n",
    "</p>"
   ]
  },
  {
   "cell_type": "markdown",
   "id": "f25253f5-3640-4e19-8d44-c0b3e600fdaa",
   "metadata": {},
   "source": [
    "<p style=\"font-weight: bold; font-size: 15px;\">R code: </p>"
   ]
  },
  {
   "cell_type": "code",
   "execution_count": 26,
   "id": "8d4afe05-8ff9-4f60-bc60-8edbb05da0bf",
   "metadata": {},
   "outputs": [],
   "source": [
    "df4_r <- dfr_dispositivos"
   ]
  },
  {
   "cell_type": "code",
   "execution_count": 27,
   "id": "cbec19bf-62cd-40a9-bf34-16c4b52672c6",
   "metadata": {},
   "outputs": [
    {
     "data": {
      "text/html": [
       "<table class=\"dataframe\">\n",
       "<caption>A data.frame: 10 × 1</caption>\n",
       "<thead>\n",
       "\t<tr><th></th><th scope=col>distancia</th></tr>\n",
       "\t<tr><th></th><th scope=col>&lt;dbl&gt;</th></tr>\n",
       "</thead>\n",
       "<tbody>\n",
       "\t<tr><th scope=row>1</th><td>0.997410</td></tr>\n",
       "\t<tr><th scope=row>2</th><td>0.993480</td></tr>\n",
       "\t<tr><th scope=row>3</th><td>0.991730</td></tr>\n",
       "\t<tr><th scope=row>4</th><td>0.991717</td></tr>\n",
       "\t<tr><th scope=row>5</th><td>0.988943</td></tr>\n",
       "\t<tr><th scope=row>6</th><td>0.988261</td></tr>\n",
       "\t<tr><th scope=row>7</th><td>0.987262</td></tr>\n",
       "\t<tr><th scope=row>8</th><td>0.986266</td></tr>\n",
       "\t<tr><th scope=row>9</th><td>0.984829</td></tr>\n",
       "\t<tr><th scope=row>10</th><td>0.984315</td></tr>\n",
       "</tbody>\n",
       "</table>\n"
      ],
      "text/latex": [
       "A data.frame: 10 × 1\n",
       "\\begin{tabular}{r|l}\n",
       "  & distancia\\\\\n",
       "  & <dbl>\\\\\n",
       "\\hline\n",
       "\t1 & 0.997410\\\\\n",
       "\t2 & 0.993480\\\\\n",
       "\t3 & 0.991730\\\\\n",
       "\t4 & 0.991717\\\\\n",
       "\t5 & 0.988943\\\\\n",
       "\t6 & 0.988261\\\\\n",
       "\t7 & 0.987262\\\\\n",
       "\t8 & 0.986266\\\\\n",
       "\t9 & 0.984829\\\\\n",
       "\t10 & 0.984315\\\\\n",
       "\\end{tabular}\n"
      ],
      "text/markdown": [
       "\n",
       "A data.frame: 10 × 1\n",
       "\n",
       "| <!--/--> | distancia &lt;dbl&gt; |\n",
       "|---|---|\n",
       "| 1 | 0.997410 |\n",
       "| 2 | 0.993480 |\n",
       "| 3 | 0.991730 |\n",
       "| 4 | 0.991717 |\n",
       "| 5 | 0.988943 |\n",
       "| 6 | 0.988261 |\n",
       "| 7 | 0.987262 |\n",
       "| 8 | 0.986266 |\n",
       "| 9 | 0.984829 |\n",
       "| 10 | 0.984315 |\n",
       "\n"
      ],
      "text/plain": [
       "   distancia\n",
       "1  0.997410 \n",
       "2  0.993480 \n",
       "3  0.991730 \n",
       "4  0.991717 \n",
       "5  0.988943 \n",
       "6  0.988261 \n",
       "7  0.987262 \n",
       "8  0.986266 \n",
       "9  0.984829 \n",
       "10 0.984315 "
      ]
     },
     "metadata": {},
     "output_type": "display_data"
    }
   ],
   "source": [
    "# Step 1: Perform the join and filter the data for 'Sucre'\n",
    "df4_r_a <- left_join(df4_r, dfr_barrios, by = 'id_barrio') %>% \n",
    "  filter(toupper(nombre_barrio) == 'SUCRE') \n",
    "df4_r_a <- df4_r_a[, c('codigo_dispositivo', 'latitud', 'longitud')]\n",
    "\n",
    "df4_r_b <- left_join(df4_r, dfr_barrios, by = 'id_barrio') %>% \n",
    "  filter(toupper(nombre_barrio) == 'SUCRE')\n",
    "df4_r_b <- df4_r_b[, c('codigo_dispositivo', 'latitud', 'longitud')]\n",
    "\n",
    "# Step 2: Merge df4_r_a and df4_r_b\n",
    "df4_r_c <- merge(df4_r_a, df4_r_b, by = NULL)\n",
    "\n",
    "# Step 3: Filter out the rows where device codes are the same\n",
    "df4_r_c <- df4_r_c %>% filter(codigo_dispositivo.x != codigo_dispositivo.y)\n",
    "\n",
    "# Step 4: Rename the columns appropriately\n",
    "df4_r_c <- df4_r_c %>% rename(\n",
    "  la1 = latitud.x,  la2 = latitud.y, \n",
    "  lo1 = longitud.x, lo2 = longitud.y, \n",
    "  d1 = codigo_dispositivo.x, d2 = codigo_dispositivo.y\n",
    ")\n",
    "\n",
    "# Step 5: Convert latitudes and longitudes to radians (necessary for the formula)\n",
    "df4_r_c$la1_rad <- deg2rad(df4_r_c$la1)\n",
    "df4_r_c$la2_rad <- deg2rad(df4_r_c$la2)\n",
    "df4_r_c$lo1_rad <- deg2rad(df4_r_c$lo1)\n",
    "df4_r_c$lo2_rad <- deg2rad(df4_r_c$lo2)\n",
    "\n",
    "# Step 6: Calculate the distance using the Haversine formula, which requires latitudes and longitudes in radians\n",
    "df4_r_c$distancia <- 6371 * 2 * asin(\n",
    "  sqrt(\n",
    "    (sin((df4_r_c$la2_rad - df4_r_c$la1_rad) / 2))^2 + \n",
    "    cos(df4_r_c$la1_rad) * cos(df4_r_c$la2_rad) * \n",
    "    (sin((df4_r_c$lo2_rad - df4_r_c$lo1_rad) / 2))^2\n",
    "  )\n",
    ")\n",
    "\n",
    "# Step 7: Remove duplicates and format the 'distancia' column\n",
    "df4_r_d <- df4_r_c %>%\n",
    "  select(distancia) %>%        # Select only the 'distancia' column\n",
    "  distinct()                   # Remove duplicates in 'distancia'\n",
    "\n",
    "# Step 8: Convert 'distancia' to decimal format (without scientific notation)\n",
    "df4_r_d$distancia <- round(df4_r_d$distancia, 6)\n",
    "\n",
    "# Step 9: Sort the results based on the 'distancia' column\n",
    "df4_r_d <- df4_r_d %>% arrange(desc(distancia))\n",
    "\n",
    "# Display the first 10 results\n",
    "head(df4_r_d, 10)\n",
    "\n",
    "\n"
   ]
  },
  {
   "cell_type": "markdown",
   "id": "39fb8b25-5685-4218-9c39-3fa1b5ed0264",
   "metadata": {},
   "source": [
    "<p style=\"font-size: 15px;\"> <strong>Explanation:</strong><br><br> This code aims to calculate the distances between devices located in the \"SUCRE\" neighborhood using their geographic coordinates (latitude and longitude). First, a <code>left_join</code> is performed between the devices dataframe (<code>df4_r</code>) and the neighborhoods dataframe (<code>dfr_barrios</code>) using the neighborhood identifier (<code>id_barrio</code>). Devices belonging to the \"SUCRE\" neighborhood are filtered using <code>filter(toupper(nombre_barrio) == 'SUCRE')</code>. Then, the device code, latitude, and longitude columns are selected. This process is repeated to generate two datasets, <code>df4_r_a</code> and <code>df4_r_b</code>, containing information about devices in the neighborhood.</p>\n"
   ]
  },
  {
   "cell_type": "markdown",
   "id": "afdc21ee-4656-4b13-90a3-8211cc960ac7",
   "metadata": {},
   "source": [
    "<p style=\"text-align:center; color:navy; font-size: 15px;\">\n",
    "  Created by <strong><em>Klissmann Anaclerio.</em></strong><br>\n",
    "  Distribution without authorization is prohibited.\n",
    "</p>\n"
   ]
  },
  {
   "cell_type": "markdown",
   "id": "8c979df2-18bf-4534-968c-926c259991b4",
   "metadata": {},
   "source": [
    "<img src=\"https://blog.tryshiftcdn.com/uploads/2021/11/use.jpg\" alt=\"Imagen explicativa\" style=\"max-width: 50%; height: auto; display: block; margin-left: auto; margin-right: auto; margin-bottom: 15px;\">\n"
   ]
  }
 ],
 "metadata": {
  "kernelspec": {
   "display_name": "Python 3 (ipykernel)",
   "language": "python",
   "name": "python3"
  },
  "language_info": {
   "codemirror_mode": {
    "name": "ipython",
    "version": 3
   },
   "file_extension": ".py",
   "mimetype": "text/x-python",
   "name": "python",
   "nbconvert_exporter": "python",
   "pygments_lexer": "ipython3",
   "version": "3.10.12"
  }
 },
 "nbformat": 4,
 "nbformat_minor": 5
}
